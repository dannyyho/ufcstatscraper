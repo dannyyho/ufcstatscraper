
{
  "nbformat": 4,
  "nbformat_minor": 0,
  "metadata": {
    "colab": {
      "provenance": [],
      "collapsed_sections": []
    },
    "kernelspec": {
      "name": "python3",
      "display_name": "Python 3"
    },
    "language_info": {
      "name": "python"
    }
  },
  "cells": [
    {
      "cell_type": "code",
      "execution_count": null,
      "metadata": {
        "colab": {
          "base_uri": "https://localhost:8080/"
        },
        "id": "euJnfmh9ymSI",
        "outputId": "1577ff55-b234-4a5d-f639-9c53e257c817"
      },
      "outputs": [
        {
          "output_type": "stream",
          "name": "stdout",
          "text": [
            "Drive already mounted at /drive; to attempt to forcibly remount, call drive.mount(\"/drive\", force_remount=True).\n"
          ]
        }
      ],
      "source": [
        "import pandas as pd\n",
        "from google.colab import drive\n",
        "drive.mount('/drive')\n",
        "\n",
        "# data = pd.read_csv('/drive/My Drive/feed.csv')\n",
        "# data = pd.read_csv('/drive/My Drive/FEED3.csv')\n",
        "data1 = pd.read_csv('/drive/My Drive/feedw2.csv')"
      ]
    },
    {
      "cell_type": "markdown",
      "source": [
        "impute missing height by average of weight (post split)\n",
        "\n",
        "impute missing reach by average reach based on same height (post split)\n",
        "\n",
        "impute missing birthyear/age by average of dataset (30 Y/O) (post split)\n",
        "\n",
        "impute missing stance with \"orthodox\"\n",
        "\n",
        "openstance and sideways to orthodox\n",
        "\n",
        "\n",
        "FE\n",
        "\n",
        "calculate age\n",
        "\n",
        "calculate total fights"
      ],
      "metadata": {
        "id": "hCwB2kRj3vrl"
      }
    },
    {
      "cell_type": "code",
      "source": [
        "import pandas as pd\n",
        "import numpy as np\n",
        "import torch\n",
        "import torch.nn as nn\n",
        "import torch.nn.functional as F\n",
        "from torch.utils.data import Dataset, DataLoader\n",
        "from sklearn.model_selection import train_test_split\n",
        "from sklearn.preprocessing import StandardScaler"
      ],
      "metadata": {
        "id": "FL0XdNhF__hN"
      },
      "execution_count": null,
      "outputs": []
    },
    {
      "cell_type": "markdown",
      "source": [
        "# DATA PREPROCESSING"
      ],
      "metadata": {
        "id": "QXqx5hQbBjL-"
      }
    },
    {
      "cell_type": "code",
      "source": [
        "# use matches that have a winner, ignore nc, draws DO NOT RERUN FOR PREDICTION\n",
        "data = data.loc[(data[\"winner\"] == 1) | (data[\"winner\"] == 2)]\n",
        "data[\"winner2\"] = data[\"winner\"].apply(lambda x: 1 if x == 1 else 0) "
      ],
      "metadata": {
        "id": "kVjh9g8Ngibb",
        "colab": {
          "base_uri": "https://localhost:8080/"
        },
        "outputId": "8e4b859b-7373-4f62-aafd-2850e4995993"
      },
      "execution_count": null,
      "outputs": [
        {
          "output_type": "stream",
          "name": "stderr",
          "text": [
            "/usr/local/lib/python3.7/dist-packages/ipykernel_launcher.py:3: SettingWithCopyWarning: \n",
            "A value is trying to be set on a copy of a slice from a DataFrame.\n",
            "Try using .loc[row_indexer,col_indexer] = value instead\n",
            "\n",
            "See the caveats in the documentation: https://pandas.pydata.org/pandas-docs/stable/user_guide/indexing.html#returning-a-view-versus-a-copy\n",
            "  This is separate from the ipykernel package so we can avoid doing imports until\n"
          ]
        }
      ]
    },
    {
      "cell_type": "code",
      "source": [
        "# impute missing fighter stances to Orthodox\n",
        "def missing_stance(x):\n",
        "  if x == \"--\":\n",
        "    return \"Orthodox\"\n",
        "  elif x == \"Open Stance\":\n",
        "    return \"Orthodox\"\n",
        "  elif x == \"Sideways\":\n",
        "    return \"Orthodox\"\n",
        "  else:\n",
        "    return x\n",
        "\n",
        "data[\"fighter1_stance\"] = data[\"fighter1_stance\"].apply(missing_stance)\n",
        "data[\"fighter2_stance\"] = data[\"fighter2_stance\"].apply(missing_stance)"
      ],
      "metadata": {
        "id": "3FGcSIi4oED-"
      },
      "execution_count": null,
      "outputs": []
    },
    {
      "cell_type": "code",
      "source": [
        "# impute missing fighter_birthyear\n",
        "def missing_birthyear(x):\n",
        "  if x == \"--\":\n",
        "    return 1992\n",
        "  else: \n",
        "    return x\n",
        "\n",
        "data[\"fighter1_birthyear\"] = data[\"fighter1_birthyear\"].apply(missing_birthyear)\n",
        "data[\"fighter2_birthyear\"] = data[\"fighter2_birthyear\"].apply(missing_birthyear)\n"
      ],
      "metadata": {
        "id": "3p6xTsSwn9Sp"
      },
      "execution_count": null,
      "outputs": []
    },
    {
      "cell_type": "code",
      "source": [
        "# calculate age field based on fighter birthyear\n",
        "\n",
        "data[\"fighter1_age\"] = 2022 - data[\"fighter1_birthyear\"].astype(str).astype(int)\n",
        "data[\"fighter2_age\"] = 2022 - data[\"fighter2_birthyear\"].astype(str).astype(int)\n",
        "\n",
        "data = data.drop(columns = [\"fighter1_birthyear\",\"fighter2_birthyear\"])"
      ],
      "metadata": {
        "id": "qaNFH1SNoAPs"
      },
      "execution_count": null,
      "outputs": []
    },
    {
      "cell_type": "code",
      "source": [
        "# calculate total fights for each fighter\n",
        "data[\"fighter1_totalfights\"] = data.iloc[:,10:14].sum(axis=1)\n",
        "data[\"fighter2_totalfights\"] = data.iloc[:,67:71].sum(axis=1)"
      ],
      "metadata": {
        "id": "Yy2RZqHLpFze"
      },
      "execution_count": null,
      "outputs": []
    },
    {
      "cell_type": "code",
      "source": [
        "# convert total fight time from seconds to minutes\n",
        "data[\"fighter1_total_time_fought\"] = data[\"fighter1_total_time_fought\"]/60\n",
        "data[\"fighter2_total_time_fought\"] = data[\"fighter2_total_time_fought\"]/60\n",
        "\n",
        "# convert CTRL time from seconds to minutes\n",
        "data[\"fighter1_CTRL\"] = data[\"fighter1_CTRL\"]/60\n",
        "data[\"fighter2_CTRL\"] = data[\"fighter2_CTRL\"]/60\n",
        "\n",
        "# convert CTRLED time from seconds to minutes\n",
        "data[\"fighter1_CTRLED\"] = data[\"fighter1_CTRLED\"]/60\n",
        "data[\"fighter2_CTRLED\"] = data[\"fighter2_CTRLED\"]/60"
      ],
      "metadata": {
        "id": "5IoVv-gmrL8_"
      },
      "execution_count": null,
      "outputs": []
    },
    {
      "cell_type": "markdown",
      "source": [
        "# FEATURE ENGINEERING"
      ],
      "metadata": {
        "id": "vuTJae4xvcUC"
      }
    },
    {
      "cell_type": "code",
      "source": [
        "#@title treatment for KD, REV, REVED, DOWNED\n",
        "# calculate wsub per SUBATT\n",
        "data[\"fighter1_wsub_subatt\"] = data[\"fighter1_wsub\"]/data[\"fighter1_SUBATT\"]\n",
        "data[\"fighter2_wsub_subatt\"] = data[\"fighter2_wsub\"]/data[\"fighter1_SUBATT\"]\n",
        "\n",
        "# calculate rounds fought per total fights\n",
        "data[\"fighter1_rounds_fought_totalfights\"] = data[\"fighter1_rounds_fought\"]/data[\"fighter1_totalfights\"]\n",
        "data[\"fighter2_rounds_fought_totalfights\"] = data[\"fighter2_rounds_fought\"]/data[\"fighter2_totalfights\"]\n",
        "\n",
        "# calculate KD per total fights\n",
        "data[\"fighter1_KD\"] = data[\"fighter1_KD\"]/data[\"fighter1_totalfights\"]\n",
        "data[\"fighter2_KD\"] = data[\"fighter2_KD\"]/data[\"fighter2_totalfights\"]\n",
        "\n",
        "# calculate DOWNED per total fights\n",
        "data[\"fighter1_DOWNED\"] = data[\"fighter1_DOWNED\"]/data[\"fighter1_totalfights\"]\n",
        "data[\"fighter2_DOWNED\"] = data[\"fighter2_DOWNED\"]/data[\"fighter2_totalfights\"]\n",
        "\n",
        "# subattempts per CTRL min\n",
        "data[\"fighter1_SUBATT_CTRL\"] = data[\"fighter1_SUBATT\"]/data[\"fighter1_CTRL\"]\n",
        "data.drop(columns = \"fighter1_SUBATT\")\n",
        "\n",
        "data[\"fighter2_SUBATT_CTRL\"] = data[\"fighter2_SUBATT\"]/data[\"fighter2_CTRL\"]\n",
        "data.drop(columns = \"fighter2_SUBATT\")\n",
        "\n",
        "# REV per total fight mins\n",
        "data[\"fighter1_REV_mins\"] = data[\"fighter1_REV\"]/data[\"fighter1_CTRL\"]\n",
        "data.drop(columns = \"fighter1_REV\")\n",
        "\n",
        "data[\"fighter2_REV_mins\"] = data[\"fighter2_REV\"]/data[\"fighter2_CTRL\"]\n",
        "data.drop(columns = \"fighter2_REV\")\n",
        "\n",
        "# REVED per total fight mins\n",
        "data[\"fighter1_REVED_mins\"] = data[\"fighter1_REVED\"]/data[\"fighter1_CTRL\"]\n",
        "data.drop(columns = \"fighter1_REV\")\n",
        "\n",
        "data[\"fighter2_REVED_mins\"] = data[\"fighter2_REVED\"]/data[\"fighter2_CTRL\"]\n",
        "data.drop(columns = \"fighter2_REV\")"
      ],
      "metadata": {
        "id": "AQ80iIAOvbPC"
      },
      "execution_count": null,
      "outputs": []
    },
    {
      "cell_type": "code",
      "source": [
        "#@title treatement for dynamic stats with attempts\n",
        "# calculate \"attempt\" features with per total fight mins, per attempt, and attempt per total fight mins\n",
        "data[\"fighter1_SS_mins\"] = data[\"fighter1_SS\"]/data[\"fighter1_total_time_fought\"]\n",
        "data[\"fighter1_SS_att\"] = data[\"fighter1_SS\"]/data[\"fighter1_SSA\"]\n",
        "data[\"fighter1_SSA_mins\"] = data[\"fighter1_SSA\"]/data[\"fighter1_total_time_fought\"]\n",
        "data.drop(columns = [\"fighter1_SS\",\"fighter1_SSA\"])\n",
        "\n",
        "data[\"fighter2_SS_mins\"] = data[\"fighter2_SS\"]/data[\"fighter2_total_time_fought\"]\n",
        "data[\"fighter2_SS_att\"] = data[\"fighter2_SS\"]/data[\"fighter2_SSA\"]\n",
        "data[\"fighter2_SSA_mins\"] = data[\"fighter2_SSA\"]/data[\"fighter2_total_time_fought\"]\n",
        "data.drop(columns = [\"fighter2_SS\",\"fighter2_SSA\"])\n",
        "\n",
        "# Takedowns\n",
        "data[\"fighter1_TD_mins\"] = data[\"fighter1_TD\"]/data[\"fighter1_total_time_fought\"]\n",
        "data[\"fighter1_TD_att\"] = data[\"fighter1_TD\"]/data[\"fighter1_TDA\"]\n",
        "data[\"fighter1_TD_mins\"] = data[\"fighter1_TD\"]/data[\"fighter1_total_time_fought\"]\n",
        "data.drop(columns = [\"fighter1_TD\",\"fighter1_TDA\"])\n",
        "\n",
        "data[\"fighter2_TD_mins\"] = data[\"fighter2_TD\"]/data[\"fighter2_total_time_fought\"]\n",
        "data[\"fighter2_TD_att\"] = data[\"fighter2_TD\"]/data[\"fighter2_TDA\"]\n",
        "data[\"fighter2_TD_mins\"] = data[\"fighter2_TD\"]/data[\"fighter2_total_time_fought\"]\n",
        "data.drop(columns = [\"fighter2_TD\",\"fighter2_TDA\"])\n",
        "\n",
        "# HS\n",
        "data[\"fighter1_HS_mins\"] = data[\"fighter1_HS\"]/data[\"fighter1_total_time_fought\"]\n",
        "data[\"fighter1_HS_att\"] = data[\"fighter1_HS\"]/data[\"fighter1_HSA\"]\n",
        "data[\"fighter1_HS_mins\"] = data[\"fighter1_HS\"]/data[\"fighter1_total_time_fought\"]\n",
        "data.drop(columns = [\"fighter1_HS\",\"fighter1_HSA\"])\n",
        "\n",
        "data[\"fighter2_HS_mins\"] = data[\"fighter2_HS\"]/data[\"fighter2_total_time_fought\"]\n",
        "data[\"fighter2_HS_att\"] = data[\"fighter2_HS\"]/data[\"fighter2_HSA\"]\n",
        "data[\"fighter2_HS_mins\"] = data[\"fighter2_HS\"]/data[\"fighter2_total_time_fought\"]\n",
        "data.drop(columns = [\"fighter2_HS\",\"fighter2_HSA\"])\n",
        "\n",
        "# BS\n",
        "data[\"fighter1_BS_mins\"] = data[\"fighter1_BS\"]/data[\"fighter1_total_time_fought\"]\n",
        "data[\"fighter1_BS_att\"] = data[\"fighter1_BS\"]/data[\"fighter1_BSA\"]\n",
        "data[\"fighter1_BS_mins\"] = data[\"fighter1_BS\"]/data[\"fighter1_total_time_fought\"]\n",
        "data.drop(columns = [\"fighter1_BS\",\"fighter1_BSA\"])\n",
        "\n",
        "data[\"fighter2_BS_mins\"] = data[\"fighter2_BS\"]/data[\"fighter2_total_time_fought\"]\n",
        "data[\"fighter2_BS_att\"] = data[\"fighter2_BS\"]/data[\"fighter2_BSA\"]\n",
        "data[\"fighter2_BS_mins\"] = data[\"fighter2_BS\"]/data[\"fighter2_total_time_fought\"]\n",
        "data.drop(columns = [\"fighter2_BS\",\"fighter2_BSA\"])\n",
        "\n",
        "# LS\n",
        "data[\"fighter1_LS_mins\"] = data[\"fighter1_LS\"]/data[\"fighter1_total_time_fought\"]\n",
        "data[\"fighter1_LS_att\"] = data[\"fighter1_LS\"]/data[\"fighter1_LSA\"]\n",
        "data[\"fighter1_LS_mins\"] = data[\"fighter1_LS\"]/data[\"fighter1_total_time_fought\"]\n",
        "data.drop(columns = [\"fighter1_LS\",\"fighter1_LSA\"])\n",
        "\n",
        "data[\"fighter2_LS_mins\"] = data[\"fighter2_LS\"]/data[\"fighter2_total_time_fought\"]\n",
        "data[\"fighter2_LS_att\"] = data[\"fighter2_LS\"]/data[\"fighter2_LSA\"]\n",
        "data[\"fighter2_LS_mins\"] = data[\"fighter2_LS\"]/data[\"fighter2_total_time_fought\"]\n",
        "data.drop(columns = [\"fighter2_LS\",\"fighter2_LSA\"])\n",
        "\n",
        "# DS\n",
        "data[\"fighter1_DS_mins\"] = data[\"fighter1_DS\"]/data[\"fighter1_total_time_fought\"]\n",
        "data[\"fighter1_DS_att\"] = data[\"fighter1_DS\"]/data[\"fighter1_DSA\"]\n",
        "data[\"fighter1_DS_mins\"] = data[\"fighter1_DS\"]/data[\"fighter1_total_time_fought\"]\n",
        "data.drop(columns = [\"fighter1_DS\",\"fighter1_DSA\"])\n",
        "\n",
        "data[\"fighter2_DS_mins\"] = data[\"fighter2_DS\"]/data[\"fighter2_total_time_fought\"]\n",
        "data[\"fighter2_DS_att\"] = data[\"fighter2_DS\"]/data[\"fighter2_DSA\"]\n",
        "data[\"fighter2_DS_mins\"] = data[\"fighter2_DS\"]/data[\"fighter2_total_time_fought\"]\n",
        "data.drop(columns = [\"fighter2_DS\",\"fighter2_DSA\"])\n",
        "\n",
        "# CS\n",
        "data[\"fighter1_CS_mins\"] = data[\"fighter1_CS\"]/data[\"fighter1_total_time_fought\"]\n",
        "data[\"fighter1_CS_att\"] = data[\"fighter1_CS\"]/data[\"fighter1_CSA\"]\n",
        "data[\"fighter1_CS_mins\"] = data[\"fighter1_CS\"]/data[\"fighter1_total_time_fought\"]\n",
        "data.drop(columns = [\"fighter1_CS\",\"fighter1_CSA\"])\n",
        "\n",
        "data[\"fighter2_CS_mins\"] = data[\"fighter2_CS\"]/data[\"fighter2_total_time_fought\"]\n",
        "data[\"fighter2_CS_att\"] = data[\"fighter2_CS\"]/data[\"fighter2_CSA\"]\n",
        "data[\"fighter2_CS_mins\"] = data[\"fighter2_CS\"]/data[\"fighter2_total_time_fought\"]\n",
        "data.drop(columns = [\"fighter2_CS\",\"fighter2_CSA\"])\n",
        "\n",
        "# GS\n",
        "data[\"fighter1_GS_mins\"] = data[\"fighter1_GS\"]/data[\"fighter1_total_time_fought\"]\n",
        "data[\"fighter1_GS_att\"] = data[\"fighter1_GS\"]/data[\"fighter1_GSA\"]\n",
        "data[\"fighter1_GS_mins\"] = data[\"fighter1_GS\"]/data[\"fighter1_total_time_fought\"]\n",
        "data.drop(columns = [\"fighter1_GS\",\"fighter1_GSA\"])\n",
        "\n",
        "data[\"fighter2_GS_mins\"] = data[\"fighter2_GS\"]/data[\"fighter2_total_time_fought\"]\n",
        "data[\"fighter2_GS_att\"] = data[\"fighter2_GS\"]/data[\"fighter2_GSA\"]\n",
        "data[\"fighter2_GS_mins\"] = data[\"fighter2_GS\"]/data[\"fighter2_total_time_fought\"]\n",
        "data.drop(columns = [\"fighter2_GS\",\"fighter2_GSA\"])\n",
        "\n",
        "# SSD\n",
        "data[\"fighter1_SSD_mins\"] = data[\"fighter1_SSD\"]/data[\"fighter1_total_time_fought\"]\n",
        "data[\"fighter1_SSD_SSR\"] = data[\"fighter1_SSD\"]/data[\"fighter1_SSR\"]\n",
        "data[\"fighter1_SSR_mins\"] = data[\"fighter1_SSR\"]/data[\"fighter1_total_time_fought\"]\n",
        "data.drop(columns = [\"fighter1_SSD\",\"fighter1_SSR\"])\n",
        "\n",
        "data[\"fighter2_SSD_mins\"] = data[\"fighter2_SSD\"]/data[\"fighter2_total_time_fought\"]\n",
        "data[\"fighter2_SSD_SSR\"] = data[\"fighter2_SSD\"]/data[\"fighter2_SSR\"]\n",
        "data[\"fighter2_SSR_mins\"] = data[\"fighter2_SSR\"]/data[\"fighter2_total_time_fought\"]\n",
        "data.drop(columns = [\"fighter2_SSD\",\"fighter2_SSR\"])\n",
        "\n",
        "# TDD\n",
        "data[\"fighter1_TDD_mins\"] = data[\"fighter1_TDD\"]/data[\"fighter1_total_time_fought\"]\n",
        "data[\"fighter1_TDD_TDR\"] = data[\"fighter1_TDD\"]/data[\"fighter1_TDR\"]\n",
        "data[\"fighter1_TDR_mins\"] = data[\"fighter1_TDR\"]/data[\"fighter1_total_time_fought\"]\n",
        "data.drop(columns = [\"fighter1_TDD\",\"fighter1_TDR\"])\n",
        "\n",
        "data[\"fighter2_TDD_mins\"] = data[\"fighter2_TDD\"]/data[\"fighter2_total_time_fought\"]\n",
        "data[\"fighter2_TDD_TDR\"] = data[\"fighter2_TDD\"]/data[\"fighter2_TDR\"]\n",
        "data[\"fighter2_TDR_mins\"] = data[\"fighter2_TDR\"]/data[\"fighter2_total_time_fought\"]\n",
        "data.drop(columns = [\"fighter2_TDD\",\"fighter2_TDR\"])\n",
        "\n",
        "# HDD\n",
        "data[\"fighter1_HSD_mins\"] = data[\"fighter1_HSD\"]/data[\"fighter1_total_time_fought\"]\n",
        "data[\"fighter1_HSD_HSR\"] = data[\"fighter1_HSD\"]/data[\"fighter1_HSR\"]\n",
        "data[\"fighter1_HSR_mins\"] = data[\"fighter1_HSR\"]/data[\"fighter1_total_time_fought\"]\n",
        "data.drop(columns = [\"fighter1_HSD\",\"fighter1_HSR\"])\n",
        "\n",
        "data[\"fighter2_HSD_mins\"] = data[\"fighter2_HSD\"]/data[\"fighter2_total_time_fought\"]\n",
        "data[\"fighter2_HSD_HSR\"] = data[\"fighter2_HSD\"]/data[\"fighter2_HSR\"]\n",
        "data[\"fighter2_HSR_mins\"] = data[\"fighter2_HSR\"]/data[\"fighter2_total_time_fought\"]\n",
        "data.drop(columns = [\"fighter2_HSD\",\"fighter2_HSR\"])\n",
        "\n",
        "# BSD\n",
        "data[\"fighter1_BSD_mins\"] = data[\"fighter1_BSD\"]/data[\"fighter1_total_time_fought\"]\n",
        "data[\"fighter1_BSD_BSR\"] = data[\"fighter1_BSD\"]/data[\"fighter1_BSR\"]\n",
        "data[\"fighter1_BSR_mins\"] = data[\"fighter1_BSR\"]/data[\"fighter1_total_time_fought\"]\n",
        "data.drop(columns = [\"fighter1_BSD\",\"fighter1_BSR\"])\n",
        "\n",
        "data[\"fighter2_BSD_mins\"] = data[\"fighter2_BSD\"]/data[\"fighter2_total_time_fought\"]\n",
        "data[\"fighter2_BSD_BSR\"] = data[\"fighter2_BSD\"]/data[\"fighter2_BSR\"]\n",
        "data[\"fighter2_BSR_mins\"] = data[\"fighter2_BSR\"]/data[\"fighter2_total_time_fought\"]\n",
        "data.drop(columns = [\"fighter2_BSD\",\"fighter2_BSR\"])\n",
        "\n",
        "# LSD\n",
        "data[\"fighter1_LSD_mins\"] = data[\"fighter1_LSD\"]/data[\"fighter1_total_time_fought\"]\n",
        "data[\"fighter1_LSD_LSR\"] = data[\"fighter1_LSD\"]/data[\"fighter1_LSR\"]\n",
        "data[\"fighter1_LSR_mins\"] = data[\"fighter1_LSR\"]/data[\"fighter1_total_time_fought\"]\n",
        "data.drop(columns = [\"fighter1_LSD\",\"fighter1_LSR\"])\n",
        "\n",
        "data[\"fighter2_LSD_mins\"] = data[\"fighter2_LSD\"]/data[\"fighter2_total_time_fought\"]\n",
        "data[\"fighter2_LSD_LSR\"] = data[\"fighter2_LSD\"]/data[\"fighter2_LSR\"]\n",
        "data[\"fighter2_LSR_mins\"] = data[\"fighter2_LSR\"]/data[\"fighter2_total_time_fought\"]\n",
        "data.drop(columns = [\"fighter2_LSD\",\"fighter2_LSR\"])\n",
        "\n",
        "# DSD\n",
        "data[\"fighter1_DSD_mins\"] = data[\"fighter1_DSD\"]/data[\"fighter1_total_time_fought\"]\n",
        "data[\"fighter1_DSD_DSR\"] = data[\"fighter1_DSD\"]/data[\"fighter1_DSR\"]\n",
        "data[\"fighter1_DSR_mins\"] = data[\"fighter1_DSR\"]/data[\"fighter1_total_time_fought\"]\n",
        "data.drop(columns = [\"fighter1_DSD\",\"fighter1_DSR\"])\n",
        "\n",
        "data[\"fighter2_DSD_mins\"] = data[\"fighter2_DSD\"]/data[\"fighter2_total_time_fought\"]\n",
        "data[\"fighter2_DSD_DSR\"] = data[\"fighter2_DSD\"]/data[\"fighter2_DSR\"]\n",
        "data[\"fighter2_DSR_mins\"] = data[\"fighter2_DSR\"]/data[\"fighter2_total_time_fought\"]\n",
        "data.drop(columns = [\"fighter2_DSD\",\"fighter2_DSR\"])\n",
        "\n",
        "# CSD\n",
        "data[\"fighter1_CSD_mins\"] = data[\"fighter1_CSD\"]/data[\"fighter1_total_time_fought\"]\n",
        "data[\"fighter1_CSD_CSR\"] = data[\"fighter1_CSD\"]/data[\"fighter1_CSR\"]\n",
        "data[\"fighter1_CSR_mins\"] = data[\"fighter1_CSR\"]/data[\"fighter1_total_time_fought\"]\n",
        "data.drop(columns = [\"fighter1_CSD\",\"fighter1_CSR\"])\n",
        "\n",
        "data[\"fighter2_CSD_mins\"] = data[\"fighter2_CSD\"]/data[\"fighter2_total_time_fought\"]\n",
        "data[\"fighter2_CSD_CSR\"] = data[\"fighter2_CSD\"]/data[\"fighter2_CSR\"]\n",
        "data[\"fighter2_CSR_mins\"] = data[\"fighter2_CSR\"]/data[\"fighter2_total_time_fought\"]\n",
        "data.drop(columns = [\"fighter2_CSD\",\"fighter2_CSR\"])\n",
        "\n",
        "#GSD\n",
        "data[\"fighter1_GSD_mins\"] = data[\"fighter1_GSD\"]/data[\"fighter1_total_time_fought\"]\n",
        "data[\"fighter1_GSD_GSR\"] = data[\"fighter1_GSD\"]/data[\"fighter1_GSR\"]\n",
        "data[\"fighter1_GSR_mins\"] = data[\"fighter1_GSR\"]/data[\"fighter1_total_time_fought\"]\n",
        "data.drop(columns = [\"fighter1_GSD\",\"fighter1_GSR\"])\n",
        "\n",
        "data[\"fighter2_GSD_mins\"] = data[\"fighter2_GSD\"]/data[\"fighter2_total_time_fought\"]\n",
        "data[\"fighter2_GSD_GSR\"] = data[\"fighter2_GSD\"]/data[\"fighter2_GSR\"]\n",
        "data[\"fighter2_GSR_mins\"] = data[\"fighter2_GSR\"]/data[\"fighter2_total_time_fought\"]\n",
        "data.drop(columns = [\"fighter2_GSD\",\"fighter2_GSR\"])"
      ],
      "metadata": {
        "id": "HC7dSDyIwong",
        "cellView": "form"
      },
      "execution_count": null,
      "outputs": []
    },
    {
      "cell_type": "code",
      "source": [
        "# calculate win percentage\n",
        "data[\"fighter1_win_pct\"] = data[\"fighter1_wins\"]/data[\"fighter1_totalfights\"]\n",
        "data[\"fighter2_win_pct\"] = data[\"fighter2_wins\"]/data[\"fighter2_totalfights\"]\n",
        "\n",
        "\n",
        "# convert features to percentage of wins\n",
        "data[\"fighter1_wko\"] = data[\"fighter1_wko\"]/data[\"fighter1_wins\"]  \n",
        "data[\"fighter1_wsub\"] = data[\"fighter1_wsub\"]/data[\"fighter1_wins\"] \n",
        "data[\"fighter1_wdec\"] = data[\"fighter1_wdec\"]/data[\"fighter1_wins\"] \n",
        "data[\"fighter1_wdq\"] = data[\"fighter1_wdq\"]/data[\"fighter1_wins\"] \n",
        "\n",
        "data[\"fighter2_wko\"] = data[\"fighter2_wko\"]/data[\"fighter1_wins\"]  \n",
        "data[\"fighter2_wsub\"] = data[\"fighter2_wsub\"]/data[\"fighter1_wins\"] \n",
        "data[\"fighter2_wdec\"] = data[\"fighter2_wdec\"]/data[\"fighter1_wins\"] \n",
        "data[\"fighter2_wdq\"] = data[\"fighter2_wdq\"]/data[\"fighter1_wins\"] \n",
        "\n",
        "# convert features to percentage of loss\n",
        "data[\"fighter1_lko\"] = data[\"fighter1_lko\"]/data[\"fighter1_losses\"] \n",
        "data[\"fighter1_lsub\"] = data[\"fighter1_lsub\"]/data[\"fighter1_losses\"] \n",
        "data[\"fighter1_ldec\"] = data[\"fighter1_ldec\"]/data[\"fighter1_losses\"]   \n",
        "data[\"fighter1_ldq\"] = data[\"fighter1_ldq\"]/data[\"fighter1_losses\"]  \n",
        "\n",
        "data[\"fighter2_lko\"] = data[\"fighter2_lko\"]/data[\"fighter1_losses\"] \n",
        "data[\"fighter2_lsub\"] = data[\"fighter2_lsub\"]/data[\"fighter1_losses\"] \n",
        "data[\"fighter2_ldec\"] = data[\"fighter2_ldec\"]/data[\"fighter1_losses\"]   \n",
        "data[\"fighter2_ldq\"] = data[\"fighter2_ldq\"]/data[\"fighter1_losses\"]  \n",
        "\n",
        "data.drop(columns=\"fighter1_wins\")\n",
        "data.drop(columns=\"fighter2_wins\")"
      ],
      "metadata": {
        "id": "1WnUhd1TtdMO"
      },
      "execution_count": null,
      "outputs": []
    },
    {
      "cell_type": "code",
      "source": [
        "print(len(data.filter(regex=\"^fighter1\",axis=1).columns))\n",
        "print(len(data.filter(regex=\"^fighter2\",axis=1).columns))"
      ],
      "metadata": {
        "colab": {
          "base_uri": "https://localhost:8080/"
        },
        "id": "Gq2v3QJSO7ys",
        "outputId": "0876a3c6-0a4d-479a-a22f-f6753f36771a"
      },
      "execution_count": null,
      "outputs": [
        {
          "output_type": "stream",
          "name": "stdout",
          "text": [
            "108\n",
            "108\n"
          ]
        }
      ]
    },
    {
      "cell_type": "code",
      "source": [
        "data[\"winner2\"].value_counts()"
      ],
      "metadata": {
        "id": "b0VuxuRFEYW4",
        "colab": {
          "base_uri": "https://localhost:8080/"
        },
        "outputId": "bf587e2d-06a5-4c25-d2be-1f73983fe8f4"
      },
      "execution_count": null,
      "outputs": [
        {
          "output_type": "execute_result",
          "data": {
            "text/plain": [
              "1    6160\n",
              "0    2508\n",
              "Name: winner2, dtype: int64"
            ]
          },
          "metadata": {},
          "execution_count": 13
        }
      ]
    },
    {
      "cell_type": "code",
      "source": [
        "data = data.reindex(sorted(data.columns), axis=1)"
      ],
      "metadata": {
        "id": "dzqsVIqITYqG"
      },
      "execution_count": null,
      "outputs": []
    },
    {
      "cell_type": "markdown",
      "source": [
        "# MODELING WITH RNN"
      ],
      "metadata": {
        "id": "iOZX6oydQ6Mm"
      }
    },
    {
      "cell_type": "code",
      "source": [
        "data[\"fighter1_stance\"].value_counts()"
      ],
      "metadata": {
        "colab": {
          "base_uri": "https://localhost:8080/"
        },
        "id": "fdLU_tcnhBnm",
        "outputId": "c50791fe-7a5b-4560-ce8f-242c3b617cd6"
      },
      "execution_count": null,
      "outputs": [
        {
          "output_type": "execute_result",
          "data": {
            "text/plain": [
              "Orthodox    7\n",
              "Southpaw    3\n",
              "Switch      1\n",
              "Name: fighter1_stance, dtype: int64"
            ]
          },
          "metadata": {},
          "execution_count": 53
        }
      ]
    },
    {
      "cell_type": "code",
      "source": [
        "# convert special characters to nan values for imputation\n",
        "\n",
        "data = data.replace('--', np.nan)\n",
        "\n",
        "data = data.replace(np.inf, np.nan)"
      ],
      "metadata": {
        "id": "b16nTVRguggV"
      },
      "execution_count": null,
      "outputs": []
    },
    {
      "cell_type": "code",
      "source": [
        "# encode categorical features\n",
        "cats = [\"fighter1_stance\",\"fighter2_stance\"]\n",
        "\n",
        "\n",
        "for cat in cats:\n",
        "  data[cat] = pd.Categorical(data[cat])\n",
        "\n",
        "data[cats] = data[cats].apply(lambda col: col.cat.codes)\n"
      ],
      "metadata": {
        "id": "LfOMRAwARFN7"
      },
      "execution_count": null,
      "outputs": []
    },
    {
      "cell_type": "code",
      "source": [
        "# drop unusable columns\n",
        "data = data.drop(columns= [\"_id\",\"year\",\"fighter1_name\",\"fighter2_name\",\"fighter1_id\",\"fighter2_id\",\"method\",\"end_round\",\"fighter1_total_time_fought\",\"fighter2_total_time_fought\",\"winner\",\"weight_class\"])"
      ],
      "metadata": {
        "id": "sSlPX9SomkMY"
      },
      "execution_count": null,
      "outputs": []
    },
    {
      "cell_type": "code",
      "source": [
        "# split the dataset\n",
        "from sklearn.model_selection import train_test_split\n",
        "X, y = data.drop(\"winner2\", axis=1), data[\"winner2\"]\n",
        "X_train, X_test, y_train, y_test = train_test_split(X, y, test_size=0.2, random_state=0)"
      ],
      "metadata": {
        "id": "RPYT-h0cBiro"
      },
      "execution_count": null,
      "outputs": []
    },
    {
      "cell_type": "code",
      "source": [
        "# run for prediction only\n",
        "X = data"
      ],
      "metadata": {
        "id": "Kvl0cqrsZN9x"
      },
      "execution_count": null,
      "outputs": []
    },
    {
      "cell_type": "code",
      "source": [
        "conts = X.drop(cats, axis=1).columns.values.tolist()"
      ],
      "metadata": {
        "id": "rMsTFid9UBAo"
      },
      "execution_count": null,
      "outputs": []
    },
    {
      "cell_type": "code",
      "source": [
        "print(X_train.shape, X_test.shape, y_train.shape, y_test.shape)"
      ],
      "metadata": {
        "colab": {
          "base_uri": "https://localhost:8080/"
        },
        "id": "VfDaTVSnkZma",
        "outputId": "99ed10b6-2376-4972-cd09-e4e26fea6b20"
      },
      "execution_count": null,
      "outputs": [
        {
          "output_type": "stream",
          "name": "stdout",
          "text": [
            "(6934, 210) (1734, 210) (6934,) (1734,)\n"
          ]
        }
      ]
    },
    {
      "cell_type": "code",
      "source": [
        "print(y_train.mean(), y_test.mean())"
      ],
      "metadata": {
        "id": "yk8GBsNnBX-5",
        "colab": {
          "base_uri": "https://localhost:8080/"
        },
        "outputId": "ae3c1fdd-41ca-4e98-e47b-25a427dea267"
      },
      "execution_count": null,
      "outputs": [
        {
          "output_type": "stream",
          "name": "stdout",
          "text": [
            "0.7099798096336891 0.7133794694348328\n"
          ]
        }
      ]
    },
    {
      "cell_type": "code",
      "source": [
        "print(X_train['fighter1_weight'].isna().sum())\n",
        "print(X_test['fighter1_weight'].isna().sum())\n",
        "print(X_train['fighter2_weight'].isna().sum())\n",
        "print(X_test['fighter2_weight'].isna().sum())\n",
        "\n",
        "print(X_train['fighter1_height'].isna().sum())\n",
        "print(X_test['fighter1_height'].isna().sum())\n",
        "print(X_train['fighter2_height'].isna().sum())\n",
        "print(X_test['fighter2_height'].isna().sum())\n",
        "\n",
        "print(X_train['fighter1_reach'].isna().sum())\n",
        "print(X_test['fighter1_reach'].isna().sum())\n",
        "print(X_train['fighter2_reach'].isna().sum())\n",
        "print(X_test['fighter2_reach'].isna().sum())"
      ],
      "metadata": {
        "colab": {
          "base_uri": "https://localhost:8080/"
        },
        "id": "XoH27imapMsw",
        "outputId": "12466ffb-3350-4b50-d163-8583eca88679"
      },
      "execution_count": null,
      "outputs": [
        {
          "output_type": "stream",
          "name": "stdout",
          "text": [
            "2\n",
            "0\n",
            "21\n",
            "5\n",
            "7\n",
            "2\n",
            "57\n",
            "12\n",
            "854\n",
            "231\n",
            "1663\n",
            "399\n"
          ]
        }
      ]
    },
    {
      "cell_type": "code",
      "source": [
        "print(X['fighter1_weight'].isna().sum())\n",
        "print(X_train['fighter2_weight'].isna().sum())\n",
        "\n",
        "\n",
        "print(X['fighter1_height'].isna().sum())\n",
        "print(X['fighter2_height'].isna().sum())\n",
        "\n",
        "\n",
        "print(X['fighter1_reach'].isna().sum())\n",
        "print(X['fighter2_reach'].isna().sum())\n"
      ],
      "metadata": {
        "colab": {
          "base_uri": "https://localhost:8080/"
        },
        "id": "qooKusoUZcY3",
        "outputId": "d5e5c5ff-70a9-4298-c36b-8b2341a2e65d"
      },
      "execution_count": null,
      "outputs": [
        {
          "output_type": "stream",
          "name": "stdout",
          "text": [
            "2\n",
            "21\n",
            "9\n",
            "69\n",
            "1085\n",
            "2062\n"
          ]
        }
      ]
    },
    {
      "cell_type": "code",
      "source": [
        "pd.isna(X_train).sum()[pd.isna(X_train).sum() >0]"
      ],
      "metadata": {
        "id": "oA_MDdlTZnBo",
        "colab": {
          "base_uri": "https://localhost:8080/"
        },
        "outputId": "f13b8a38-0430-41f0-b031-9503ebde076d"
      },
      "execution_count": null,
      "outputs": [
        {
          "output_type": "execute_result",
          "data": {
            "text/plain": [
              "fighter1_BSD_BSR         189\n",
              "fighter1_BS_att          150\n",
              "fighter1_CSD_CSR         254\n",
              "fighter1_CS_att          242\n",
              "fighter1_DSD_DSR          23\n",
              "                        ... \n",
              "fighter2_wdq             335\n",
              "fighter2_weight           21\n",
              "fighter2_wko             335\n",
              "fighter2_wsub            335\n",
              "fighter2_wsub_subatt    1745\n",
              "Length: 62, dtype: int64"
            ]
          },
          "metadata": {},
          "execution_count": 25
        }
      ]
    },
    {
      "cell_type": "code",
      "source": [
        "# from sklearn.impute import SimpleImputer\n",
        "# numeric_cols = list(X_train.select_dtypes('number').columns.values)\n",
        "# other_cols = list(X_train.select_dtypes('object').columns.values)\n",
        "\n",
        "# num_imputer = SimpleImputer(strategy='most_frequent').fit(X_train[numeric_cols])\n",
        "# train_num = pd.DataFrame(num_imputer.transform(X_train[numeric_cols]), columns = X_train[numeric_cols].columns)\n",
        "# test_num = pd.DataFrame(num_imputer.transform(X_test[numeric_cols]), columns = X_test[numeric_cols].columns)\n",
        "\n",
        "# cat_imputer = SimpleImputer(strategy='most_frequent').fit(X_train[other_cols])\n",
        "# train_cat = pd.DataFrame(cat_imputer.transform(X_train[other_cols]), columns = X_train[other_cols].columns)\n",
        "# test_cat = pd.DataFrame(cat_imputer.transform(X_test[other_cols]), columns = X_test[other_cols].columns)\n",
        "\n",
        "# X_train = pd.concat([train_num,train_cat],axis=1)\n",
        "# X_test = pd.concat([test_num,test_cat],axis=1)\n"
      ],
      "metadata": {
        "id": "6blFSNsEuFMU"
      },
      "execution_count": null,
      "outputs": []
    },
    {
      "cell_type": "code",
      "source": [
        "# evaluate iterative imputation and random forest for the horse colic dataset\n",
        "from numpy import mean\n",
        "from numpy import std\n",
        "from pandas import read_csv\n",
        "from sklearn.ensemble import RandomForestClassifier\n",
        "from sklearn.experimental import enable_iterative_imputer\n",
        "from sklearn.impute import IterativeImputer\n",
        "from sklearn.model_selection import cross_val_score\n",
        "from sklearn.model_selection import RepeatedStratifiedKFold\n",
        "from sklearn.pipeline import Pipeline"
      ],
      "metadata": {
        "id": "lg0AvoXz2mLs"
      },
      "execution_count": null,
      "outputs": []
    },
    {
      "cell_type": "code",
      "source": [
        "# define pipeline for iterative imputation\n",
        "imputer = IterativeImputer()\n",
        "pipeline = Pipeline(steps=[('i', imputer)])\n",
        "\n",
        "X_train = pd.DataFrame(pipeline.fit_transform(X_train), columns = X_train.columns)\n",
        "pipeline = pipeline.fit_transform(X_train)\n",
        "\n",
        "X_test= pd.DataFrame(pipeline.transform(X_test), columns = X_test.columns)"
      ],
      "metadata": {
        "id": "IY42H02APDZ6"
      },
      "execution_count": null,
      "outputs": []
    },
    {
      "cell_type": "code",
      "source": [
        "# define pipeline for iterative imputation RUN FOR PREDICTION ONLY\n",
        "imputer = IterativeImputer()\n",
        "pipeline = Pipeline(steps=[('i', imputer)])\n",
        "\n",
        "X = pd.DataFrame(pipeline.transform(X), columns = X.columns)\n",
        "# X = pd.DataFrame(pipeline.fit_transform(X), columns = X.columns)\n"
      ],
      "metadata": {
        "id": "yEL6rCd4asiO",
        "colab": {
          "base_uri": "https://localhost:8080/",
          "height": 380
        },
        "outputId": "3b8d1527-6b92-49c4-ce4a-84239ea5e4ef"
      },
      "execution_count": null,
      "outputs": [
        {
          "output_type": "error",
          "ename": "NotFittedError",
          "evalue": "ignored",
          "traceback": [
            "\u001b[0;31m---------------------------------------------------------------------------\u001b[0m",
            "\u001b[0;31mNotFittedError\u001b[0m                            Traceback (most recent call last)",
            "\u001b[0;32m<ipython-input-77-6e5cd4ed6144>\u001b[0m in \u001b[0;36m<module>\u001b[0;34m\u001b[0m\n\u001b[1;32m      3\u001b[0m \u001b[0mpipeline\u001b[0m \u001b[0;34m=\u001b[0m \u001b[0mPipeline\u001b[0m\u001b[0;34m(\u001b[0m\u001b[0msteps\u001b[0m\u001b[0;34m=\u001b[0m\u001b[0;34m[\u001b[0m\u001b[0;34m(\u001b[0m\u001b[0;34m'i'\u001b[0m\u001b[0;34m,\u001b[0m \u001b[0mimputer\u001b[0m\u001b[0;34m)\u001b[0m\u001b[0;34m]\u001b[0m\u001b[0;34m)\u001b[0m\u001b[0;34m\u001b[0m\u001b[0;34m\u001b[0m\u001b[0m\n\u001b[1;32m      4\u001b[0m \u001b[0;34m\u001b[0m\u001b[0m\n\u001b[0;32m----> 5\u001b[0;31m \u001b[0mX\u001b[0m \u001b[0;34m=\u001b[0m \u001b[0mpd\u001b[0m\u001b[0;34m.\u001b[0m\u001b[0mDataFrame\u001b[0m\u001b[0;34m(\u001b[0m\u001b[0mpipeline\u001b[0m\u001b[0;34m.\u001b[0m\u001b[0mtransform\u001b[0m\u001b[0;34m(\u001b[0m\u001b[0mX\u001b[0m\u001b[0;34m)\u001b[0m\u001b[0;34m,\u001b[0m \u001b[0mcolumns\u001b[0m \u001b[0;34m=\u001b[0m \u001b[0mX\u001b[0m\u001b[0;34m.\u001b[0m\u001b[0mcolumns\u001b[0m\u001b[0;34m)\u001b[0m\u001b[0;34m\u001b[0m\u001b[0;34m\u001b[0m\u001b[0m\n\u001b[0m\u001b[1;32m      6\u001b[0m \u001b[0;31m# X = pd.DataFrame(pipeline.fit_transform(X), columns = X.columns)\u001b[0m\u001b[0;34m\u001b[0m\u001b[0;34m\u001b[0m\u001b[0;34m\u001b[0m\u001b[0m\n\u001b[1;32m      7\u001b[0m \u001b[0;31m# X_test= pd.DataFrame(pipeline.transform(X_test), columns = X_test.columns)\u001b[0m\u001b[0;34m\u001b[0m\u001b[0;34m\u001b[0m\u001b[0;34m\u001b[0m\u001b[0m\n",
            "\u001b[0;32m/usr/local/lib/python3.7/dist-packages/sklearn/utils/metaestimators.py\u001b[0m in \u001b[0;36m<lambda>\u001b[0;34m(*args, **kwargs)\u001b[0m\n\u001b[1;32m    111\u001b[0m \u001b[0;34m\u001b[0m\u001b[0m\n\u001b[1;32m    112\u001b[0m             \u001b[0;31m# lambda, but not partial, allows help() to work with update_wrapper\u001b[0m\u001b[0;34m\u001b[0m\u001b[0;34m\u001b[0m\u001b[0;34m\u001b[0m\u001b[0m\n\u001b[0;32m--> 113\u001b[0;31m             \u001b[0mout\u001b[0m \u001b[0;34m=\u001b[0m \u001b[0;32mlambda\u001b[0m \u001b[0;34m*\u001b[0m\u001b[0margs\u001b[0m\u001b[0;34m,\u001b[0m \u001b[0;34m**\u001b[0m\u001b[0mkwargs\u001b[0m\u001b[0;34m:\u001b[0m \u001b[0mself\u001b[0m\u001b[0;34m.\u001b[0m\u001b[0mfn\u001b[0m\u001b[0;34m(\u001b[0m\u001b[0mobj\u001b[0m\u001b[0;34m,\u001b[0m \u001b[0;34m*\u001b[0m\u001b[0margs\u001b[0m\u001b[0;34m,\u001b[0m \u001b[0;34m**\u001b[0m\u001b[0mkwargs\u001b[0m\u001b[0;34m)\u001b[0m  \u001b[0;31m# noqa\u001b[0m\u001b[0;34m\u001b[0m\u001b[0;34m\u001b[0m\u001b[0m\n\u001b[0m\u001b[1;32m    114\u001b[0m         \u001b[0;32melse\u001b[0m\u001b[0;34m:\u001b[0m\u001b[0;34m\u001b[0m\u001b[0;34m\u001b[0m\u001b[0m\n\u001b[1;32m    115\u001b[0m \u001b[0;34m\u001b[0m\u001b[0m\n",
            "\u001b[0;32m/usr/local/lib/python3.7/dist-packages/sklearn/pipeline.py\u001b[0m in \u001b[0;36mtransform\u001b[0;34m(self, X)\u001b[0m\n\u001b[1;32m    645\u001b[0m         \u001b[0mXt\u001b[0m \u001b[0;34m=\u001b[0m \u001b[0mX\u001b[0m\u001b[0;34m\u001b[0m\u001b[0;34m\u001b[0m\u001b[0m\n\u001b[1;32m    646\u001b[0m         \u001b[0;32mfor\u001b[0m \u001b[0m_\u001b[0m\u001b[0;34m,\u001b[0m \u001b[0m_\u001b[0m\u001b[0;34m,\u001b[0m \u001b[0mtransform\u001b[0m \u001b[0;32min\u001b[0m \u001b[0mself\u001b[0m\u001b[0;34m.\u001b[0m\u001b[0m_iter\u001b[0m\u001b[0;34m(\u001b[0m\u001b[0;34m)\u001b[0m\u001b[0;34m:\u001b[0m\u001b[0;34m\u001b[0m\u001b[0;34m\u001b[0m\u001b[0m\n\u001b[0;32m--> 647\u001b[0;31m             \u001b[0mXt\u001b[0m \u001b[0;34m=\u001b[0m \u001b[0mtransform\u001b[0m\u001b[0;34m.\u001b[0m\u001b[0mtransform\u001b[0m\u001b[0;34m(\u001b[0m\u001b[0mXt\u001b[0m\u001b[0;34m)\u001b[0m\u001b[0;34m\u001b[0m\u001b[0;34m\u001b[0m\u001b[0m\n\u001b[0m\u001b[1;32m    648\u001b[0m         \u001b[0;32mreturn\u001b[0m \u001b[0mXt\u001b[0m\u001b[0;34m\u001b[0m\u001b[0;34m\u001b[0m\u001b[0m\n\u001b[1;32m    649\u001b[0m \u001b[0;34m\u001b[0m\u001b[0m\n",
            "\u001b[0;32m/usr/local/lib/python3.7/dist-packages/sklearn/impute/_iterative.py\u001b[0m in \u001b[0;36mtransform\u001b[0;34m(self, X)\u001b[0m\n\u001b[1;32m    720\u001b[0m              \u001b[0mThe\u001b[0m \u001b[0mimputed\u001b[0m \u001b[0minput\u001b[0m \u001b[0mdata\u001b[0m\u001b[0;34m.\u001b[0m\u001b[0;34m\u001b[0m\u001b[0;34m\u001b[0m\u001b[0m\n\u001b[1;32m    721\u001b[0m         \"\"\"\n\u001b[0;32m--> 722\u001b[0;31m         \u001b[0mcheck_is_fitted\u001b[0m\u001b[0;34m(\u001b[0m\u001b[0mself\u001b[0m\u001b[0;34m)\u001b[0m\u001b[0;34m\u001b[0m\u001b[0;34m\u001b[0m\u001b[0m\n\u001b[0m\u001b[1;32m    723\u001b[0m \u001b[0;34m\u001b[0m\u001b[0m\n\u001b[1;32m    724\u001b[0m         \u001b[0mX\u001b[0m\u001b[0;34m,\u001b[0m \u001b[0mXt\u001b[0m\u001b[0;34m,\u001b[0m \u001b[0mmask_missing_values\u001b[0m\u001b[0;34m,\u001b[0m \u001b[0mcomplete_mask\u001b[0m \u001b[0;34m=\u001b[0m \u001b[0mself\u001b[0m\u001b[0;34m.\u001b[0m\u001b[0m_initial_imputation\u001b[0m\u001b[0;34m(\u001b[0m\u001b[0mX\u001b[0m\u001b[0;34m)\u001b[0m\u001b[0;34m\u001b[0m\u001b[0;34m\u001b[0m\u001b[0m\n",
            "\u001b[0;32m/usr/local/lib/python3.7/dist-packages/sklearn/utils/validation.py\u001b[0m in \u001b[0;36mcheck_is_fitted\u001b[0;34m(estimator, attributes, msg, all_or_any)\u001b[0m\n\u001b[1;32m   1220\u001b[0m \u001b[0;34m\u001b[0m\u001b[0m\n\u001b[1;32m   1221\u001b[0m     \u001b[0;32mif\u001b[0m \u001b[0;32mnot\u001b[0m \u001b[0mfitted\u001b[0m\u001b[0;34m:\u001b[0m\u001b[0;34m\u001b[0m\u001b[0;34m\u001b[0m\u001b[0m\n\u001b[0;32m-> 1222\u001b[0;31m         \u001b[0;32mraise\u001b[0m \u001b[0mNotFittedError\u001b[0m\u001b[0;34m(\u001b[0m\u001b[0mmsg\u001b[0m \u001b[0;34m%\u001b[0m \u001b[0;34m{\u001b[0m\u001b[0;34m\"name\"\u001b[0m\u001b[0;34m:\u001b[0m \u001b[0mtype\u001b[0m\u001b[0;34m(\u001b[0m\u001b[0mestimator\u001b[0m\u001b[0;34m)\u001b[0m\u001b[0;34m.\u001b[0m\u001b[0m__name__\u001b[0m\u001b[0;34m}\u001b[0m\u001b[0;34m)\u001b[0m\u001b[0;34m\u001b[0m\u001b[0;34m\u001b[0m\u001b[0m\n\u001b[0m\u001b[1;32m   1223\u001b[0m \u001b[0;34m\u001b[0m\u001b[0m\n\u001b[1;32m   1224\u001b[0m \u001b[0;34m\u001b[0m\u001b[0m\n",
            "\u001b[0;31mNotFittedError\u001b[0m: This IterativeImputer instance is not fitted yet. Call 'fit' with appropriate arguments before using this estimator."
          ]
        }
      ]
    },
    {
      "cell_type": "code",
      "source": [
        "# # define modeling pipeline\n",
        "# model = RandomForestClassifier()\n",
        "# imputer = IterativeImputer()\n",
        "# pipeline = Pipeline(steps=[('i', imputer), ('m', model)])\n",
        "# # define model evaluation\n",
        "# cv = RepeatedStratifiedKFold(n_splits=10, n_repeats=3, random_state=1)\n",
        "# # evaluate model\n",
        "# scores = cross_val_score(pipeline, X, y, scoring='accuracy', cv=cv, n_jobs=-1, error_score='raise')\n",
        "# print('Mean Accuracy: %.3f (%.3f)' % (mean(scores), std(scores)))"
      ],
      "metadata": {
        "id": "b9-kEeyj2LPX"
      },
      "execution_count": null,
      "outputs": []
    },
    {
      "cell_type": "code",
      "source": [
        "class UfcDataset(Dataset):\n",
        "    def __init__(self, df, cats, conts, targets):\n",
        "        self.X_cats = df[cats].astype(np.int64).values\n",
        "        self.X_conts = df[conts].astype(np.float32).values\n",
        "        self.y = targets.astype(np.float32).values.reshape(-1, 1)\n",
        "        \n",
        "        \n",
        "    def __len__(self):\n",
        "        return self.y.shape[0]\n",
        "    \n",
        "    def __getitem__(self, i):\n",
        "        return [self.X_cats[i], self.X_conts[i], self.y[i]]"
      ],
      "metadata": {
        "id": "xbrzYf_pQlKQ"
      },
      "execution_count": null,
      "outputs": []
    },
    {
      "cell_type": "code",
      "source": [
        "\n",
        "train_dataset = UfcDataset(X_train, cats, conts, y_train)\n",
        "test_dataset = UfcDataset(X_test, cats, conts, y_test)"
      ],
      "metadata": {
        "id": "VpLwPxMdQqL1"
      },
      "execution_count": null,
      "outputs": []
    },
    {
      "cell_type": "code",
      "source": [
        "# prediction\n",
        "\n",
        "y = np.array([1,1,1,1,1,1,1,1,1,1,1])\n",
        "y = pd.Series(y)\n",
        "\n",
        "test_dataset = UfcDataset(X, cats, conts, y)"
      ],
      "metadata": {
        "id": "6VWHjTxHcqH6"
      },
      "execution_count": null,
      "outputs": []
    },
    {
      "cell_type": "code",
      "source": [
        "# Device\n",
        "device = torch.device('cuda' if torch.cuda.is_available() else 'cpu')"
      ],
      "metadata": {
        "id": "Alz-n8nFQ5wg"
      },
      "execution_count": null,
      "outputs": []
    },
    {
      "cell_type": "code",
      "source": [
        "\n",
        "# Data loaders\n",
        "bz=32\n",
        "# train_dl = torch.utils.data.DataLoader(train_dataset, batch_size=bz, shuffle=True)\n",
        "test_dl = torch.utils.data.DataLoader(test_dataset, batch_size=bz, shuffle=False)"
      ],
      "metadata": {
        "id": "N4vYAA8GQ8uf"
      },
      "execution_count": null,
      "outputs": []
    },
    {
      "cell_type": "code",
      "source": [
        "class UfcNet(nn.Module):\n",
        "    def __init__(self, emb_dims, num_conts, fc_layer_sizes, emb_drop, ps):\n",
        "        super(UfcNet, self).__init__()\n",
        "        \n",
        "        # embedding layers for categorical features\n",
        "        self.emb_layers = nn.ModuleList([nn.Embedding(x, y) for x, y in emb_dims])\n",
        "        self.num_embs = sum([y for _, y in emb_dims])\n",
        "        self.num_conts = num_conts\n",
        "        \n",
        "        # fully connected layers\n",
        "        fc_layer_sizes = [self.num_embs + self.num_conts] + fc_layer_sizes\n",
        "        self.fc_layers = nn.ModuleList([nn.Linear(fc_layer_sizes[i],fc_layer_sizes[i+1])\n",
        "                                        for i in range(len(fc_layer_sizes)-1)])\n",
        "        \n",
        "        # out layer\n",
        "        self.out = nn.Linear(fc_layer_sizes[-1], 1)\n",
        "        \n",
        "        # batch norm layers\n",
        "        self.first_bn = nn.BatchNorm1d(self.num_conts)\n",
        "        self.bn_layers = nn.ModuleList([nn.BatchNorm1d(sz)\n",
        "                                        for sz in fc_layer_sizes[1:]])\n",
        "        # dropout layers\n",
        "        self.emb_drop = nn.Dropout(emb_drop)\n",
        "        self.dropout_layers = nn.ModuleList([nn.Dropout(p) for p in ps])\n",
        "        \n",
        "    def forward(self, x_cats, x_conts):\n",
        "        x = [e(x_cats[:, i]) for i, e in enumerate(self.emb_layers)]\n",
        "        x = torch.cat(x, 1)\n",
        "        x = self.emb_drop(x)\n",
        "        \n",
        "        x_c = self.first_bn(x_conts)\n",
        "        x = torch.cat([x, x_c], 1)\n",
        "        \n",
        "        for fc, bn, d in zip(self.fc_layers, self.bn_layers, self.dropout_layers):\n",
        "            x = F.relu(fc(x))\n",
        "            x = bn(x)\n",
        "            x = d(x)\n",
        "        \n",
        "        x = self.out(x)\n",
        "        return torch.sigmoid(x)"
      ],
      "metadata": {
        "id": "xzN19RRBRB9L"
      },
      "execution_count": null,
      "outputs": []
    },
    {
      "cell_type": "code",
      "source": [
        "emb_dims = [(len(data[cat].unique()), min(50, len(data[cat].unique())//2)) for cat in cats]\n",
        "emb_dims"
      ],
      "metadata": {
        "id": "87nXk0-MULgw",
        "colab": {
          "base_uri": "https://localhost:8080/"
        },
        "outputId": "630a15f0-445b-4f31-c188-358abae68150"
      },
      "execution_count": null,
      "outputs": [
        {
          "output_type": "execute_result",
          "data": {
            "text/plain": [
              "[(3, 1), (3, 1)]"
            ]
          },
          "metadata": {},
          "execution_count": 34
        }
      ]
    },
    {
      "cell_type": "code",
      "source": [
        "num_conts = len(conts)\n",
        "fc_layer_sizes = [256, 64, 16]\n",
        "emb_drop = 0.5\n",
        "ps = [0.5] * 3"
      ],
      "metadata": {
        "id": "vxQw40DWUNI2"
      },
      "execution_count": null,
      "outputs": []
    },
    {
      "cell_type": "code",
      "source": [
        "ufc_model = UfcNet(emb_dims, num_conts, fc_layer_sizes, emb_drop, ps).to(device)"
      ],
      "metadata": {
        "id": "sG4Xna5tUPB9"
      },
      "execution_count": null,
      "outputs": []
    },
    {
      "cell_type": "code",
      "source": [
        "\n",
        "criterion = nn.BCELoss()\n",
        "learning_rate = 1e-2\n",
        "optimizer = torch.optim.Adam(ufc_model.parameters(), lr=learning_rate, weight_decay=1e-4)  "
      ],
      "metadata": {
        "id": "rjqE4W8QUQ9m"
      },
      "execution_count": null,
      "outputs": []
    },
    {
      "cell_type": "code",
      "source": [
        "num_epochs = 4\n",
        "total_step = len(test_dl)\n",
        "for epoch in range(num_epochs):\n",
        "    for i, (x_cats, x_conts, y) in enumerate(test_dl):\n",
        "        x_cats, x_conts, y = x_cats.to(device), x_conts.to(device), y.to(device)\n",
        "        \n",
        "        # forward\n",
        "        outputs = ufc_model(x_cats, x_conts)\n",
        "        loss = criterion(outputs, y)\n",
        "        \n",
        "        # backward and optimize\n",
        "        optimizer.zero_grad()\n",
        "        loss.backward()\n",
        "        optimizer.step()\n",
        "        \n",
        "        if (i+1) % 100 == 0:\n",
        "            print ('Epoch [{}/{}], Step [{}/{}], Loss: {:.4f}' \n",
        "                   .format(epoch+1, num_epochs, i+1, total_step, loss.item()))"
      ],
      "metadata": {
        "id": "ei9ouZmnUScn"
      },
      "execution_count": null,
      "outputs": []
    },
    {
      "cell_type": "code",
      "source": [
        "with torch.no_grad():\n",
        "    correct = 0\n",
        "    total = 0\n",
        "    for x_cats, x_conts, y in test_dl:\n",
        "        x_cats, x_conts, y = x_cats.to(device), x_conts.to(device), y.to(device)\n",
        "        outputs = ufc_model(x_cats, x_conts)\n",
        "        preds = (outputs>0.5).type(torch.FloatTensor)\n",
        "        total += y.size(0)\n",
        "        correct += (preds == y).sum().item()\n",
        "\n",
        "print (\"Accuracy: {:.2f}%\".format(100*correct/total))"
      ],
      "metadata": {
        "id": "xKqvyUDIUU_W",
        "colab": {
          "base_uri": "https://localhost:8080/"
        },
        "outputId": "b57e80d2-a778-43aa-8d22-49756671bc9d"
      },
      "execution_count": null,
      "outputs": [
        {
          "output_type": "stream",
          "name": "stdout",
          "text": [
            "Accuracy: 81.82%\n"
          ]
        }
      ]
    },
    {
      "cell_type": "code",
      "source": [
        "outputs"
      ],
      "metadata": {
        "id": "w4FnOb3kXMb0",
        "colab": {
          "base_uri": "https://localhost:8080/"
        },
        "outputId": "98885b41-1d69-4592-d7ac-46ac193d026f"
      },
      "execution_count": null,
      "outputs": [
        {
          "output_type": "execute_result",
          "data": {
            "text/plain": [
              "tensor([[0.8797],\n",
              "        [0.8089],\n",
              "        [0.9956],\n",
              "        [0.9964],\n",
              "        [0.4411],\n",
              "        [0.8793],\n",
              "        [0.0178],\n",
              "        [0.9946],\n",
              "        [0.6983],\n",
              "        [0.8812],\n",
              "        [0.6849]])"
            ]
          },
          "metadata": {},
          "execution_count": 68
        }
      ]
    },
    {
      "cell_type": "code",
      "source": [
        "outputs = pd.DataFrame(outputs)"
      ],
      "metadata": {
        "id": "xj1WYPYohJGB"
      },
      "execution_count": null,
      "outputs": []
    },
    {
      "cell_type": "code",
      "source": [
        "outputs"
      ],
      "metadata": {
        "id": "frsITLwHhPxP"
      },
      "execution_count": null,
      "outputs": []
    },
    {
      "cell_type": "code",
      "source": [
        "X"
      ],
      "metadata": {
        "id": "TyDQqGllgvDC"
      },
      "execution_count": null,
      "outputs": []
    },
    {
      "cell_type": "code",
      "source": [
        "data"
      ],
      "metadata": {
        "id": "90bqLCWYhT6b"
      },
      "execution_count": null,
      "outputs": []
    },
    {
      "cell_type": "code",
      "source": [
        "data1['fighter1_name']"
      ],
      "metadata": {
        "id": "LTS0mQzvhuQG",
        "colab": {
          "base_uri": "https://localhost:8080/"
        },
        "outputId": "24c8cbd4-34d5-4b46-9e94-d1bafc675585"
      },
      "execution_count": null,
      "outputs": [
        {
          "output_type": "execute_result",
          "data": {
            "text/plain": [
              "0      Mackenzie Dern\n",
              "1         Randy Brown\n",
              "2      Raoni Barcelos\n",
              "3      John Castaneda\n",
              "4          Mike Davis\n",
              "5         Ilir Latifi\n",
              "6       Jessica Penne\n",
              "7       Joaquim Silva\n",
              "8     Krzysztof Jotko\n",
              "9       Maxim Grishin\n",
              "10     Guido Cannetti\n",
              "Name: fighter1_name, dtype: object"
            ]
          },
          "metadata": {},
          "execution_count": 73
        }
      ]
    },
    {
      "cell_type": "code",
      "source": [
        "pd.concat([data1['fighter1_name'], data1['fighter2_name'], outputs], axis=1)"
      ],
      "metadata": {
        "id": "pfHSi7fZiSBz",
        "colab": {
          "base_uri": "https://localhost:8080/",
          "height": 394
        },
        "outputId": "ff162733-dd5e-4974-9d80-ef49a7cda825"
      },
      "execution_count": null,
      "outputs": [
        {
          "output_type": "execute_result",
          "data": {
            "text/plain": [
              "      fighter1_name         fighter2_name               0\n",
              "0    Mackenzie Dern           Yan Xiaonan  tensor(0.8797)\n",
              "1       Randy Brown    Francisco Trinaldo  tensor(0.8089)\n",
              "2    Raoni Barcelos          Trevin Jones  tensor(0.9956)\n",
              "3    John Castaneda         Daniel Santos  tensor(0.9964)\n",
              "4        Mike Davis  Viacheslav Borshchev  tensor(0.4411)\n",
              "5       Ilir Latifi       Aleksei Oleinik  tensor(0.8793)\n",
              "6     Jessica Penne         Tabatha Ricci  tensor(0.0178)\n",
              "7     Joaquim Silva          Jesse Ronson  tensor(0.9946)\n",
              "8   Krzysztof Jotko         Brendan Allen  tensor(0.6983)\n",
              "9     Maxim Grishin          Philipe Lins  tensor(0.8812)\n",
              "10   Guido Cannetti           Randy Costa  tensor(0.6849)"
            ],
            "text/html": [
              "\n",
              "  <div id=\"df-94fcf8fb-ef56-4f86-908f-f81687952c7c\">\n",
              "    <div class=\"colab-df-container\">\n",
              "      <div>\n",
              "<style scoped>\n",
              "    .dataframe tbody tr th:only-of-type {\n",
              "        vertical-align: middle;\n",
              "    }\n",
              "\n",
              "    .dataframe tbody tr th {\n",
              "        vertical-align: top;\n",
              "    }\n",
              "\n",
              "    .dataframe thead th {\n",
              "        text-align: right;\n",
              "    }\n",
              "</style>\n",
              "<table border=\"1\" class=\"dataframe\">\n",
              "  <thead>\n",
              "    <tr style=\"text-align: right;\">\n",
              "      <th></th>\n",
              "      <th>fighter1_name</th>\n",
              "      <th>fighter2_name</th>\n",
              "      <th>0</th>\n",
              "    </tr>\n",
              "  </thead>\n",
              "  <tbody>\n",
              "    <tr>\n",
              "      <th>0</th>\n",
              "      <td>Mackenzie Dern</td>\n",
              "      <td>Yan Xiaonan</td>\n",
              "      <td>tensor(0.8797)</td>\n",
              "    </tr>\n",
              "    <tr>\n",
              "      <th>1</th>\n",
              "      <td>Randy Brown</td>\n",
              "      <td>Francisco Trinaldo</td>\n",
              "      <td>tensor(0.8089)</td>\n",
              "    </tr>\n",
              "    <tr>\n",
              "      <th>2</th>\n",
              "      <td>Raoni Barcelos</td>\n",
              "      <td>Trevin Jones</td>\n",
              "      <td>tensor(0.9956)</td>\n",
              "    </tr>\n",
              "    <tr>\n",
              "      <th>3</th>\n",
              "      <td>John Castaneda</td>\n",
              "      <td>Daniel Santos</td>\n",
              "      <td>tensor(0.9964)</td>\n",
              "    </tr>\n",
              "    <tr>\n",
              "      <th>4</th>\n",
              "      <td>Mike Davis</td>\n",
              "      <td>Viacheslav Borshchev</td>\n",
              "      <td>tensor(0.4411)</td>\n",
              "    </tr>\n",
              "    <tr>\n",
              "      <th>5</th>\n",
              "      <td>Ilir Latifi</td>\n",
              "      <td>Aleksei Oleinik</td>\n",
              "      <td>tensor(0.8793)</td>\n",
              "    </tr>\n",
              "    <tr>\n",
              "      <th>6</th>\n",
              "      <td>Jessica Penne</td>\n",
              "      <td>Tabatha Ricci</td>\n",
              "      <td>tensor(0.0178)</td>\n",
              "    </tr>\n",
              "    <tr>\n",
              "      <th>7</th>\n",
              "      <td>Joaquim Silva</td>\n",
              "      <td>Jesse Ronson</td>\n",
              "      <td>tensor(0.9946)</td>\n",
              "    </tr>\n",
              "    <tr>\n",
              "      <th>8</th>\n",
              "      <td>Krzysztof Jotko</td>\n",
              "      <td>Brendan Allen</td>\n",
              "      <td>tensor(0.6983)</td>\n",
              "    </tr>\n",
              "    <tr>\n",
              "      <th>9</th>\n",
              "      <td>Maxim Grishin</td>\n",
              "      <td>Philipe Lins</td>\n",
              "      <td>tensor(0.8812)</td>\n",
              "    </tr>\n",
              "    <tr>\n",
              "      <th>10</th>\n",
              "      <td>Guido Cannetti</td>\n",
              "      <td>Randy Costa</td>\n",
              "      <td>tensor(0.6849)</td>\n",
              "    </tr>\n",
              "  </tbody>\n",
              "</table>\n",
              "</div>\n",
              "      <button class=\"colab-df-convert\" onclick=\"convertToInteractive('df-94fcf8fb-ef56-4f86-908f-f81687952c7c')\"\n",
              "              title=\"Convert this dataframe to an interactive table.\"\n",
              "              style=\"display:none;\">\n",
              "        \n",
              "  <svg xmlns=\"http://www.w3.org/2000/svg\" height=\"24px\"viewBox=\"0 0 24 24\"\n",
              "       width=\"24px\">\n",
              "    <path d=\"M0 0h24v24H0V0z\" fill=\"none\"/>\n",
              "    <path d=\"M18.56 5.44l.94 2.06.94-2.06 2.06-.94-2.06-.94-.94-2.06-.94 2.06-2.06.94zm-11 1L8.5 8.5l.94-2.06 2.06-.94-2.06-.94L8.5 2.5l-.94 2.06-2.06.94zm10 10l.94 2.06.94-2.06 2.06-.94-2.06-.94-.94-2.06-.94 2.06-2.06.94z\"/><path d=\"M17.41 7.96l-1.37-1.37c-.4-.4-.92-.59-1.43-.59-.52 0-1.04.2-1.43.59L10.3 9.45l-7.72 7.72c-.78.78-.78 2.05 0 2.83L4 21.41c.39.39.9.59 1.41.59.51 0 1.02-.2 1.41-.59l7.78-7.78 2.81-2.81c.8-.78.8-2.07 0-2.86zM5.41 20L4 18.59l7.72-7.72 1.47 1.35L5.41 20z\"/>\n",
              "  </svg>\n",
              "      </button>\n",
              "      \n",
              "  <style>\n",
              "    .colab-df-container {\n",
              "      display:flex;\n",
              "      flex-wrap:wrap;\n",
              "      gap: 12px;\n",
              "    }\n",
              "\n",
              "    .colab-df-convert {\n",
              "      background-color: #E8F0FE;\n",
              "      border: none;\n",
              "      border-radius: 50%;\n",
              "      cursor: pointer;\n",
              "      display: none;\n",
              "      fill: #1967D2;\n",
              "      height: 32px;\n",
              "      padding: 0 0 0 0;\n",
              "      width: 32px;\n",
              "    }\n",
              "\n",
              "    .colab-df-convert:hover {\n",
              "      background-color: #E2EBFA;\n",
              "      box-shadow: 0px 1px 2px rgba(60, 64, 67, 0.3), 0px 1px 3px 1px rgba(60, 64, 67, 0.15);\n",
              "      fill: #174EA6;\n",
              "    }\n",
              "\n",
              "    [theme=dark] .colab-df-convert {\n",
              "      background-color: #3B4455;\n",
              "      fill: #D2E3FC;\n",
              "    }\n",
              "\n",
              "    [theme=dark] .colab-df-convert:hover {\n",
              "      background-color: #434B5C;\n",
              "      box-shadow: 0px 1px 3px 1px rgba(0, 0, 0, 0.15);\n",
              "      filter: drop-shadow(0px 1px 2px rgba(0, 0, 0, 0.3));\n",
              "      fill: #FFFFFF;\n",
              "    }\n",
              "  </style>\n",
              "\n",
              "      <script>\n",
              "        const buttonEl =\n",
              "          document.querySelector('#df-94fcf8fb-ef56-4f86-908f-f81687952c7c button.colab-df-convert');\n",
              "        buttonEl.style.display =\n",
              "          google.colab.kernel.accessAllowed ? 'block' : 'none';\n",
              "\n",
              "        async function convertToInteractive(key) {\n",
              "          const element = document.querySelector('#df-94fcf8fb-ef56-4f86-908f-f81687952c7c');\n",
              "          const dataTable =\n",
              "            await google.colab.kernel.invokeFunction('convertToInteractive',\n",
              "                                                     [key], {});\n",
              "          if (!dataTable) return;\n",
              "\n",
              "          const docLinkHtml = 'Like what you see? Visit the ' +\n",
              "            '<a target=\"_blank\" href=https://colab.research.google.com/notebooks/data_table.ipynb>data table notebook</a>'\n",
              "            + ' to learn more about interactive tables.';\n",
              "          element.innerHTML = '';\n",
              "          dataTable['output_type'] = 'display_data';\n",
              "          await google.colab.output.renderOutput(dataTable, element);\n",
              "          const docLink = document.createElement('div');\n",
              "          docLink.innerHTML = docLinkHtml;\n",
              "          element.appendChild(docLink);\n",
              "        }\n",
              "      </script>\n",
              "    </div>\n",
              "  </div>\n",
              "  "
            ]
          },
          "metadata": {},
          "execution_count": 76
        }
      ]
    },
    {
      "cell_type": "code",
      "source": [
        "data1"
      ],
      "metadata": {
        "id": "TgiYjxaUh4lw"
      },
      "execution_count": null,
      "outputs": []
    },
    {
      "cell_type": "code",
      "source": [
        "X"
      ],
      "metadata": {
        "id": "RZxTKbqpmqlJ"
      },
      "execution_count": null,
      "outputs": []
    }
  ]
}
