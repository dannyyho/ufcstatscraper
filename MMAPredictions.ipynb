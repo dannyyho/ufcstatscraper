{
  "nbformat": 4,
  "nbformat_minor": 0,
  "metadata": {
    "colab": {
      "provenance": [],
      "collapsed_sections": [],
      "include_colab_link": true
    },
    "kernelspec": {
      "name": "python3",
      "display_name": "Python 3"
    },
    "language_info": {
      "name": "python"
    }
  },
  "cells": [
    {
      "cell_type": "markdown",
      "metadata": {
        "id": "view-in-github",
        "colab_type": "text"
      },
      "source": [
        "<a href=\"https://colab.research.google.com/github/dannyyho/ufcstatscraper/blob/master/MMAPredictions.ipynb\" target=\"_parent\"><img src=\"https://colab.research.google.com/assets/colab-badge.svg\" alt=\"Open In Colab\"/></a>"
      ]
    },
    {
      "cell_type": "code",
      "execution_count": 1,
      "metadata": {
        "colab": {
          "base_uri": "https://localhost:8080/"
        },
        "id": "euJnfmh9ymSI",
        "outputId": "54a28539-4f67-4ca8-f0f4-f8f6d97a2e28"
      },
      "outputs": [
        {
          "output_type": "stream",
          "name": "stdout",
          "text": [
            "Drive already mounted at /drive; to attempt to forcibly remount, call drive.mount(\"/drive\", force_remount=True).\n"
          ]
        },
        {
          "output_type": "stream",
          "name": "stderr",
          "text": [
            "/usr/local/lib/python3.7/dist-packages/IPython/core/interactiveshell.py:3326: DtypeWarning: Columns (25) have mixed types.Specify dtype option on import or set low_memory=False.\n",
            "  exec(code_obj, self.user_global_ns, self.user_ns)\n"
          ]
        }
      ],
      "source": [
        "import pandas as pd\n",
        "from google.colab import drive\n",
        "drive.mount('/drive')\n",
        "\n",
        "df_train = pd.read_csv('/drive/My Drive/feedformodel.csv')\n",
        "df_test = pd.read_csv('/drive/My Drive/week4.csv')\n",
        "df_test_pred = pd.read_csv('/drive/My Drive/week4.csv')"
      ]
    },
    {
      "cell_type": "code",
      "source": [
        "import pandas as pd\n",
        "import numpy as np\n",
        "import torch\n",
        "import torch.nn as nn\n",
        "import torch.nn.functional as F\n",
        "from torch.utils.data import Dataset, DataLoader\n",
        "from sklearn.model_selection import train_test_split\n",
        "from sklearn.preprocessing import StandardScaler\n",
        "from sklearn.impute import SimpleImputer\n",
        "from sklearn.experimental import enable_iterative_imputer\n",
        "from sklearn.impute import SimpleImputer, IterativeImputer\n",
        "\n",
        "from google.colab import data_table\n",
        "data_table.enable_dataframe_formatter()\n",
        "\n",
        "from google.colab import data_table\n",
        "from vega_datasets import data\n",
        "\n",
        "data_table.enable_dataframe_formatter()\n"
      ],
      "metadata": {
        "id": "FL0XdNhF__hN"
      },
      "execution_count": 2,
      "outputs": []
    },
    {
      "cell_type": "markdown",
      "source": [
        "# DATA PREPROCESSING"
      ],
      "metadata": {
        "id": "QXqx5hQbBjL-"
      }
    },
    {
      "cell_type": "code",
      "source": [
        "df_train = df_train.replace('--', np.nan)\n",
        "df_test = df_test.replace('--', np.nan)"
      ],
      "metadata": {
        "id": "lSBSypG55KKo"
      },
      "execution_count": 3,
      "outputs": []
    },
    {
      "cell_type": "code",
      "source": [
        "from sklearn.impute import SimpleImputer\n",
        "from sklearn.experimental import enable_iterative_imputer\n",
        "from sklearn.impute import SimpleImputer, IterativeImputer\n",
        "\n",
        "\n",
        "# # Simple Imputer for missing fighter stances.\n",
        "# stance_feats = ['fighter1_stance','fighter2_stance']\n",
        "# null_feats = ['fighter1_height','fighter1_weight','fighter1_reach','fighter2_height','fighter2_weight','fighter2_reach']\n",
        "\n",
        "# stance_imputer = SimpleImputer(strategy='most_frequent')\n",
        "\n",
        "# # stance_imputed_pipeline = stance_imputer.fit(df_train[stance_feats])\n",
        "# # df_train[stance_feats] = stance_imputed_pipeline.transform(df_train[stance_feats])"
      ],
      "metadata": {
        "id": "PqQ_36baCfc-"
      },
      "execution_count": 4,
      "outputs": []
    },
    {
      "cell_type": "code",
      "source": [
        "\n",
        "# # Iterative Imputation for fighter height, weight, reach, birthyear.\n",
        "\n",
        "# iter_imputer = IterativeImputer(random_state=42)\n",
        "\n",
        "# # iter_imputed_pipeline = iter_imputer.fit(df_train[null_feats])\n",
        "# # df_train[null_feats] = iter_imputed_pipeline.transform(df_train[null_feats])\n"
      ],
      "metadata": {
        "id": "aKbinTSWA4UE"
      },
      "execution_count": 5,
      "outputs": []
    },
    {
      "cell_type": "code",
      "source": [
        "df_train = df_train.reindex(sorted(df_train.columns), axis=1)\n",
        "df_test = df_test.reindex(sorted(df_test.columns), axis=1)"
      ],
      "metadata": {
        "id": "sWnVkv9vmDbP"
      },
      "execution_count": 6,
      "outputs": []
    },
    {
      "cell_type": "code",
      "source": [
        "# use matches that have a winner, ignore nc, draws \n",
        "df_train = df_train.drop(df_train[(df_train.winner != 1) & (df_train.winner != 2)].index)\n",
        "df_train['winner'] = df_train['winner'].apply(lambda x: 1 if x == 1 else 0)\n"
      ],
      "metadata": {
        "id": "kVjh9g8Ngibb"
      },
      "execution_count": 7,
      "outputs": []
    },
    {
      "cell_type": "code",
      "source": [
        "print(len(df_train.filter(regex=\"^fighter1\",axis=1).columns))\n",
        "print(len(df_train.filter(regex=\"^fighter2\",axis=1).columns))\n",
        "print(df_train[\"winner\"].value_counts())\n",
        "balance = int(6205 - (len(df_train)/2))\n",
        "balance "
      ],
      "metadata": {
        "colab": {
          "base_uri": "https://localhost:8080/"
        },
        "id": "sL5f6teBgdmh",
        "outputId": "af76de9c-7f6a-4e61-a48a-4ec214fb541d"
      },
      "execution_count": 8,
      "outputs": [
        {
          "output_type": "stream",
          "name": "stdout",
          "text": [
            "60\n",
            "60\n",
            "1    6205\n",
            "0    2537\n",
            "Name: winner, dtype: int64\n"
          ]
        },
        {
          "output_type": "execute_result",
          "data": {
            "text/plain": [
              "1834"
            ]
          },
          "metadata": {},
          "execution_count": 8
        }
      ]
    },
    {
      "cell_type": "code",
      "source": [
        "s1 = df_train.winner[df_train.winner.eq(1)].sample(balance).index"
      ],
      "metadata": {
        "id": "zEQQeJ3EhIE2"
      },
      "execution_count": 9,
      "outputs": []
    },
    {
      "cell_type": "code",
      "source": [
        "import re\n",
        "newdf = df_train[df_train.index.isin(s1)]\n",
        "newdf['winner'] = newdf['winner'].apply(lambda x: 0 if x == 1 else 1)\n",
        "newdf = newdf.rename(columns=lambda x: re.sub('^fighter1','fighter3',x))\n",
        "newdf = newdf.rename(columns=lambda x: re.sub('^fighter2','fighter1',x))\n",
        "newdf = newdf.rename(columns=lambda x: re.sub('^fighter3','fighter2',x))\n",
        "newdf = newdf.reindex(sorted(newdf.columns), axis=1)"
      ],
      "metadata": {
        "colab": {
          "base_uri": "https://localhost:8080/"
        },
        "id": "s8CynPu0o2NM",
        "outputId": "5b931eef-b61f-4b5f-ceb5-87b20e169597"
      },
      "execution_count": 10,
      "outputs": [
        {
          "output_type": "stream",
          "name": "stderr",
          "text": [
            "/usr/local/lib/python3.7/dist-packages/ipykernel_launcher.py:3: SettingWithCopyWarning: \n",
            "A value is trying to be set on a copy of a slice from a DataFrame.\n",
            "Try using .loc[row_indexer,col_indexer] = value instead\n",
            "\n",
            "See the caveats in the documentation: https://pandas.pydata.org/pandas-docs/stable/user_guide/indexing.html#returning-a-view-versus-a-copy\n",
            "  This is separate from the ipykernel package so we can avoid doing imports until\n"
          ]
        }
      ]
    },
    {
      "cell_type": "code",
      "source": [
        "df_train = df_train.drop(s1)\n",
        "df_train = pd.concat([df_train, newdf], axis=0)"
      ],
      "metadata": {
        "id": "OuBL3cmOlTuP"
      },
      "execution_count": 11,
      "outputs": []
    },
    {
      "cell_type": "code",
      "source": [
        "print(len(df_train.filter(regex=\"^fighter1\",axis=1).columns))\n",
        "print(len(df_train.filter(regex=\"^fighter2\",axis=1).columns))\n",
        "print(df_train[\"winner\"].value_counts())"
      ],
      "metadata": {
        "colab": {
          "base_uri": "https://localhost:8080/"
        },
        "id": "Lq71lt6xtMad",
        "outputId": "fc49016b-5854-4873-894b-cf55f068fb43"
      },
      "execution_count": 12,
      "outputs": [
        {
          "output_type": "stream",
          "name": "stdout",
          "text": [
            "60\n",
            "60\n",
            "0    4371\n",
            "1    4371\n",
            "Name: winner, dtype: int64\n"
          ]
        }
      ]
    },
    {
      "cell_type": "code",
      "source": [
        "# calculate age using birthyear of fighter\n",
        "df_train['fighter1_birthyear'] = df_train['fighter1_birthyear'].replace( np.nan, 1992).astype('int64')\n",
        "df_test['fighter1_birthyear'] = df_train['fighter1_birthyear'].replace( np.nan, 1992).astype('int64')\n",
        "df_train['fighter2_birthyear'] = df_train['fighter2_birthyear'].replace( np.nan, 1992).astype('int64')\n",
        "df_test['fighter2_birthyear'] = df_train['fighter2_birthyear'].replace( np.nan, 1992).astype('int64')\n",
        "\n",
        "year_feats_birth = ['fighter1_birthyear','fighter2_birthyear']\n",
        "year_feats_age = ['fighter1_age','fighter2_age']\n",
        "this_year = 2022\n",
        "\n",
        "# function for calculating age\n",
        "def calc_age(birthyear):\n",
        "    return this_year - birthyear\n",
        " \n",
        "df_train[year_feats_age] = df_train[year_feats_birth].apply(calc_age)\n",
        "df_test[year_feats_age] = df_test[year_feats_birth].apply(calc_age)\n",
        "\n",
        "df_train = df_train.drop(columns = [\"fighter1_birthyear\",\"fighter2_birthyear\"])\n",
        "df_test = df_test.drop(columns = [\"fighter1_birthyear\",\"fighter2_birthyear\"])"
      ],
      "metadata": {
        "id": "vXH_RP9nM6m9"
      },
      "execution_count": 13,
      "outputs": []
    },
    {
      "cell_type": "code",
      "source": [
        "# calculate total fights for each fighter\n",
        "fight1_feats = ['fighter1_wins','fighter1_losses','fighter1_draws','fighter1_ncs']\n",
        "fight2_feats = ['fighter2_wins','fighter2_losses','fighter2_draws','fighter2_ncs']\n",
        "fight_feats_new = ['fighter1_totalfights','fighter2_totalfights']\n",
        "\n",
        "# function for total fights\n",
        "def calc_fights(fights, fights2):\n",
        "    return [sum(fights), sum(fights2)]\n",
        "\n",
        "df_train[fight_feats_new] = df_train.apply(lambda x: calc_fights(x[fight1_feats],x[fight2_feats]), axis=1, result_type ='expand')\n",
        "df_test[fight_feats_new] = df_test.apply(lambda x: calc_fights(x[fight1_feats],x[fight2_feats]), axis=1, result_type ='expand')"
      ],
      "metadata": {
        "id": "Yy2RZqHLpFze"
      },
      "execution_count": 14,
      "outputs": []
    },
    {
      "cell_type": "code",
      "source": [
        "# convert total fight time from seconds to minutes\n",
        "fight_feats_mins = ['fighter1_total_time_fought','fighter1_CTRL','fighter1_CTRLED','fighter2_total_time_fought','fighter2_CTRL','fighter2_CTRLED']\n",
        "mins = 60\n",
        "\n",
        "# function to convert from seconds to minutes\n",
        "def convert_mins(time_fought):\n",
        "    return time_fought / mins\n",
        "\n",
        "df_train[fight_feats_mins] = df_train[fight_feats_mins].apply(convert_mins)\n",
        "df_test[fight_feats_mins] = df_test[fight_feats_mins].apply(convert_mins)"
      ],
      "metadata": {
        "id": "5IoVv-gmrL8_"
      },
      "execution_count": 15,
      "outputs": []
    },
    {
      "cell_type": "markdown",
      "source": [
        "# FEATURE ENGINEERING"
      ],
      "metadata": {
        "id": "vuTJae4xvcUC"
      }
    },
    {
      "cell_type": "code",
      "source": [
        "#@title treatment for KD, REV, REVED, DOWNED\n",
        "\n",
        "fight_stats_cols1 = ['fighter1_wsub_subatt', 'fighter1_rounds_fought_totalfights', 'fighter1_KD', 'fighter1_DOWNED', 'fighter1_SUBATT_CTRL', 'fighter1_REV_mins', 'fighter1_REVED_mins','fighter2_wsub_subatt', 'fighter2_rounds_fought_totalfights', 'fighter2_KD', 'fighter2_DOWNED', 'fighter2_SUBATT_CTRL', 'fighter2_REV_mins', 'fighter2_REVED_mins']\n",
        "\n",
        "def add_cols1(row):\n",
        "  try:\n",
        "    fighter1_wsub_subatt = row.fighter1_wsub / row.fighter1_SUBATT\n",
        "    fighter1_rounds_fought_totalfights = row.fighter1_rounds_fought / row.fighter1_totalfights\n",
        "    fighter1_KD = row.fighter1_KD / row.fighter1_totalfights\n",
        "    fighter1_DOWNED = row.fighter1_DOWNED / row.fighter1_totalfights\n",
        "    fighter1_SUBATT_CTRL = row.fighter1_SUBATT / row.fighter1_CTRL\n",
        "    fighter1_REV_mins = row.fighter1_REV / row.fighter1_CTRL\n",
        "    fighter1_REVED_mins = row.fighter1_REVED / row.fighter1_CTRL\n",
        "\n",
        "    fighter2_wsub_subatt = row.fighter2_wsub / row.fighter2_SUBATT\n",
        "    fighter2_rounds_fought_totalfights = row.fighter2_rounds_fought / row.fighter2_totalfights\n",
        "    fighter2_KD = row.fighter2_KD / row.fighter2_totalfights\n",
        "    fighter2_DOWNED = row.fighter2_DOWNED / row.fighter2_totalfights\n",
        "    fighter2_SUBATT_CTRL = row.fighter2_SUBATT / row.fighter2_CTRL\n",
        "    fighter2_REV_mins = row.fighter2_REV / row.fighter2_CTRL\n",
        "    fighter2_REVED_mins = row.fighter2_REVED / row.fighter2_CTRL\n",
        "  except ZeroDivisionError:\n",
        "    fighter1_wsub_subatt = 0 \n",
        "    fighter1_rounds_fought_totalfights = 0 \n",
        "    fighter1_KD = 0 \n",
        "    fighter1_DOWNED = 0 \n",
        "    fighter1_SUBATT_CTRL= 0 \n",
        "    fighter1_REV_mins = 0\n",
        "    fighter1_REVED_mins = 0\n",
        "\n",
        "    fighter2_wsub_subatt = 0 \n",
        "    fighter2_rounds_fought_totalfights = 0 \n",
        "    fighter2_KD = 0\n",
        "    fighter2_DOWNED = 0\n",
        "    fighter2_SUBATT_CTRL = 0\n",
        "    fighter2_REV_mins = 0\n",
        "    fighter2_REVED_mins = 0\n",
        "  return fighter1_wsub_subatt, fighter1_rounds_fought_totalfights, fighter1_KD, fighter1_DOWNED, fighter1_SUBATT_CTRL, fighter1_REV_mins, fighter1_REVED_mins,fighter2_wsub_subatt, fighter2_rounds_fought_totalfights, fighter2_KD, fighter2_DOWNED, fighter2_SUBATT_CTRL, fighter2_REV_mins, fighter2_REVED_mins\n",
        "\n",
        "df_train[fight_stats_cols1] = df_train.apply(add_cols1, axis=1, result_type = 'expand')\n",
        "df_test[fight_stats_cols1] = df_test.apply(add_cols1, axis=1, result_type = 'expand')\n",
        "\n",
        "df_train = df_train.drop(columns = ['fighter1_SUBATT','fighter2_SUBATT','fighter1_REV','fighter2_REV','fighter1_REVED','fighter2_REVED'])\n",
        "df_test = df_test.drop(columns = ['fighter1_SUBATT','fighter2_SUBATT','fighter1_REV','fighter2_REV','fighter1_REVED','fighter2_REVED'])\n"
      ],
      "metadata": {
        "id": "AQ80iIAOvbPC",
        "cellView": "form"
      },
      "execution_count": 16,
      "outputs": []
    },
    {
      "cell_type": "code",
      "source": [
        "#@title treatement for dynamic stats with attempts\n",
        "# calculate \"attempt\" features with per total fight mins, per attempt, and attempt per total fight mins\n",
        "\n",
        "fight_stats_col2 = ['fighter1_SS_mins','fighter1_SS_att','fighter1_SSA_mins','fighter1_TD_mins','fighter1_TD_att','fighter1_TDA_mins','fighter1_HS_mins','fighter1_HS_att','fighter1_HSA_mins','fighter1_BS_mins','fighter1_BS_att','fighter1_BSA_mins','fighter1_LS_mins','fighter1_LS_att','fighter1_LSA_mins','fighter1_DS_mins','fighter1_DS_att','fighter1_DSA_mins','fighter1_CS_mins','fighter1_CS_att','fighter1_CSA_mins','fighter1_GS_mins','fighter1_GS_att','fighter1_GSA_mins','fighter1_SSD_mins','fighter1_SSR_mins','fighter1_TDD_mins','fighter1_TDD_TDR','fighter1_TDR_mins','fighter1_HSD_mins','fighter1_HSD_HSR','fighter1_HSR_mins','fighter1_BSD_mins','fighter1_BSD_BSR','fighter1_BSR_mins','fighter1_LSD_mins','fighter1_LSD_LSR','fighter1_LSR_mins','fighter1_DSD_mins','fighter1_DSD_DSR','fighter1_DSR_mins','fighter1_CSD_mins','fighter1_CSD_CSR','fighter1_CSR_mins','fighter1_GSD_mins','fighter1_CSD_GSR','fighter1_GSR_mins','fighter2_SS_mins','fighter2_SS_att','fighter2_SSA_mins','fighter2_TD_mins','fighter2_TD_att','fighter2_TDA_mins','fighter2_HS_mins','fighter2_HS_att','fighter2_HSA_mins','fighter2_BS_mins','fighter2_BS_att','fighter2_BSA_mins','fighter2_LS_mins','fighter2_LS_att','fighter2_LSA_mins','fighter2_DS_mins','fighter2_DS_att','fighter2_DSA_mins','fighter2_CS_mins','fighter2_CS_att','fighter2_CSA_mins','fighter2_GS_mins','fighter2_GS_att','fighter2_GSA_mins','fighter2_SSD_mins','fighter2_SSR_mins','fighter2_TDD_mins','fighter2_TDD_TDR','fighter2_TDR_mins','fighter2_HSD_mins','fighter2_HSD_HSR','fighter2_HSR_mins','fighter2_BSD_mins','fighter2_BSD_BSR','fighter2_BSR_mins','fighter2_LSD_mins','fighter2_LSD_LSR','fighter2_LSR_mins','fighter2_DSD_mins','fighter2_DSD_DSR','fighter2_DSR_mins','fighter2_CSD_mins','fighter2_CSD_CSR','fighter2_CSR_mins','fighter2_GSD_mins','fighter2_CSD_GSR','fighter2_GSR_mins']\n",
        "\n",
        "def add_col2(row):\n",
        "    try:\n",
        "      fighter1_SS_mins = row.fighter1_SS / row.fighter1_total_time_fought\n",
        "      fighter1_SS_att = row.fighter1_SS / row.fighter1_SSA\n",
        "      fighter1_SSA_mins = row.fighter1_SSA / row.fighter1_total_time_fought\n",
        "      fighter1_TD_mins = row.fighter1_TD / row.fighter1_total_time_fought\n",
        "      fighter1_TD_att = row.fighter1_TD / row.fighter1_TDA\n",
        "      fighter1_TDA_mins = row.fighter1_TD / row.fighter1_total_time_fought\n",
        "      fighter1_HS_mins = row.fighter1_HS / row.fighter1_total_time_fought\n",
        "      fighter1_HS_att = row.fighter1_HS / row.fighter1_HSA\n",
        "      fighter1_HSA_mins = row.fighter1_HSA / row.fighter1_total_time_fought\n",
        "      fighter1_BS_mins = row.fighter1_BS / row.fighter1_total_time_fought\n",
        "      fighter1_BS_att= row.fighter1_BS / row.fighter1_BSA\n",
        "      fighter1_BSA_mins = row.fighter1_BSA / row.fighter1_total_time_fought\n",
        "      fighter1_LS_mins = row.fighter1_LS / row.fighter1_total_time_fought\n",
        "      fighter1_LS_att = row.fighter1_LS / row.fighter1_LSA\n",
        "      fighter1_LSA_mins = row.fighter1_LSA / row.fighter1_total_time_fought\n",
        "      fighter1_DS_mins = row.fighter1_DS / row.fighter1_total_time_fought\n",
        "      fighter1_DS_att = row.fighter1_DS / row.fighter1_DSA\n",
        "      fighter1_DSA_mins = row.fighter2_DSA / row.fighter1_total_time_fought\n",
        "      fighter1_CS_mins = row.fighter1_CS / row.fighter1_total_time_fought\n",
        "      fighter1_CS_att = row.fighter1_CS / row.fighter1_CSA\n",
        "      fighter1_CSA_mins = row.fighter1_CSA / row.fighter1_total_time_fought\n",
        "      fighter1_GS_mins = row.fighter1_GS / row.fighter1_total_time_fought\n",
        "      fighter1_GS_att = row.fighter1_GS / row.fighter1_GSA\n",
        "      fighter1_GSA_mins = row.fighter1_GSA / row.fighter1_total_time_fought\n",
        "      fighter1_SSD_mins = row.fighter1_SSD / row.fighter1_SSR\n",
        "      fighter1_SSR_mins = row.fighter1_SSR / row.fighter1_total_time_fought\n",
        "      fighter1_TDD_mins = row.fighter1_TDD / row.fighter1_total_time_fought\n",
        "      fighter1_TDD_TDR = row.fighter1_TDD / row.fighter1_TDR\n",
        "      fighter1_TDR_mins = row.fighter1_TDR / row.fighter1_total_time_fought\n",
        "      fighter1_HSD_mins = row.fighter1_HSD / row.fighter1_total_time_fought\n",
        "      fighter1_HSD_HSR = row.fighter1_HSD / row.fighter1_HSR\n",
        "      fighter1_HSR_mins = row.fighter1_HSR / row.fighter1_total_time_fought\n",
        "      fighter1_BSD_mins = row.fighter1_BSD / row.fighter1_total_time_fought\n",
        "      fighter1_BSD_BSR = row.fighter1_BSD / row.fighter1_BSR\n",
        "      fighter1_BSR_mins = row.fighter1_BSR / row.fighter1_total_time_fought\n",
        "      fighter1_LSD_mins = row.fighter1_LSD / row.fighter1_total_time_fought\n",
        "      fighter1_LSD_LSR = row.fighter1_LSD / row.fighter1_LSR\n",
        "      fighter1_LSR_mins = row.fighter1_LSR / row.fighter1_total_time_fought\n",
        "      fighter1_DSD_mins = row.fighter1_DSD / row.fighter1_total_time_fought\n",
        "      fighter1_DSD_DSR = row.fighter1_DSD / row.fighter1_DSR\n",
        "      fighter1_DSR_mins = row.fighter1_DSR / row.fighter1_total_time_fought\n",
        "      fighter1_CSD_mins = row.fighter1_CSD / row.fighter1_total_time_fought\n",
        "      fighter1_CSD_CSR = row.fighter1_CSD / row.fighter1_CSR\n",
        "      fighter1_CSR_mins = row.fighter1_CSR / row.fighter1_total_time_fought\n",
        "      fighter1_GSD_mins = row.fighter1_GSD / row.fighter1_total_time_fought\n",
        "      fighter1_CSD_GSR = row.fighter1_GSD / row.fighter1_GSR\n",
        "      fighter1_GSR_mins = row.fighter1_GSR / row.fighter1_total_time_fought\n",
        "\n",
        "      fighter2_SS_mins = row.fighter2_SS / row.fighter2_total_time_fought\n",
        "      fighter2_SS_att = row.fighter2_SS / row.fighter2_SSA\n",
        "      fighter2_SSA_mins = row.fighter2_SSA / row.fighter2_total_time_fought\n",
        "      fighter2_TD_mins = row.fighter2_TD / row.fighter2_total_time_fought\n",
        "      fighter2_TD_att = row.fighter2_TD / row.fighter2_TDA\n",
        "      fighter2_TDA_mins = row.fighter2_TD / row.fighter2_total_time_fought\n",
        "      fighter2_HS_mins = row.fighter2_HS / row.fighter2_total_time_fought\n",
        "      fighter2_HS_att = row.fighter2_HS / row.fighter2_HSA\n",
        "      fighter2_HSA_mins = row.fighter2_HSA / row.fighter2_total_time_fought\n",
        "      fighter2_BS_mins = row.fighter2_BS / row.fighter2_total_time_fought\n",
        "      fighter2_BS_att= row.fighter2_BS / row.fighter2_BSA\n",
        "      fighter2_BSA_mins = row.fighter2_BSA / row.fighter2_total_time_fought\n",
        "      fighter2_LS_mins = row.fighter2_LS / row.fighter2_total_time_fought\n",
        "      fighter2_LS_att = row.fighter2_LS / row.fighter2_LSA\n",
        "      fighter2_LSA_mins = row.fighter2_LSA / row.fighter2_total_time_fought\n",
        "      fighter2_DS_mins = row.fighter2_DS / row.fighter2_total_time_fought\n",
        "      fighter2_DS_att = row.fighter2_DS / row.fighter2_DSA\n",
        "      fighter2_DSA_mins = row.fighter2_DSA / row.fighter2_total_time_fought\n",
        "      fighter2_CS_mins = row.fighter2_CS / row.fighter2_total_time_fought\n",
        "      fighter2_CS_att = row.fighter2_CS / row.fighter2_CSA\n",
        "      fighter2_CSA_mins = row.fighter2_CSA / row.fighter2_total_time_fought\n",
        "      fighter2_GS_mins = row.fighter2_GS / row.fighter2_total_time_fought\n",
        "      fighter2_GS_att = row.fighter2_GS / row.fighter2_GSA\n",
        "      fighter2_GSA_mins = row.fighter2_GSA / row.fighter2_total_time_fought\n",
        "      fighter2_SSD_mins = row.fighter2_SSD / row.fighter2_SSR\n",
        "      fighter2_SSR_mins = row.fighter2_SSR / row.fighter2_total_time_fought\n",
        "      fighter2_TDD_mins = row.fighter2_TDD / row.fighter2_total_time_fought\n",
        "      fighter2_TDD_TDR = row.fighter2_TDD / row.fighter2_TDR\n",
        "      fighter2_TDR_mins = row.fighter2_TDR / row.fighter2_total_time_fought\n",
        "      fighter2_HSD_mins = row.fighter2_HSD / row.fighter2_total_time_fought\n",
        "      fighter2_HSD_HSR = row.fighter2_HSD / row.fighter2_HSR\n",
        "      fighter2_HSR_mins = row.fighter2_HSR / row.fighter2_total_time_fought\n",
        "      fighter2_BSD_mins = row.fighter2_BSD / row.fighter2_total_time_fought\n",
        "      fighter2_BSD_BSR = row.fighter2_BSD / row.fighter2_BSR\n",
        "      fighter2_BSR_mins = row.fighter2_BSR / row.fighter2_total_time_fought\n",
        "      fighter2_LSD_mins = row.fighter2_LSD / row.fighter2_total_time_fought\n",
        "      fighter2_LSD_LSR = row.fighter2_LSD / row.fighter2_LSR\n",
        "      fighter2_LSR_mins = row.fighter2_LSR / row.fighter2_total_time_fought\n",
        "      fighter2_DSD_mins = row.fighter2_DSD / row.fighter2_total_time_fought\n",
        "      fighter2_DSD_DSR = row.fighter2_DSD / row.fighter2_DSR\n",
        "      fighter2_DSR_mins = row.fighter2_DSR / row.fighter2_total_time_fought\n",
        "      fighter2_CSD_mins = row.fighter2_CSD / row.fighter2_total_time_fought\n",
        "      fighter2_CSD_CSR = row.fighter2_CSD / row.fighter2_CSR\n",
        "      fighter2_CSR_mins = row.fighter2_CSR / row.fighter2_total_time_fought\n",
        "      fighter2_GSD_mins = row.fighter2_GSD / row.fighter2_total_time_fought\n",
        "      fighter2_CSD_GSR = row.fighter2_GSD / row.fighter2_GSR\n",
        "      fighter2_GSR_mins = row.fighter2_GSR / row.fighter2_total_time_fought\n",
        "    except ZeroDivisionError:\n",
        "      fighter1_SS_mins = 0\n",
        "      fighter1_SS_att = 0\n",
        "      fighter1_SSA_mins = 0\n",
        "      fighter1_TD_mins = 0\n",
        "      fighter1_TD_att = 0\n",
        "      fighter1_TDA_mins= 0\n",
        "      fighter1_HS_mins= 0\n",
        "      fighter1_HS_att= 0\n",
        "      fighter1_HSA_mins= 0\n",
        "      fighter1_BS_mins= 0\n",
        "      fighter1_BS_att= 0\n",
        "      fighter1_BSA_mins= 0\n",
        "      fighter1_LS_mins= 0\n",
        "      fighter1_LS_att= 0\n",
        "      fighter1_LSA_mins= 0\n",
        "      fighter1_DS_mins= 0\n",
        "      fighter1_DS_att= 0\n",
        "      fighter2_DSA_mins= 0\n",
        "      fighter1_CS_mins= 0\n",
        "      fighter1_CS_att= 0\n",
        "      fighter1_CSA_mins= 0\n",
        "      fighter1_GS_mins= 0\n",
        "      fighter1_GS_att= 0\n",
        "      fighter1_GSA_mins= 0\n",
        "      fighter1_SSD_mins= 0\n",
        "      fighter1_SSR_mins= 0\n",
        "      fighter1_TDD_mins= 0\n",
        "      fighter1_TDD_TDR= 0\n",
        "      fighter1_TDR_mins= 0\n",
        "      fighter1_HSD_mins= 0\n",
        "      fighter1_HSD_HSR= 0\n",
        "      fighter1_HSR_mins= 0\n",
        "      fighter1_BSD_mins= 0\n",
        "      fighter1_BSD_BSR= 0\n",
        "      fighter1_BSR_mins= 0\n",
        "      fighter1_LSD_mins= 0\n",
        "      fighter1_LSD_LSR= 0\n",
        "      fighter1_LSR_mins= 0\n",
        "      fighter1_DSD_mins= 0\n",
        "      fighter1_DSD_DSR= 0\n",
        "      fighter1_DSR_mins= 0\n",
        "      fighter1_CSD_mins= 0\n",
        "      fighter1_CSD_CSR= 0\n",
        "      fighter1_CSR_mins= 0\n",
        "      fighter1_GSD_mins= 0\n",
        "      fighter1_CSD_GSR= 0\n",
        "      fighter1_GSR_mins= 0\n",
        "      fighter2_SS_mins= 0\n",
        "      fighter2_SS_att= 0\n",
        "      fighter2_SSA_mins= 0\n",
        "      fighter2_TD_mins= 0\n",
        "      fighter2_TD_att= 0\n",
        "      fighter2_TDA_mins= 0\n",
        "      fighter2_HS_mins= 0\n",
        "      fighter2_HS_att= 0\n",
        "      fighter2_HSA_mins= 0\n",
        "      fighter2_BS_mins= 0\n",
        "      fighter2_BS_att= 0\n",
        "      fighter2_BSA_mins= 0\n",
        "      fighter2_LS_mins= 0\n",
        "      fighter2_LS_att= 0\n",
        "      fighter2_LSA_mins= 0\n",
        "      fighter2_DS_mins= 0\n",
        "      fighter2_DS_att= 0\n",
        "      fighter2_DSA_mins= 0\n",
        "      fighter2_CS_mins= 0\n",
        "      fighter2_CS_att= 0\n",
        "      fighter2_CSA_mins= 0\n",
        "      fighter2_GS_mins= 0\n",
        "      fighter2_GS_att= 0\n",
        "      fighter2_GSA_mins= 0\n",
        "      fighter2_SSD_mins= 0\n",
        "      fighter2_SSR_mins= 0\n",
        "      fighter2_TDD_mins= 0\n",
        "      fighter2_TDD_TDR= 0\n",
        "      fighter2_TDR_mins= 0\n",
        "      fighter2_HSD_mins= 0\n",
        "      fighter2_HSD_HSR= 0\n",
        "      fighter2_HSR_mins= 0\n",
        "      fighter2_BSD_mins= 0\n",
        "      fighter2_BSD_BSR= 0\n",
        "      fighter2_BSR_mins= 0\n",
        "      fighter2_LSD_mins= 0\n",
        "      fighter2_LSD_LSR= 0\n",
        "      fighter2_LSR_mins= 0\n",
        "      fighter2_DSD_mins= 0\n",
        "      fighter2_DSD_DSR= 0\n",
        "      fighter2_DSR_mins= 0\n",
        "      fighter2_CSD_mins= 0\n",
        "      fighter2_CSD_CSR=0\n",
        "      fighter2_CSR_mins=0\n",
        "      fighter2_GSD_mins=0\n",
        "      fighter2_CSD_GSR= 0\n",
        "      fighter2_GSR_mins=0\n",
        "    return fighter1_SS_mins,fighter1_SS_att,fighter1_SSA_mins,fighter1_TD_mins,fighter1_TD_att,fighter1_TDA_mins,fighter1_HS_mins,fighter1_HS_att,fighter1_HSA_mins,fighter1_BS_mins,fighter1_BS_att,fighter1_BSA_mins,fighter1_LS_mins,fighter1_LS_att,fighter1_LSA_mins,fighter1_DS_mins,fighter1_DS_att,fighter2_DSA_mins,fighter1_CS_mins,fighter1_CS_att,fighter1_CSA_mins,fighter1_GS_mins,fighter1_GS_att,fighter1_GSA_mins,fighter1_SSD_mins,fighter1_SSR_mins,fighter1_TDD_mins,fighter1_TDD_TDR,fighter1_TDR_mins,fighter1_HSD_mins,fighter1_HSD_HSR,fighter1_HSR_mins,fighter1_BSD_mins,fighter1_BSD_BSR,fighter1_BSR_mins,fighter1_LSD_mins,fighter1_LSD_LSR,fighter1_LSR_mins,fighter1_DSD_mins,fighter1_DSD_DSR,fighter1_DSR_mins,fighter1_CSD_mins,fighter1_CSD_CSR,fighter1_CSR_mins,fighter1_GSD_mins,fighter1_CSD_GSR,fighter1_GSR_mins,fighter2_SS_mins,fighter2_SS_att,fighter2_SSA_mins,fighter2_TD_mins,fighter2_TD_att,fighter2_TDA_mins,fighter2_HS_mins,fighter2_HS_att,fighter2_HSA_mins,fighter2_BS_mins,fighter2_BS_att,fighter2_BSA_mins,fighter2_LS_mins,fighter2_LS_att,fighter2_LSA_mins,fighter2_DS_mins,fighter2_DS_att,fighter2_DSA_mins,fighter2_CS_mins,fighter2_CS_att,fighter2_CSA_mins,fighter2_GS_mins,fighter2_GS_att,fighter2_GSA_mins,fighter2_SSD_mins,fighter2_SSR_mins,fighter2_TDD_mins,fighter2_TDD_TDR,fighter2_TDR_mins,fighter2_HSD_mins,fighter2_HSD_HSR,fighter2_HSR_mins,fighter2_BSD_mins,fighter2_BSD_BSR,fighter2_BSR_mins,fighter2_LSD_mins,fighter2_LSD_LSR,fighter2_LSR_mins,fighter2_DSD_mins,fighter2_DSD_DSR,fighter2_DSR_mins,fighter2_CSD_mins,fighter2_CSD_CSR,fighter2_CSR_mins,fighter2_GSD_mins,fighter2_CSD_GSR,fighter2_GSR_mins\n",
        "\n",
        "df_train[fight_stats_col2] = df_train.apply(add_col2, axis=1, result_type = 'expand')\n",
        "df_test[fight_stats_col2] = df_test.apply(add_col2, axis=1, result_type = 'expand')\n",
        "\n",
        "df_train = df_train.drop(columns = ['fighter1_SS','fighter1_SSA','fighter2_SS','fighter2_SSA','fighter1_TD','fighter1_TDA','fighter2_TD','fighter2_TDA','fighter1_HS','fighter1_HSA','fighter2_HS','fighter2_HSA','fighter1_BS','fighter1_BSA','fighter2_BS','fighter2_BSA','fighter1_LS','fighter1_LSA','fighter2_LS','fighter2_LSA','fighter1_DS','fighter1_DSA','fighter2_DS','fighter2_DSA','fighter1_CS','fighter1_CSA','fighter2_CS','fighter2_CSA','fighter1_GS','fighter1_GSA','fighter2_GS','fighter2_GSA','fighter1_SSD','fighter1_SSR','fighter2_SSD','fighter2_SSR','fighter1_TDD','fighter1_TDR','fighter2_TDD','fighter2_TDR','fighter1_HSD','fighter1_HSR','fighter2_HSD','fighter2_HSR','fighter1_BSD','fighter1_BSR','fighter2_BSD','fighter2_BSR','fighter1_LSD','fighter1_LSR','fighter2_LSD','fighter2_LSR','fighter1_DSD','fighter1_DSR','fighter2_DSD','fighter2_DSR','fighter1_CSD','fighter1_CSR','fighter2_CSD','fighter2_CSR','fighter1_GSD','fighter1_GSR','fighter2_GSD','fighter2_GSR'])\n",
        "df_test = df_test.drop(columns = ['fighter1_SS','fighter1_SSA','fighter2_SS','fighter2_SSA','fighter1_TD','fighter1_TDA','fighter2_TD','fighter2_TDA','fighter1_HS','fighter1_HSA','fighter2_HS','fighter2_HSA','fighter1_BS','fighter1_BSA','fighter2_BS','fighter2_BSA','fighter1_LS','fighter1_LSA','fighter2_LS','fighter2_LSA','fighter1_DS','fighter1_DSA','fighter2_DS','fighter2_DSA','fighter1_CS','fighter1_CSA','fighter2_CS','fighter2_CSA','fighter1_GS','fighter1_GSA','fighter2_GS','fighter2_GSA','fighter1_SSD','fighter1_SSR','fighter2_SSD','fighter2_SSR','fighter1_TDD','fighter1_TDR','fighter2_TDD','fighter2_TDR','fighter1_HSD','fighter1_HSR','fighter2_HSD','fighter2_HSR','fighter1_BSD','fighter1_BSR','fighter2_BSD','fighter2_BSR','fighter1_LSD','fighter1_LSR','fighter2_LSD','fighter2_LSR','fighter1_DSD','fighter1_DSR','fighter2_DSD','fighter2_DSR','fighter1_CSD','fighter1_CSR','fighter2_CSD','fighter2_CSR','fighter1_GSD','fighter1_GSR','fighter2_GSD','fighter2_GSR'])\n"
      ],
      "metadata": {
        "id": "HC7dSDyIwong",
        "cellView": "form"
      },
      "execution_count": 17,
      "outputs": []
    },
    {
      "cell_type": "code",
      "source": [
        "\n",
        "fight_stats_col3 = ['fighter1_win_pct','fighter1_wko','fighter1_wsub','fighter1_wdec','fighter1_wdq','fighter1_lko','fighter1_lsub','fighter1_ldec','fighter1_ldq','fighter2_win_pct','fighter2_wko','fighter2_wsub','fighter2_wdec','fighter2_wdq','fighter2_lko','fighter2_lsub','fighter2_ldec','fighter2_ldq']\n",
        "\n",
        "def add_col3(row):\n",
        "    try:\n",
        "      fighter1_win_pct = row.fighter1_wins / row.fighter1_totalfights\n",
        "      fighter1_wko = row.fighter1_wko / row.fighter1_wins\n",
        "      fighter1_wsub = row.fighter1_wsub / row.fighter1_wins\n",
        "      fighter1_wdec = row.fighter1_wdec / row.fighter1_wins\n",
        "      fighter1_wdq = row.fighter1_wdq / row.fighter1_wins\n",
        "      fighter1_lko = row.fighter1_lko / row.fighter1_losses\n",
        "      fighter1_lsub = row.fighter1_lsub / row.fighter1_losses\n",
        "      fighter1_ldec = row.fighter1_ldec/ row.fighter1_losses\n",
        "      fighter1_ldq = row.fighter1_ldq/ row.fighter1_losses\n",
        "\n",
        "      fighter2_win_pct = row.fighter2_wins / row.fighter2_totalfights\n",
        "      fighter2_wko = row.fighter2_wko / row.fighter2_wins\n",
        "      fighter2_wsub = row.fighter2_wsub / row.fighter2_wins\n",
        "      fighter2_wdec = row.fighter2_wdec / row.fighter2_wins\n",
        "      fighter2_wdq = row.fighter2_wdq / row.fighter2_wins\n",
        "      fighter2_lko = row.fighter2_lko / row.fighter2_losses\n",
        "      fighter2_lsub = row.fighter2_lsub / row.fighter2_losses\n",
        "      fighter2_ldec = row.fighter2_ldec/ row.fighter2_losses\n",
        "      fighter2_ldq = row.fighter2_ldq/ row.fighter2_losses\n",
        "\n",
        "    except ZeroDivisionError:\n",
        "      fighter1_win_pct = 0\n",
        "      fighter1_wko = 0\n",
        "      fighter1_wsub=0\n",
        "      fighter1_wdec=0\n",
        "      fighter1_wdq=0\n",
        "      fighter1_lko=0\n",
        "      fighter1_lsub=0\n",
        "      fighter1_ldec=0\n",
        "      fighter1_ldq=0\n",
        "\n",
        "      fighter2_win_pct = 0\n",
        "      fighter2_wko = 0\n",
        "      fighter2_wsub=0\n",
        "      fighter2_wdec=0\n",
        "      fighter2_wdq=0\n",
        "      fighter2_lko=0\n",
        "      fighter2_lsub=0\n",
        "      fighter2_ldec=0\n",
        "      fighter2_ldq=0\n",
        "\n",
        "    return fighter1_win_pct,fighter1_wko,fighter1_wsub,fighter1_wdec,fighter1_wdq,fighter1_lko,fighter1_lsub,fighter1_ldec,fighter1_ldq,fighter2_win_pct,fighter2_wko,fighter2_wsub,fighter2_wdec,fighter2_wdq,fighter2_lko,fighter2_lsub,fighter2_ldec,fighter2_ldq\n",
        "\n",
        "df_train[fight_stats_col3] = df_train.apply(add_col3, axis=1, result_type = 'expand')\n",
        "df_test[fight_stats_col3] = df_test.apply(add_col3, axis=1, result_type = 'expand')\n"
      ],
      "metadata": {
        "id": "1WnUhd1TtdMO"
      },
      "execution_count": 18,
      "outputs": []
    },
    {
      "cell_type": "code",
      "source": [
        "df_train = df_train.reindex(sorted(df_train.columns), axis=1)\n",
        "df_test = df_test.reindex(sorted(df_test.columns), axis=1)"
      ],
      "metadata": {
        "id": "tgV0-oKv5pog"
      },
      "execution_count": 19,
      "outputs": []
    },
    {
      "cell_type": "code",
      "source": [
        "from google.colab import files\n",
        "df_train.to_csv('UFC_pred.csv') \n",
        "files.download('UFC_pred.csv')"
      ],
      "metadata": {
        "colab": {
          "base_uri": "https://localhost:8080/",
          "height": 17
        },
        "id": "OquDju8VRZrk",
        "outputId": "42055105-cb02-4d0b-e318-b86bd10c150e"
      },
      "execution_count": 20,
      "outputs": [
        {
          "output_type": "display_data",
          "data": {
            "text/plain": [
              "<IPython.core.display.Javascript object>"
            ],
            "application/javascript": [
              "\n",
              "    async function download(id, filename, size) {\n",
              "      if (!google.colab.kernel.accessAllowed) {\n",
              "        return;\n",
              "      }\n",
              "      const div = document.createElement('div');\n",
              "      const label = document.createElement('label');\n",
              "      label.textContent = `Downloading \"${filename}\": `;\n",
              "      div.appendChild(label);\n",
              "      const progress = document.createElement('progress');\n",
              "      progress.max = size;\n",
              "      div.appendChild(progress);\n",
              "      document.body.appendChild(div);\n",
              "\n",
              "      const buffers = [];\n",
              "      let downloaded = 0;\n",
              "\n",
              "      const channel = await google.colab.kernel.comms.open(id);\n",
              "      // Send a message to notify the kernel that we're ready.\n",
              "      channel.send({})\n",
              "\n",
              "      for await (const message of channel.messages) {\n",
              "        // Send a message to notify the kernel that we're ready.\n",
              "        channel.send({})\n",
              "        if (message.buffers) {\n",
              "          for (const buffer of message.buffers) {\n",
              "            buffers.push(buffer);\n",
              "            downloaded += buffer.byteLength;\n",
              "            progress.value = downloaded;\n",
              "          }\n",
              "        }\n",
              "      }\n",
              "      const blob = new Blob(buffers, {type: 'application/binary'});\n",
              "      const a = document.createElement('a');\n",
              "      a.href = window.URL.createObjectURL(blob);\n",
              "      a.download = filename;\n",
              "      div.appendChild(a);\n",
              "      a.click();\n",
              "      div.remove();\n",
              "    }\n",
              "  "
            ]
          },
          "metadata": {}
        },
        {
          "output_type": "display_data",
          "data": {
            "text/plain": [
              "<IPython.core.display.Javascript object>"
            ],
            "application/javascript": [
              "download(\"download_da85033e-e568-424f-b86e-4337be50835a\", \"UFC_pred.csv\", 14506325)"
            ]
          },
          "metadata": {}
        }
      ]
    },
    {
      "cell_type": "code",
      "source": [
        "# split the dataset\n",
        "from sklearn.model_selection import train_test_split\n",
        "\n",
        "df_train = df_train.drop(columns = ['_id','fighter1_id','fighter2_id','fighter1_name','fighter2_name','method','weight_class', 'year','end_round'])\n",
        "df_test = df_test.drop(columns = ['_id','fighter1_id','fighter2_id','fighter1_name','fighter2_name','method','weight_class', 'year','end_round'])\n",
        "\n",
        "X, y = df_train.drop(\"winner\", axis=1), df_train[\"winner\"]\n",
        "X_train, X_test, y_train, y_test = train_test_split(X, y, test_size=0.3, random_state=0)"
      ],
      "metadata": {
        "id": "oRnfMJNwdBfr"
      },
      "execution_count": 20,
      "outputs": []
    },
    {
      "cell_type": "code",
      "source": [
        "from sklearn.compose import ColumnTransformer\n",
        "from sklearn.pipeline import Pipeline\n",
        "from sklearn.preprocessing import OneHotEncoder\n",
        "from sklearn.preprocessing import MinMaxScaler\n",
        "from sklearn.ensemble import RandomForestClassifier\n",
        "from sklearn.preprocessing import OrdinalEncoder\n",
        "\n",
        "\n",
        "num_feats = list(X_train.select_dtypes('number').columns.values)\n",
        "stance_feats = ['fighter1_stance','fighter2_stance']\n",
        "null_feats = ['fighter1_height','fighter1_weight','fighter1_reach','fighter2_height','fighter2_weight','fighter2_reach']\n",
        "\n",
        "\n",
        "stance_imputer = Pipeline(steps=[\n",
        "    ('imputer', SimpleImputer(strategy='most_frequent')),\n",
        "    ('encode',OrdinalEncoder())])\n",
        "\n",
        "iter_imputer = Pipeline(steps=[\n",
        "    ('iter_imputer',IterativeImputer())])\n",
        "\n",
        "scaler = Pipeline(steps=[('scaler',MinMaxScaler())])\n",
        "\n",
        "#transform columns\n",
        "categorical_col = ['fighter1_stance','fighter2_stance']\n",
        "preprocessor = ColumnTransformer(transformers = [('stance_impute',stance_imputer, stance_feats),\n",
        "                                                 ('iter_imputer',iter_imputer, null_feats),\n",
        "                                                 ('scaler', scaler,num_feats),\n",
        "                                                #  ],remainder='passthrough')\n",
        "                                                ])\n",
        "\n",
        "preprocessor.fit(X_train)\n",
        "\n",
        "X_train_processed = preprocessor.transform(X_train)\n",
        "X_test_processed = preprocessor.transform(X_test)\n",
        "df_test_processed = preprocessor.transform(df_test)\n",
        "\n",
        "X_train1 = pd.DataFrame(preprocessor.transform(X_train), columns = X_train.columns)\n",
        "X_test1 = pd.DataFrame(preprocessor.transform(X_test),columns = X_test.columns)\n",
        "# df_test1 = pd.DataFrame(preprocessor.transform(df_test),columns = df_test.columns)"
      ],
      "metadata": {
        "id": "8XEpG9xml6Kv",
        "colab": {
          "base_uri": "https://localhost:8080/",
          "height": 345
        },
        "outputId": "0dbbd639-78e4-45ac-b26a-1eaeef80a09a"
      },
      "execution_count": 21,
      "outputs": [
        {
          "output_type": "error",
          "ename": "ValueError",
          "evalue": "ignored",
          "traceback": [
            "\u001b[0;31m---------------------------------------------------------------------------\u001b[0m",
            "\u001b[0;31mValueError\u001b[0m                                Traceback (most recent call last)",
            "\u001b[0;32m<ipython-input-21-36ae1f64c16e>\u001b[0m in \u001b[0;36m<module>\u001b[0;34m\u001b[0m\n\u001b[1;32m     37\u001b[0m \u001b[0mX_train1\u001b[0m \u001b[0;34m=\u001b[0m \u001b[0mpd\u001b[0m\u001b[0;34m.\u001b[0m\u001b[0mDataFrame\u001b[0m\u001b[0;34m(\u001b[0m\u001b[0mpreprocessor\u001b[0m\u001b[0;34m.\u001b[0m\u001b[0mtransform\u001b[0m\u001b[0;34m(\u001b[0m\u001b[0mX_train\u001b[0m\u001b[0;34m)\u001b[0m\u001b[0;34m,\u001b[0m \u001b[0mcolumns\u001b[0m \u001b[0;34m=\u001b[0m \u001b[0mX_train\u001b[0m\u001b[0;34m.\u001b[0m\u001b[0mcolumns\u001b[0m\u001b[0;34m)\u001b[0m\u001b[0;34m\u001b[0m\u001b[0;34m\u001b[0m\u001b[0m\n\u001b[1;32m     38\u001b[0m \u001b[0mX_test1\u001b[0m \u001b[0;34m=\u001b[0m \u001b[0mpd\u001b[0m\u001b[0;34m.\u001b[0m\u001b[0mDataFrame\u001b[0m\u001b[0;34m(\u001b[0m\u001b[0mpreprocessor\u001b[0m\u001b[0;34m.\u001b[0m\u001b[0mtransform\u001b[0m\u001b[0;34m(\u001b[0m\u001b[0mX_test\u001b[0m\u001b[0;34m)\u001b[0m\u001b[0;34m,\u001b[0m\u001b[0mcolumns\u001b[0m \u001b[0;34m=\u001b[0m \u001b[0mX_test\u001b[0m\u001b[0;34m.\u001b[0m\u001b[0mcolumns\u001b[0m\u001b[0;34m)\u001b[0m\u001b[0;34m\u001b[0m\u001b[0;34m\u001b[0m\u001b[0m\n\u001b[0;32m---> 39\u001b[0;31m \u001b[0mdf_test1\u001b[0m \u001b[0;34m=\u001b[0m \u001b[0mpd\u001b[0m\u001b[0;34m.\u001b[0m\u001b[0mDataFrame\u001b[0m\u001b[0;34m(\u001b[0m\u001b[0mpreprocessor\u001b[0m\u001b[0;34m.\u001b[0m\u001b[0mtransform\u001b[0m\u001b[0;34m(\u001b[0m\u001b[0mdf_test\u001b[0m\u001b[0;34m)\u001b[0m\u001b[0;34m,\u001b[0m\u001b[0mcolumns\u001b[0m \u001b[0;34m=\u001b[0m \u001b[0mdf_test\u001b[0m\u001b[0;34m.\u001b[0m\u001b[0mcolumns\u001b[0m\u001b[0;34m)\u001b[0m\u001b[0;34m\u001b[0m\u001b[0;34m\u001b[0m\u001b[0m\n\u001b[0m",
            "\u001b[0;32m/usr/local/lib/python3.7/dist-packages/pandas/core/frame.py\u001b[0m in \u001b[0;36m__init__\u001b[0;34m(self, data, index, columns, dtype, copy)\u001b[0m\n\u001b[1;32m    676\u001b[0m                     \u001b[0mdtype\u001b[0m\u001b[0;34m=\u001b[0m\u001b[0mdtype\u001b[0m\u001b[0;34m,\u001b[0m\u001b[0;34m\u001b[0m\u001b[0;34m\u001b[0m\u001b[0m\n\u001b[1;32m    677\u001b[0m                     \u001b[0mcopy\u001b[0m\u001b[0;34m=\u001b[0m\u001b[0mcopy\u001b[0m\u001b[0;34m,\u001b[0m\u001b[0;34m\u001b[0m\u001b[0;34m\u001b[0m\u001b[0m\n\u001b[0;32m--> 678\u001b[0;31m                     \u001b[0mtyp\u001b[0m\u001b[0;34m=\u001b[0m\u001b[0mmanager\u001b[0m\u001b[0;34m,\u001b[0m\u001b[0;34m\u001b[0m\u001b[0;34m\u001b[0m\u001b[0m\n\u001b[0m\u001b[1;32m    679\u001b[0m                 )\n\u001b[1;32m    680\u001b[0m \u001b[0;34m\u001b[0m\u001b[0m\n",
            "\u001b[0;32m/usr/local/lib/python3.7/dist-packages/pandas/core/internals/construction.py\u001b[0m in \u001b[0;36mndarray_to_mgr\u001b[0;34m(values, index, columns, dtype, copy, typ)\u001b[0m\n\u001b[1;32m    322\u001b[0m     )\n\u001b[1;32m    323\u001b[0m \u001b[0;34m\u001b[0m\u001b[0m\n\u001b[0;32m--> 324\u001b[0;31m     \u001b[0m_check_values_indices_shape_match\u001b[0m\u001b[0;34m(\u001b[0m\u001b[0mvalues\u001b[0m\u001b[0;34m,\u001b[0m \u001b[0mindex\u001b[0m\u001b[0;34m,\u001b[0m \u001b[0mcolumns\u001b[0m\u001b[0;34m)\u001b[0m\u001b[0;34m\u001b[0m\u001b[0;34m\u001b[0m\u001b[0m\n\u001b[0m\u001b[1;32m    325\u001b[0m \u001b[0;34m\u001b[0m\u001b[0m\n\u001b[1;32m    326\u001b[0m     \u001b[0;32mif\u001b[0m \u001b[0mtyp\u001b[0m \u001b[0;34m==\u001b[0m \u001b[0;34m\"array\"\u001b[0m\u001b[0;34m:\u001b[0m\u001b[0;34m\u001b[0m\u001b[0;34m\u001b[0m\u001b[0m\n",
            "\u001b[0;32m/usr/local/lib/python3.7/dist-packages/pandas/core/internals/construction.py\u001b[0m in \u001b[0;36m_check_values_indices_shape_match\u001b[0;34m(values, index, columns)\u001b[0m\n\u001b[1;32m    391\u001b[0m         \u001b[0mpassed\u001b[0m \u001b[0;34m=\u001b[0m \u001b[0mvalues\u001b[0m\u001b[0;34m.\u001b[0m\u001b[0mshape\u001b[0m\u001b[0;34m\u001b[0m\u001b[0;34m\u001b[0m\u001b[0m\n\u001b[1;32m    392\u001b[0m         \u001b[0mimplied\u001b[0m \u001b[0;34m=\u001b[0m \u001b[0;34m(\u001b[0m\u001b[0mlen\u001b[0m\u001b[0;34m(\u001b[0m\u001b[0mindex\u001b[0m\u001b[0;34m)\u001b[0m\u001b[0;34m,\u001b[0m \u001b[0mlen\u001b[0m\u001b[0;34m(\u001b[0m\u001b[0mcolumns\u001b[0m\u001b[0;34m)\u001b[0m\u001b[0;34m)\u001b[0m\u001b[0;34m\u001b[0m\u001b[0;34m\u001b[0m\u001b[0m\n\u001b[0;32m--> 393\u001b[0;31m         \u001b[0;32mraise\u001b[0m \u001b[0mValueError\u001b[0m\u001b[0;34m(\u001b[0m\u001b[0;34mf\"Shape of passed values is {passed}, indices imply {implied}\"\u001b[0m\u001b[0;34m)\u001b[0m\u001b[0;34m\u001b[0m\u001b[0;34m\u001b[0m\u001b[0m\n\u001b[0m\u001b[1;32m    394\u001b[0m \u001b[0;34m\u001b[0m\u001b[0m\n\u001b[1;32m    395\u001b[0m \u001b[0;34m\u001b[0m\u001b[0m\n",
            "\u001b[0;31mValueError\u001b[0m: Shape of passed values is (12, 154), indices imply (12, 155)"
          ]
        }
      ]
    },
    {
      "cell_type": "code",
      "source": [
        "from google.colab import files\n",
        "df_test1.to_csv('UFC_pred.csv') \n",
        "files.download('UFC_pred.csv')"
      ],
      "metadata": {
        "id": "ZKanfL5UvpHg"
      },
      "execution_count": 22,
      "outputs": []
    },
    {
      "cell_type": "markdown",
      "source": [
        "# MODELING WITH RNN"
      ],
      "metadata": {
        "id": "iOZX6oydQ6Mm"
      }
    },
    {
      "cell_type": "code",
      "source": [
        "# conts = X.drop(cats, axis=1).columns.values.tolist()"
      ],
      "metadata": {
        "id": "rMsTFid9UBAo"
      },
      "execution_count": 23,
      "outputs": []
    },
    {
      "cell_type": "code",
      "source": [
        "print(X_train.shape, X_test.shape, y_train.shape, y_test.shape)"
      ],
      "metadata": {
        "colab": {
          "base_uri": "https://localhost:8080/"
        },
        "id": "VfDaTVSnkZma",
        "outputId": "f3d9f3f9-8a30-471c-ddea-14bcf157cad8"
      },
      "execution_count": 24,
      "outputs": [
        {
          "output_type": "stream",
          "name": "stdout",
          "text": [
            "(6119, 154) (2623, 154) (6119,) (2623,)\n"
          ]
        }
      ]
    },
    {
      "cell_type": "code",
      "source": [
        "print(y_train.mean(), y_test.mean())"
      ],
      "metadata": {
        "id": "yk8GBsNnBX-5",
        "colab": {
          "base_uri": "https://localhost:8080/"
        },
        "outputId": "acd896bf-ecab-41f6-871a-912135c50eb9"
      },
      "execution_count": 25,
      "outputs": [
        {
          "output_type": "stream",
          "name": "stdout",
          "text": [
            "0.49812060794247426 0.5043842927945101\n"
          ]
        }
      ]
    },
    {
      "cell_type": "code",
      "source": [
        "pd.isna(X_train).sum()[pd.isna(X_train).sum() >0]"
      ],
      "metadata": {
        "id": "oA_MDdlTZnBo",
        "colab": {
          "base_uri": "https://localhost:8080/"
        },
        "outputId": "8ba70f6c-049f-4458-b6b6-7c1570c33bb3"
      },
      "execution_count": 26,
      "outputs": [
        {
          "output_type": "execute_result",
          "data": {
            "text/plain": [
              "fighter1_height      15\n",
              "fighter1_reach     1011\n",
              "fighter1_stance      88\n",
              "fighter1_weight       5\n",
              "fighter2_height      33\n",
              "fighter2_reach     1211\n",
              "fighter2_stance     108\n",
              "fighter2_weight      12\n",
              "dtype: int64"
            ]
          },
          "metadata": {},
          "execution_count": 26
        }
      ]
    },
    {
      "cell_type": "code",
      "source": [
        "# evaluate iterative imputation and random forest for the horse colic dataset\n",
        "from numpy import mean\n",
        "from numpy import std\n",
        "from pandas import read_csv\n",
        "from sklearn.ensemble import RandomForestClassifier\n",
        "from sklearn.experimental import enable_iterative_imputer\n",
        "from sklearn.impute import IterativeImputer\n",
        "from sklearn.model_selection import cross_val_score\n",
        "from sklearn.model_selection import RepeatedStratifiedKFold\n",
        "from sklearn.pipeline import Pipeline"
      ],
      "metadata": {
        "id": "lg0AvoXz2mLs"
      },
      "execution_count": 27,
      "outputs": []
    },
    {
      "cell_type": "code",
      "source": [
        "from sklearn.neural_network import MLPClassifier\n",
        "from sklearn.metrics import classification_report\n",
        "from sklearn.tree import DecisionTreeClassifier\n",
        "from sklearn.metrics import accuracy_score, cohen_kappa_score, f1_score, log_loss"
      ],
      "metadata": {
        "id": "8-BVVvIjJIPs"
      },
      "execution_count": 28,
      "outputs": []
    },
    {
      "cell_type": "code",
      "source": [
        "from sklearn.neural_network import MLPClassifier\n",
        "from sklearn.metrics import classification_report\n",
        "from sklearn.tree import DecisionTreeClassifier\n",
        "from sklearn.metrics import accuracy_score, cohen_kappa_score, f1_score, log_loss\n",
        "# clf = DecisionTreeClassifier(random_state=0, criterion=\"entropy\", max_depth=5)\n",
        "# class_names = [str(x) for x in clf.classes_]\n",
        "\n",
        "nn_clf = MLPClassifier(solver='lbfgs', activation='relu', alpha=1e-3, max_iter=1500,\n",
        "                       hidden_layer_sizes=(10, 10), random_state=1, verbose=True)\n",
        "nn_clf.fit(X_train_processed, y_train)\n",
        "\n",
        "y_pred_nn = nn_clf.predict(X_test_processed)\n",
        "outputs = nn_clf.predict(df_test_processed)\n",
        "print(\"Accuracy = {:.2f}\".format(accuracy_score(y_test, y_pred_nn)))"
      ],
      "metadata": {
        "colab": {
          "base_uri": "https://localhost:8080/"
        },
        "id": "KCxHBzpX4qqi",
        "outputId": "14c51e71-ef03-4e38-9976-ac7577ee41bd"
      },
      "execution_count": 29,
      "outputs": [
        {
          "output_type": "stream",
          "name": "stdout",
          "text": [
            "Accuracy = 0.83\n"
          ]
        },
        {
          "output_type": "stream",
          "name": "stderr",
          "text": [
            "/usr/local/lib/python3.7/dist-packages/sklearn/neural_network/_multilayer_perceptron.py:549: ConvergenceWarning: lbfgs failed to converge (status=1):\n",
            "STOP: TOTAL NO. of ITERATIONS REACHED LIMIT.\n",
            "\n",
            "Increase the number of iterations (max_iter) or scale the data as shown in:\n",
            "    https://scikit-learn.org/stable/modules/preprocessing.html\n",
            "  self.n_iter_ = _check_optimize_result(\"lbfgs\", opt_res, self.max_iter)\n"
          ]
        }
      ]
    },
    {
      "cell_type": "code",
      "source": [],
      "metadata": {
        "id": "ko9RXW0CMGlI"
      },
      "execution_count": null,
      "outputs": []
    },
    {
      "cell_type": "code",
      "source": [
        "outputs = pd.Series(outputs) \n",
        "pd.concat([df_test_pred['fighter1_name'], df_test_pred['fighter2_name'], outputs], axis=1)"
      ],
      "metadata": {
        "colab": {
          "base_uri": "https://localhost:8080/",
          "height": 348
        },
        "id": "L_kmHuWJJd-E",
        "outputId": "7042986c-a854-4211-d42d-cf18760cf2a7"
      },
      "execution_count": 31,
      "outputs": [
        {
          "output_type": "execute_result",
          "data": {
            "text/plain": [
              "            fighter1_name        fighter2_name  0\n",
              "0        Charles Oliveira      Islam Makhachev  0\n",
              "1       Aljamain Sterling         TJ Dillashaw  0\n",
              "2                Petr Yan        Sean O'Malley  0\n",
              "3          Beneil Dariush       Mateusz Gamrot  0\n",
              "4       Katlyn Chookagian         Manon Fiorot  0\n",
              "5          Belal Muhammad           Sean Brady  0\n",
              "6         Makhmud Muradov        Caio Borralho  0\n",
              "7         Volkan Oezdemir        Nikita Krylov  0\n",
              "8   Abubakar Nurmagomedov  Gadzhi Omargadzhiev  0\n",
              "9         Armen Petrosyan            AJ Dobson  1\n",
              "10        Muhammad Mokaev       Malcolm Gordon  1\n",
              "11             Karol Rosa        Lina Lansberg  1"
            ],
            "text/html": [
              "\n",
              "  <div id=\"df-57dd50af-1afb-4095-9a35-12438814bdd0\">\n",
              "    <div class=\"colab-df-container\">\n",
              "      <div>\n",
              "<style scoped>\n",
              "    .dataframe tbody tr th:only-of-type {\n",
              "        vertical-align: middle;\n",
              "    }\n",
              "\n",
              "    .dataframe tbody tr th {\n",
              "        vertical-align: top;\n",
              "    }\n",
              "\n",
              "    .dataframe thead th {\n",
              "        text-align: right;\n",
              "    }\n",
              "</style>\n",
              "<table border=\"1\" class=\"dataframe\">\n",
              "  <thead>\n",
              "    <tr style=\"text-align: right;\">\n",
              "      <th></th>\n",
              "      <th>fighter1_name</th>\n",
              "      <th>fighter2_name</th>\n",
              "      <th>0</th>\n",
              "    </tr>\n",
              "  </thead>\n",
              "  <tbody>\n",
              "    <tr>\n",
              "      <th>0</th>\n",
              "      <td>Charles Oliveira</td>\n",
              "      <td>Islam Makhachev</td>\n",
              "      <td>0</td>\n",
              "    </tr>\n",
              "    <tr>\n",
              "      <th>1</th>\n",
              "      <td>Aljamain Sterling</td>\n",
              "      <td>TJ Dillashaw</td>\n",
              "      <td>0</td>\n",
              "    </tr>\n",
              "    <tr>\n",
              "      <th>2</th>\n",
              "      <td>Petr Yan</td>\n",
              "      <td>Sean O'Malley</td>\n",
              "      <td>0</td>\n",
              "    </tr>\n",
              "    <tr>\n",
              "      <th>3</th>\n",
              "      <td>Beneil Dariush</td>\n",
              "      <td>Mateusz Gamrot</td>\n",
              "      <td>0</td>\n",
              "    </tr>\n",
              "    <tr>\n",
              "      <th>4</th>\n",
              "      <td>Katlyn Chookagian</td>\n",
              "      <td>Manon Fiorot</td>\n",
              "      <td>0</td>\n",
              "    </tr>\n",
              "    <tr>\n",
              "      <th>5</th>\n",
              "      <td>Belal Muhammad</td>\n",
              "      <td>Sean Brady</td>\n",
              "      <td>0</td>\n",
              "    </tr>\n",
              "    <tr>\n",
              "      <th>6</th>\n",
              "      <td>Makhmud Muradov</td>\n",
              "      <td>Caio Borralho</td>\n",
              "      <td>0</td>\n",
              "    </tr>\n",
              "    <tr>\n",
              "      <th>7</th>\n",
              "      <td>Volkan Oezdemir</td>\n",
              "      <td>Nikita Krylov</td>\n",
              "      <td>0</td>\n",
              "    </tr>\n",
              "    <tr>\n",
              "      <th>8</th>\n",
              "      <td>Abubakar Nurmagomedov</td>\n",
              "      <td>Gadzhi Omargadzhiev</td>\n",
              "      <td>0</td>\n",
              "    </tr>\n",
              "    <tr>\n",
              "      <th>9</th>\n",
              "      <td>Armen Petrosyan</td>\n",
              "      <td>AJ Dobson</td>\n",
              "      <td>1</td>\n",
              "    </tr>\n",
              "    <tr>\n",
              "      <th>10</th>\n",
              "      <td>Muhammad Mokaev</td>\n",
              "      <td>Malcolm Gordon</td>\n",
              "      <td>1</td>\n",
              "    </tr>\n",
              "    <tr>\n",
              "      <th>11</th>\n",
              "      <td>Karol Rosa</td>\n",
              "      <td>Lina Lansberg</td>\n",
              "      <td>1</td>\n",
              "    </tr>\n",
              "  </tbody>\n",
              "</table>\n",
              "</div>\n",
              "      <button class=\"colab-df-convert\" onclick=\"convertToInteractive('df-57dd50af-1afb-4095-9a35-12438814bdd0')\"\n",
              "              title=\"Convert this dataframe to an interactive table.\"\n",
              "              style=\"display:none;\">\n",
              "        \n",
              "  <svg xmlns=\"http://www.w3.org/2000/svg\" height=\"24px\"viewBox=\"0 0 24 24\"\n",
              "       width=\"24px\">\n",
              "    <path d=\"M0 0h24v24H0V0z\" fill=\"none\"/>\n",
              "    <path d=\"M18.56 5.44l.94 2.06.94-2.06 2.06-.94-2.06-.94-.94-2.06-.94 2.06-2.06.94zm-11 1L8.5 8.5l.94-2.06 2.06-.94-2.06-.94L8.5 2.5l-.94 2.06-2.06.94zm10 10l.94 2.06.94-2.06 2.06-.94-2.06-.94-.94-2.06-.94 2.06-2.06.94z\"/><path d=\"M17.41 7.96l-1.37-1.37c-.4-.4-.92-.59-1.43-.59-.52 0-1.04.2-1.43.59L10.3 9.45l-7.72 7.72c-.78.78-.78 2.05 0 2.83L4 21.41c.39.39.9.59 1.41.59.51 0 1.02-.2 1.41-.59l7.78-7.78 2.81-2.81c.8-.78.8-2.07 0-2.86zM5.41 20L4 18.59l7.72-7.72 1.47 1.35L5.41 20z\"/>\n",
              "  </svg>\n",
              "      </button>\n",
              "      \n",
              "  <style>\n",
              "    .colab-df-container {\n",
              "      display:flex;\n",
              "      flex-wrap:wrap;\n",
              "      gap: 12px;\n",
              "    }\n",
              "\n",
              "    .colab-df-convert {\n",
              "      background-color: #E8F0FE;\n",
              "      border: none;\n",
              "      border-radius: 50%;\n",
              "      cursor: pointer;\n",
              "      display: none;\n",
              "      fill: #1967D2;\n",
              "      height: 32px;\n",
              "      padding: 0 0 0 0;\n",
              "      width: 32px;\n",
              "    }\n",
              "\n",
              "    .colab-df-convert:hover {\n",
              "      background-color: #E2EBFA;\n",
              "      box-shadow: 0px 1px 2px rgba(60, 64, 67, 0.3), 0px 1px 3px 1px rgba(60, 64, 67, 0.15);\n",
              "      fill: #174EA6;\n",
              "    }\n",
              "\n",
              "    [theme=dark] .colab-df-convert {\n",
              "      background-color: #3B4455;\n",
              "      fill: #D2E3FC;\n",
              "    }\n",
              "\n",
              "    [theme=dark] .colab-df-convert:hover {\n",
              "      background-color: #434B5C;\n",
              "      box-shadow: 0px 1px 3px 1px rgba(0, 0, 0, 0.15);\n",
              "      filter: drop-shadow(0px 1px 2px rgba(0, 0, 0, 0.3));\n",
              "      fill: #FFFFFF;\n",
              "    }\n",
              "  </style>\n",
              "\n",
              "      <script>\n",
              "        const buttonEl =\n",
              "          document.querySelector('#df-57dd50af-1afb-4095-9a35-12438814bdd0 button.colab-df-convert');\n",
              "        buttonEl.style.display =\n",
              "          google.colab.kernel.accessAllowed ? 'block' : 'none';\n",
              "\n",
              "        async function convertToInteractive(key) {\n",
              "          const element = document.querySelector('#df-57dd50af-1afb-4095-9a35-12438814bdd0');\n",
              "          const dataTable =\n",
              "            await google.colab.kernel.invokeFunction('convertToInteractive',\n",
              "                                                     [key], {});\n",
              "          if (!dataTable) return;\n",
              "\n",
              "          const docLinkHtml = 'Like what you see? Visit the ' +\n",
              "            '<a target=\"_blank\" href=https://colab.research.google.com/notebooks/data_table.ipynb>data table notebook</a>'\n",
              "            + ' to learn more about interactive tables.';\n",
              "          element.innerHTML = '';\n",
              "          dataTable['output_type'] = 'display_data';\n",
              "          await google.colab.output.renderOutput(dataTable, element);\n",
              "          const docLink = document.createElement('div');\n",
              "          docLink.innerHTML = docLinkHtml;\n",
              "          element.appendChild(docLink);\n",
              "        }\n",
              "      </script>\n",
              "    </div>\n",
              "  </div>\n",
              "  "
            ],
            "application/vnd.google.colaboratory.module+javascript": "\n      import \"https://ssl.gstatic.com/colaboratory/data_table/a8bd4d5e58f96183/data_table.js\";\n\n      window.createDataTable({\n        data: [[{\n            'v': 0,\n            'f': \"0\",\n        },\n\"Charles Oliveira\",\n\"Islam Makhachev\",\n{\n            'v': 0,\n            'f': \"0\",\n        }],\n [{\n            'v': 1,\n            'f': \"1\",\n        },\n\"Aljamain Sterling\",\n\"TJ Dillashaw\",\n{\n            'v': 0,\n            'f': \"0\",\n        }],\n [{\n            'v': 2,\n            'f': \"2\",\n        },\n\"Petr Yan\",\n\"Sean O'Malley\",\n{\n            'v': 0,\n            'f': \"0\",\n        }],\n [{\n            'v': 3,\n            'f': \"3\",\n        },\n\"Beneil Dariush\",\n\"Mateusz Gamrot\",\n{\n            'v': 0,\n            'f': \"0\",\n        }],\n [{\n            'v': 4,\n            'f': \"4\",\n        },\n\"Katlyn Chookagian\",\n\"Manon Fiorot\",\n{\n            'v': 0,\n            'f': \"0\",\n        }],\n [{\n            'v': 5,\n            'f': \"5\",\n        },\n\"Belal Muhammad\",\n\"Sean Brady\",\n{\n            'v': 0,\n            'f': \"0\",\n        }],\n [{\n            'v': 6,\n            'f': \"6\",\n        },\n\"Makhmud Muradov\",\n\"Caio Borralho\",\n{\n            'v': 0,\n            'f': \"0\",\n        }],\n [{\n            'v': 7,\n            'f': \"7\",\n        },\n\"Volkan Oezdemir\",\n\"Nikita Krylov\",\n{\n            'v': 0,\n            'f': \"0\",\n        }],\n [{\n            'v': 8,\n            'f': \"8\",\n        },\n\"Abubakar Nurmagomedov\",\n\"Gadzhi Omargadzhiev\",\n{\n            'v': 0,\n            'f': \"0\",\n        }],\n [{\n            'v': 9,\n            'f': \"9\",\n        },\n\"Armen Petrosyan\",\n\"AJ Dobson\",\n{\n            'v': 1,\n            'f': \"1\",\n        }],\n [{\n            'v': 10,\n            'f': \"10\",\n        },\n\"Muhammad Mokaev\",\n\"Malcolm Gordon\",\n{\n            'v': 1,\n            'f': \"1\",\n        }],\n [{\n            'v': 11,\n            'f': \"11\",\n        },\n\"Karol Rosa\",\n\"Lina Lansberg\",\n{\n            'v': 1,\n            'f': \"1\",\n        }]],\n        columns: [[\"number\", \"index\"], [\"string\", \"fighter1_name\"], [\"string\", \"fighter2_name\"], [\"number\", \"0\"]],\n        columnOptions: [{\"width\": \"1px\", \"className\": \"index_column\"}],\n        rowsPerPage: 25,\n        helpUrl: \"https://colab.research.google.com/notebooks/data_table.ipynb\",\n        suppressOutputScrolling: true,\n        minimumWidth: undefined,\n      });\n    "
          },
          "metadata": {},
          "execution_count": 31
        }
      ]
    },
    {
      "cell_type": "code",
      "source": [
        "# from sklearn.tree import XGBClassifier as xgboost\n",
        "import xgboost \n",
        "\n",
        "xgclassifier = xgboost.XGBClassifier(use_label_encoder=False,eval_metric=\"auc\",seed=0)\n",
        "\n",
        "\n",
        "# Cross validate using auc as our metric and print out average of all folds\n",
        "cv_scores = cross_val_score(xgclassifier, X_train_processed, y_train, cv=5, scoring='roc_auc')\n",
        "# print(\"\\nxgb Model, K={:3d} CV, ROC AUC: {:0.3f} +/- {:0.2f}\".format(15, np.mean(cv_scores)))\n",
        "print(np.mean(cv_scores))\n",
        "\n",
        "# Now fit xgboost H1N1 classifier and predict probabiliities\n",
        "xgclassifier.fit(X_train_processed, y_train)\n",
        "y_pred_h1n1 = xgclassifier.predict_proba(X_test_processed)\n",
        "output = xgclassifier.predict_proba(df_test_processed)\n"
      ],
      "metadata": {
        "id": "anJ1la3eBMpQ"
      },
      "execution_count": null,
      "outputs": []
    },
    {
      "cell_type": "code",
      "source": [
        "# LSTM and CNN for sequence classification in the IMDB dataset\n",
        "import tensorflow as tf\n",
        "from tensorflow.keras.datasets import imdb\n",
        "from tensorflow.keras.models import Sequential\n",
        "from tensorflow.keras.layers import Dense\n",
        "from tensorflow.keras.layers import LSTM\n",
        "from tensorflow.keras.layers import Conv1D\n",
        "from tensorflow.keras.layers import MaxPooling1D\n",
        "from tensorflow.keras.layers import Embedding\n",
        "from tensorflow.keras.preprocessing import sequence\n",
        "# fix random seed for reproducibility\n",
        "tf.random.set_seed(7)\n",
        "# load the dataset but only keep the top n words, zero the rest\n",
        "top_words = 5000\n",
        "# (X_train, y_train), (X_test, y_test) = imdb.load_data(num_words=top_words)\n",
        "# truncate and pad input sequences\n",
        "max_review_length = 500\n",
        "# X_train = sequence.pad_sequences(X_train, maxlen=max_review_length)\n",
        "# X_test = sequence.pad_sequences(X_test, maxlen=max_review_length)\n",
        "# create the model\n",
        "embedding_vecor_length = 32\n",
        "model = Sequential()\n",
        "# model.add(Embedding(top_words, embedding_vecor_length, input_length=max_review_length))\n",
        "model.add(Embedding(5000,embedding_vecor_length))\n",
        "model.add(Conv1D(filters=32, kernel_size=3, padding='same', activation='relu'))\n",
        "model.add(MaxPooling1D(pool_size=2))\n",
        "model.add(LSTM(100))\n",
        "model.add(Dense(1, activation='sigmoid'))\n",
        "model.compile(loss='binary_crossentropy', optimizer='SGD', metrics=['accuracy'])\n",
        "print(model.summary())\n",
        "model.fit(X_train_processed, y_train, epochs=5, batch_size=64)\n",
        "# Final evaluation of the model\n",
        "scores = model.evaluate(X_test_processed, y_test, verbose=0)\n",
        "print(\"Accuracy: %.2f%%\" % (scores[1]*100))"
      ],
      "metadata": {
        "colab": {
          "base_uri": "https://localhost:8080/"
        },
        "id": "1TlLDW4Dhk_1",
        "outputId": "fe4d496c-0dc5-4a5c-cd82-768132ad9e9d"
      },
      "execution_count": 39,
      "outputs": [
        {
          "output_type": "stream",
          "name": "stdout",
          "text": [
            "Model: \"sequential_1\"\n",
            "_________________________________________________________________\n",
            " Layer (type)                Output Shape              Param #   \n",
            "=================================================================\n",
            " embedding_1 (Embedding)     (None, None, 32)          160000    \n",
            "                                                                 \n",
            " conv1d_1 (Conv1D)           (None, None, 32)          3104      \n",
            "                                                                 \n",
            " max_pooling1d_1 (MaxPooling  (None, None, 32)         0         \n",
            " 1D)                                                             \n",
            "                                                                 \n",
            " lstm_1 (LSTM)               (None, 100)               53200     \n",
            "                                                                 \n",
            " dense_1 (Dense)             (None, 1)                 101       \n",
            "                                                                 \n",
            "=================================================================\n",
            "Total params: 216,405\n",
            "Trainable params: 216,405\n",
            "Non-trainable params: 0\n",
            "_________________________________________________________________\n",
            "None\n",
            "Epoch 1/5\n",
            "96/96 [==============================] - 14s 115ms/step - loss: 0.6931 - accuracy: 0.5061\n",
            "Epoch 2/5\n",
            "96/96 [==============================] - 11s 118ms/step - loss: 0.6931 - accuracy: 0.5065\n",
            "Epoch 3/5\n",
            "96/96 [==============================] - 13s 134ms/step - loss: 0.6931 - accuracy: 0.5065\n",
            "Epoch 4/5\n",
            "96/96 [==============================] - 12s 130ms/step - loss: 0.6931 - accuracy: 0.5065\n",
            "Epoch 5/5\n",
            "96/96 [==============================] - 11s 117ms/step - loss: 0.6931 - accuracy: 0.5065\n",
            "Accuracy: 48.49%\n"
          ]
        }
      ]
    },
    {
      "cell_type": "code",
      "source": [
        "import numpy as np\n",
        "import tensorflow as tf\n",
        "# import tensorflow._api.v1.keras.backend as K\n",
        "from tensorflow.keras.layers import Dense, Dropout\n",
        "from tensorflow.keras.regularizers import l2\n",
        "from sklearn.metrics import r2_score as r2\n",
        "\n",
        "# from utils import r2, random_data_shuffle, get_train_test_data\n",
        "    \n",
        "epochs = 1050           \n",
        "hidden1 = 350\n",
        "dropout = 0.45\n",
        "l2_reg = l2(0.005)\n",
        "\n",
        "model = tf.keras.models.Sequential()\n",
        "model.add(Dropout(dropout))\n",
        "model.add(Dense(hidden1, input_dim=X_train.shape[1], activation='relu',\n",
        "                    kernel_initializer='normal', kernel_regularizer=l2_reg))\n",
        "\n",
        "model.add(Dense(y_train.shape[0], activation='linear'))  \n",
        "# model.add(Dense(y_train.shape, activation='linear')) \n",
        "\n",
        "model.compile(\n",
        "        loss='mse',\n",
        "        optimizer=tf.keras.optimizers.Adam(0.0001),\n",
        "        metrics=[r2]\n",
        "    )\n",
        "\n",
        "history = model.fit(X_train, y_train,\n",
        "                        epochs=epochs, batch_size=32,\n",
        "                        # validation_split=0.1,\n",
        "                        # shuffle=True\n",
        "                        )\n",
        "\n",
        "scores = model.evaluate(X_test, y_test)\n",
        "print(scores)"
      ],
      "metadata": {
        "colab": {
          "base_uri": "https://localhost:8080/",
          "height": 693
        },
        "id": "xUIpODOBhmnp",
        "outputId": "cb1183f0-e7f0-496d-f9e2-26a4bae77135"
      },
      "execution_count": 30,
      "outputs": [
        {
          "output_type": "stream",
          "name": "stdout",
          "text": [
            "Epoch 1/1050\n"
          ]
        },
        {
          "output_type": "error",
          "ename": "NotImplementedError",
          "evalue": "ignored",
          "traceback": [
            "\u001b[0;31m---------------------------------------------------------------------------\u001b[0m",
            "\u001b[0;31mNotImplementedError\u001b[0m                       Traceback (most recent call last)",
            "\u001b[0;32m<ipython-input-30-dfd8e5e235e7>\u001b[0m in \u001b[0;36m<module>\u001b[0;34m\u001b[0m\n\u001b[1;32m     28\u001b[0m \u001b[0;34m\u001b[0m\u001b[0m\n\u001b[1;32m     29\u001b[0m history = model.fit(X_train, y_train,\n\u001b[0;32m---> 30\u001b[0;31m                         \u001b[0mepochs\u001b[0m\u001b[0;34m=\u001b[0m\u001b[0mepochs\u001b[0m\u001b[0;34m,\u001b[0m \u001b[0mbatch_size\u001b[0m\u001b[0;34m=\u001b[0m\u001b[0;36m32\u001b[0m\u001b[0;34m,\u001b[0m\u001b[0;34m\u001b[0m\u001b[0;34m\u001b[0m\u001b[0m\n\u001b[0m\u001b[1;32m     31\u001b[0m                         \u001b[0;31m# validation_split=0.1,\u001b[0m\u001b[0;34m\u001b[0m\u001b[0;34m\u001b[0m\u001b[0;34m\u001b[0m\u001b[0m\n\u001b[1;32m     32\u001b[0m                         \u001b[0;31m# shuffle=True\u001b[0m\u001b[0;34m\u001b[0m\u001b[0;34m\u001b[0m\u001b[0;34m\u001b[0m\u001b[0m\n",
            "\u001b[0;32m/usr/local/lib/python3.7/dist-packages/keras/utils/traceback_utils.py\u001b[0m in \u001b[0;36merror_handler\u001b[0;34m(*args, **kwargs)\u001b[0m\n\u001b[1;32m     65\u001b[0m     \u001b[0;32mexcept\u001b[0m \u001b[0mException\u001b[0m \u001b[0;32mas\u001b[0m \u001b[0me\u001b[0m\u001b[0;34m:\u001b[0m  \u001b[0;31m# pylint: disable=broad-except\u001b[0m\u001b[0;34m\u001b[0m\u001b[0;34m\u001b[0m\u001b[0m\n\u001b[1;32m     66\u001b[0m       \u001b[0mfiltered_tb\u001b[0m \u001b[0;34m=\u001b[0m \u001b[0m_process_traceback_frames\u001b[0m\u001b[0;34m(\u001b[0m\u001b[0me\u001b[0m\u001b[0;34m.\u001b[0m\u001b[0m__traceback__\u001b[0m\u001b[0;34m)\u001b[0m\u001b[0;34m\u001b[0m\u001b[0;34m\u001b[0m\u001b[0m\n\u001b[0;32m---> 67\u001b[0;31m       \u001b[0;32mraise\u001b[0m \u001b[0me\u001b[0m\u001b[0;34m.\u001b[0m\u001b[0mwith_traceback\u001b[0m\u001b[0;34m(\u001b[0m\u001b[0mfiltered_tb\u001b[0m\u001b[0;34m)\u001b[0m \u001b[0;32mfrom\u001b[0m \u001b[0;32mNone\u001b[0m\u001b[0;34m\u001b[0m\u001b[0;34m\u001b[0m\u001b[0m\n\u001b[0m\u001b[1;32m     68\u001b[0m     \u001b[0;32mfinally\u001b[0m\u001b[0;34m:\u001b[0m\u001b[0;34m\u001b[0m\u001b[0;34m\u001b[0m\u001b[0m\n\u001b[1;32m     69\u001b[0m       \u001b[0;32mdel\u001b[0m \u001b[0mfiltered_tb\u001b[0m\u001b[0;34m\u001b[0m\u001b[0;34m\u001b[0m\u001b[0m\n",
            "\u001b[0;32m/usr/local/lib/python3.7/dist-packages/keras/engine/training.py\u001b[0m in \u001b[0;36mtf__train_function\u001b[0;34m(iterator)\u001b[0m\n\u001b[1;32m     13\u001b[0m                 \u001b[0;32mtry\u001b[0m\u001b[0;34m:\u001b[0m\u001b[0;34m\u001b[0m\u001b[0;34m\u001b[0m\u001b[0m\n\u001b[1;32m     14\u001b[0m                     \u001b[0mdo_return\u001b[0m \u001b[0;34m=\u001b[0m \u001b[0;32mTrue\u001b[0m\u001b[0;34m\u001b[0m\u001b[0;34m\u001b[0m\u001b[0m\n\u001b[0;32m---> 15\u001b[0;31m                     \u001b[0mretval_\u001b[0m \u001b[0;34m=\u001b[0m \u001b[0mag__\u001b[0m\u001b[0;34m.\u001b[0m\u001b[0mconverted_call\u001b[0m\u001b[0;34m(\u001b[0m\u001b[0mag__\u001b[0m\u001b[0;34m.\u001b[0m\u001b[0mld\u001b[0m\u001b[0;34m(\u001b[0m\u001b[0mstep_function\u001b[0m\u001b[0;34m)\u001b[0m\u001b[0;34m,\u001b[0m \u001b[0;34m(\u001b[0m\u001b[0mag__\u001b[0m\u001b[0;34m.\u001b[0m\u001b[0mld\u001b[0m\u001b[0;34m(\u001b[0m\u001b[0mself\u001b[0m\u001b[0;34m)\u001b[0m\u001b[0;34m,\u001b[0m \u001b[0mag__\u001b[0m\u001b[0;34m.\u001b[0m\u001b[0mld\u001b[0m\u001b[0;34m(\u001b[0m\u001b[0miterator\u001b[0m\u001b[0;34m)\u001b[0m\u001b[0;34m)\u001b[0m\u001b[0;34m,\u001b[0m \u001b[0;32mNone\u001b[0m\u001b[0;34m,\u001b[0m \u001b[0mfscope\u001b[0m\u001b[0;34m)\u001b[0m\u001b[0;34m\u001b[0m\u001b[0;34m\u001b[0m\u001b[0m\n\u001b[0m\u001b[1;32m     16\u001b[0m                 \u001b[0;32mexcept\u001b[0m\u001b[0;34m:\u001b[0m\u001b[0;34m\u001b[0m\u001b[0;34m\u001b[0m\u001b[0m\n\u001b[1;32m     17\u001b[0m                     \u001b[0mdo_return\u001b[0m \u001b[0;34m=\u001b[0m \u001b[0;32mFalse\u001b[0m\u001b[0;34m\u001b[0m\u001b[0;34m\u001b[0m\u001b[0m\n",
            "\u001b[0;32m/usr/local/lib/python3.7/dist-packages/sklearn/metrics/_regression.py\u001b[0m in \u001b[0;36mtf__r2_score\u001b[0;34m(y_true, y_pred, sample_weight, multioutput)\u001b[0m\n\u001b[1;32m      9\u001b[0m                 \u001b[0mdo_return\u001b[0m \u001b[0;34m=\u001b[0m \u001b[0;32mFalse\u001b[0m\u001b[0;34m\u001b[0m\u001b[0;34m\u001b[0m\u001b[0m\n\u001b[1;32m     10\u001b[0m                 \u001b[0mretval_\u001b[0m \u001b[0;34m=\u001b[0m \u001b[0mag__\u001b[0m\u001b[0;34m.\u001b[0m\u001b[0mUndefinedReturnValue\u001b[0m\u001b[0;34m(\u001b[0m\u001b[0;34m)\u001b[0m\u001b[0;34m\u001b[0m\u001b[0;34m\u001b[0m\u001b[0m\n\u001b[0;32m---> 11\u001b[0;31m                 \u001b[0;34m(\u001b[0m\u001b[0my_type\u001b[0m\u001b[0;34m,\u001b[0m \u001b[0my_true\u001b[0m\u001b[0;34m,\u001b[0m \u001b[0my_pred\u001b[0m\u001b[0;34m,\u001b[0m \u001b[0mmultioutput\u001b[0m\u001b[0;34m)\u001b[0m \u001b[0;34m=\u001b[0m \u001b[0mag__\u001b[0m\u001b[0;34m.\u001b[0m\u001b[0mconverted_call\u001b[0m\u001b[0;34m(\u001b[0m\u001b[0mag__\u001b[0m\u001b[0;34m.\u001b[0m\u001b[0mld\u001b[0m\u001b[0;34m(\u001b[0m\u001b[0m_check_reg_targets\u001b[0m\u001b[0;34m)\u001b[0m\u001b[0;34m,\u001b[0m \u001b[0;34m(\u001b[0m\u001b[0mag__\u001b[0m\u001b[0;34m.\u001b[0m\u001b[0mld\u001b[0m\u001b[0;34m(\u001b[0m\u001b[0my_true\u001b[0m\u001b[0;34m)\u001b[0m\u001b[0;34m,\u001b[0m \u001b[0mag__\u001b[0m\u001b[0;34m.\u001b[0m\u001b[0mld\u001b[0m\u001b[0;34m(\u001b[0m\u001b[0my_pred\u001b[0m\u001b[0;34m)\u001b[0m\u001b[0;34m,\u001b[0m \u001b[0mag__\u001b[0m\u001b[0;34m.\u001b[0m\u001b[0mld\u001b[0m\u001b[0;34m(\u001b[0m\u001b[0mmultioutput\u001b[0m\u001b[0;34m)\u001b[0m\u001b[0;34m)\u001b[0m\u001b[0;34m,\u001b[0m \u001b[0;32mNone\u001b[0m\u001b[0;34m,\u001b[0m \u001b[0mfscope\u001b[0m\u001b[0;34m)\u001b[0m\u001b[0;34m\u001b[0m\u001b[0;34m\u001b[0m\u001b[0m\n\u001b[0m\u001b[1;32m     12\u001b[0m                 \u001b[0mag__\u001b[0m\u001b[0;34m.\u001b[0m\u001b[0mconverted_call\u001b[0m\u001b[0;34m(\u001b[0m\u001b[0mag__\u001b[0m\u001b[0;34m.\u001b[0m\u001b[0mld\u001b[0m\u001b[0;34m(\u001b[0m\u001b[0mcheck_consistent_length\u001b[0m\u001b[0;34m)\u001b[0m\u001b[0;34m,\u001b[0m \u001b[0;34m(\u001b[0m\u001b[0mag__\u001b[0m\u001b[0;34m.\u001b[0m\u001b[0mld\u001b[0m\u001b[0;34m(\u001b[0m\u001b[0my_true\u001b[0m\u001b[0;34m)\u001b[0m\u001b[0;34m,\u001b[0m \u001b[0mag__\u001b[0m\u001b[0;34m.\u001b[0m\u001b[0mld\u001b[0m\u001b[0;34m(\u001b[0m\u001b[0my_pred\u001b[0m\u001b[0;34m)\u001b[0m\u001b[0;34m,\u001b[0m \u001b[0mag__\u001b[0m\u001b[0;34m.\u001b[0m\u001b[0mld\u001b[0m\u001b[0;34m(\u001b[0m\u001b[0msample_weight\u001b[0m\u001b[0;34m)\u001b[0m\u001b[0;34m)\u001b[0m\u001b[0;34m,\u001b[0m \u001b[0;32mNone\u001b[0m\u001b[0;34m,\u001b[0m \u001b[0mfscope\u001b[0m\u001b[0;34m)\u001b[0m\u001b[0;34m\u001b[0m\u001b[0;34m\u001b[0m\u001b[0m\n\u001b[1;32m     13\u001b[0m \u001b[0;34m\u001b[0m\u001b[0m\n",
            "\u001b[0;32m/usr/local/lib/python3.7/dist-packages/sklearn/metrics/_regression.py\u001b[0m in \u001b[0;36mtf___check_reg_targets\u001b[0;34m(y_true, y_pred, multioutput, dtype)\u001b[0m\n\u001b[1;32m      9\u001b[0m                 \u001b[0mdo_return\u001b[0m \u001b[0;34m=\u001b[0m \u001b[0;32mFalse\u001b[0m\u001b[0;34m\u001b[0m\u001b[0;34m\u001b[0m\u001b[0m\n\u001b[1;32m     10\u001b[0m                 \u001b[0mretval_\u001b[0m \u001b[0;34m=\u001b[0m \u001b[0mag__\u001b[0m\u001b[0;34m.\u001b[0m\u001b[0mUndefinedReturnValue\u001b[0m\u001b[0;34m(\u001b[0m\u001b[0;34m)\u001b[0m\u001b[0;34m\u001b[0m\u001b[0;34m\u001b[0m\u001b[0m\n\u001b[0;32m---> 11\u001b[0;31m                 \u001b[0mag__\u001b[0m\u001b[0;34m.\u001b[0m\u001b[0mconverted_call\u001b[0m\u001b[0;34m(\u001b[0m\u001b[0mag__\u001b[0m\u001b[0;34m.\u001b[0m\u001b[0mld\u001b[0m\u001b[0;34m(\u001b[0m\u001b[0mcheck_consistent_length\u001b[0m\u001b[0;34m)\u001b[0m\u001b[0;34m,\u001b[0m \u001b[0;34m(\u001b[0m\u001b[0mag__\u001b[0m\u001b[0;34m.\u001b[0m\u001b[0mld\u001b[0m\u001b[0;34m(\u001b[0m\u001b[0my_true\u001b[0m\u001b[0;34m)\u001b[0m\u001b[0;34m,\u001b[0m \u001b[0mag__\u001b[0m\u001b[0;34m.\u001b[0m\u001b[0mld\u001b[0m\u001b[0;34m(\u001b[0m\u001b[0my_pred\u001b[0m\u001b[0;34m)\u001b[0m\u001b[0;34m)\u001b[0m\u001b[0;34m,\u001b[0m \u001b[0;32mNone\u001b[0m\u001b[0;34m,\u001b[0m \u001b[0mfscope\u001b[0m\u001b[0;34m)\u001b[0m\u001b[0;34m\u001b[0m\u001b[0;34m\u001b[0m\u001b[0m\n\u001b[0m\u001b[1;32m     12\u001b[0m                 \u001b[0my_true\u001b[0m \u001b[0;34m=\u001b[0m \u001b[0mag__\u001b[0m\u001b[0;34m.\u001b[0m\u001b[0mconverted_call\u001b[0m\u001b[0;34m(\u001b[0m\u001b[0mag__\u001b[0m\u001b[0;34m.\u001b[0m\u001b[0mld\u001b[0m\u001b[0;34m(\u001b[0m\u001b[0mcheck_array\u001b[0m\u001b[0;34m)\u001b[0m\u001b[0;34m,\u001b[0m \u001b[0;34m(\u001b[0m\u001b[0mag__\u001b[0m\u001b[0;34m.\u001b[0m\u001b[0mld\u001b[0m\u001b[0;34m(\u001b[0m\u001b[0my_true\u001b[0m\u001b[0;34m)\u001b[0m\u001b[0;34m,\u001b[0m\u001b[0;34m)\u001b[0m\u001b[0;34m,\u001b[0m \u001b[0mdict\u001b[0m\u001b[0;34m(\u001b[0m\u001b[0mensure_2d\u001b[0m\u001b[0;34m=\u001b[0m\u001b[0;32mFalse\u001b[0m\u001b[0;34m,\u001b[0m \u001b[0mdtype\u001b[0m\u001b[0;34m=\u001b[0m\u001b[0mag__\u001b[0m\u001b[0;34m.\u001b[0m\u001b[0mld\u001b[0m\u001b[0;34m(\u001b[0m\u001b[0mdtype\u001b[0m\u001b[0;34m)\u001b[0m\u001b[0;34m)\u001b[0m\u001b[0;34m,\u001b[0m \u001b[0mfscope\u001b[0m\u001b[0;34m)\u001b[0m\u001b[0;34m\u001b[0m\u001b[0;34m\u001b[0m\u001b[0m\n\u001b[1;32m     13\u001b[0m                 \u001b[0my_pred\u001b[0m \u001b[0;34m=\u001b[0m \u001b[0mag__\u001b[0m\u001b[0;34m.\u001b[0m\u001b[0mconverted_call\u001b[0m\u001b[0;34m(\u001b[0m\u001b[0mag__\u001b[0m\u001b[0;34m.\u001b[0m\u001b[0mld\u001b[0m\u001b[0;34m(\u001b[0m\u001b[0mcheck_array\u001b[0m\u001b[0;34m)\u001b[0m\u001b[0;34m,\u001b[0m \u001b[0;34m(\u001b[0m\u001b[0mag__\u001b[0m\u001b[0;34m.\u001b[0m\u001b[0mld\u001b[0m\u001b[0;34m(\u001b[0m\u001b[0my_pred\u001b[0m\u001b[0;34m)\u001b[0m\u001b[0;34m,\u001b[0m\u001b[0;34m)\u001b[0m\u001b[0;34m,\u001b[0m \u001b[0mdict\u001b[0m\u001b[0;34m(\u001b[0m\u001b[0mensure_2d\u001b[0m\u001b[0;34m=\u001b[0m\u001b[0;32mFalse\u001b[0m\u001b[0;34m,\u001b[0m \u001b[0mdtype\u001b[0m\u001b[0;34m=\u001b[0m\u001b[0mag__\u001b[0m\u001b[0;34m.\u001b[0m\u001b[0mld\u001b[0m\u001b[0;34m(\u001b[0m\u001b[0mdtype\u001b[0m\u001b[0;34m)\u001b[0m\u001b[0;34m)\u001b[0m\u001b[0;34m,\u001b[0m \u001b[0mfscope\u001b[0m\u001b[0;34m)\u001b[0m\u001b[0;34m\u001b[0m\u001b[0;34m\u001b[0m\u001b[0m\n",
            "\u001b[0;32m/usr/local/lib/python3.7/dist-packages/sklearn/utils/validation.py\u001b[0m in \u001b[0;36mtf__check_consistent_length\u001b[0;34m(*arrays)\u001b[0m\n\u001b[1;32m      8\u001b[0m             \u001b[0;32mwith\u001b[0m \u001b[0mag__\u001b[0m\u001b[0;34m.\u001b[0m\u001b[0mFunctionScope\u001b[0m\u001b[0;34m(\u001b[0m\u001b[0;34m'check_consistent_length'\u001b[0m\u001b[0;34m,\u001b[0m \u001b[0;34m'fscope'\u001b[0m\u001b[0;34m,\u001b[0m \u001b[0mag__\u001b[0m\u001b[0;34m.\u001b[0m\u001b[0mSTD\u001b[0m\u001b[0;34m)\u001b[0m \u001b[0;32mas\u001b[0m \u001b[0mfscope\u001b[0m\u001b[0;34m:\u001b[0m\u001b[0;34m\u001b[0m\u001b[0;34m\u001b[0m\u001b[0m\n\u001b[1;32m      9\u001b[0m                 \u001b[0mlengths\u001b[0m \u001b[0;34m=\u001b[0m \u001b[0;34m[\u001b[0m\u001b[0mag__\u001b[0m\u001b[0;34m.\u001b[0m\u001b[0mconverted_call\u001b[0m\u001b[0;34m(\u001b[0m\u001b[0mag__\u001b[0m\u001b[0;34m.\u001b[0m\u001b[0mld\u001b[0m\u001b[0;34m(\u001b[0m\u001b[0m_num_samples\u001b[0m\u001b[0;34m)\u001b[0m\u001b[0;34m,\u001b[0m \u001b[0;34m(\u001b[0m\u001b[0mag__\u001b[0m\u001b[0;34m.\u001b[0m\u001b[0mld\u001b[0m\u001b[0;34m(\u001b[0m\u001b[0mX\u001b[0m\u001b[0;34m)\u001b[0m\u001b[0;34m,\u001b[0m\u001b[0;34m)\u001b[0m\u001b[0;34m,\u001b[0m \u001b[0;32mNone\u001b[0m\u001b[0;34m,\u001b[0m \u001b[0mfscope\u001b[0m\u001b[0;34m)\u001b[0m \u001b[0;32mfor\u001b[0m \u001b[0mX\u001b[0m \u001b[0;32min\u001b[0m \u001b[0mag__\u001b[0m\u001b[0;34m.\u001b[0m\u001b[0mld\u001b[0m\u001b[0;34m(\u001b[0m\u001b[0marrays\u001b[0m\u001b[0;34m)\u001b[0m \u001b[0;32mif\u001b[0m \u001b[0;34m(\u001b[0m\u001b[0mag__\u001b[0m\u001b[0;34m.\u001b[0m\u001b[0mld\u001b[0m\u001b[0;34m(\u001b[0m\u001b[0mX\u001b[0m\u001b[0;34m)\u001b[0m \u001b[0;32mis\u001b[0m \u001b[0;32mnot\u001b[0m \u001b[0;32mNone\u001b[0m\u001b[0;34m)\u001b[0m\u001b[0;34m]\u001b[0m\u001b[0;34m\u001b[0m\u001b[0;34m\u001b[0m\u001b[0m\n\u001b[0;32m---> 10\u001b[0;31m                 \u001b[0muniques\u001b[0m \u001b[0;34m=\u001b[0m \u001b[0mag__\u001b[0m\u001b[0;34m.\u001b[0m\u001b[0mconverted_call\u001b[0m\u001b[0;34m(\u001b[0m\u001b[0mag__\u001b[0m\u001b[0;34m.\u001b[0m\u001b[0mld\u001b[0m\u001b[0;34m(\u001b[0m\u001b[0mnp\u001b[0m\u001b[0;34m)\u001b[0m\u001b[0;34m.\u001b[0m\u001b[0munique\u001b[0m\u001b[0;34m,\u001b[0m \u001b[0;34m(\u001b[0m\u001b[0mag__\u001b[0m\u001b[0;34m.\u001b[0m\u001b[0mld\u001b[0m\u001b[0;34m(\u001b[0m\u001b[0mlengths\u001b[0m\u001b[0;34m)\u001b[0m\u001b[0;34m,\u001b[0m\u001b[0;34m)\u001b[0m\u001b[0;34m,\u001b[0m \u001b[0;32mNone\u001b[0m\u001b[0;34m,\u001b[0m \u001b[0mfscope\u001b[0m\u001b[0;34m)\u001b[0m\u001b[0;34m\u001b[0m\u001b[0;34m\u001b[0m\u001b[0m\n\u001b[0m\u001b[1;32m     11\u001b[0m \u001b[0;34m\u001b[0m\u001b[0m\n\u001b[1;32m     12\u001b[0m                 \u001b[0;32mdef\u001b[0m \u001b[0mget_state\u001b[0m\u001b[0;34m(\u001b[0m\u001b[0;34m)\u001b[0m\u001b[0;34m:\u001b[0m\u001b[0;34m\u001b[0m\u001b[0;34m\u001b[0m\u001b[0m\n",
            "\u001b[0;32m<__array_function__ internals>\u001b[0m in \u001b[0;36munique\u001b[0;34m(*args, **kwargs)\u001b[0m\n",
            "\u001b[0;32m/usr/local/lib/python3.7/dist-packages/numpy/lib/arraysetops.py\u001b[0m in \u001b[0;36munique\u001b[0;34m(ar, return_index, return_inverse, return_counts, axis)\u001b[0m\n\u001b[1;32m    268\u001b[0m \u001b[0;34m\u001b[0m\u001b[0m\n\u001b[1;32m    269\u001b[0m     \"\"\"\n\u001b[0;32m--> 270\u001b[0;31m     \u001b[0mar\u001b[0m \u001b[0;34m=\u001b[0m \u001b[0mnp\u001b[0m\u001b[0;34m.\u001b[0m\u001b[0masanyarray\u001b[0m\u001b[0;34m(\u001b[0m\u001b[0mar\u001b[0m\u001b[0;34m)\u001b[0m\u001b[0;34m\u001b[0m\u001b[0;34m\u001b[0m\u001b[0m\n\u001b[0m\u001b[1;32m    271\u001b[0m     \u001b[0;32mif\u001b[0m \u001b[0maxis\u001b[0m \u001b[0;32mis\u001b[0m \u001b[0;32mNone\u001b[0m\u001b[0;34m:\u001b[0m\u001b[0;34m\u001b[0m\u001b[0;34m\u001b[0m\u001b[0m\n\u001b[1;32m    272\u001b[0m         \u001b[0mret\u001b[0m \u001b[0;34m=\u001b[0m \u001b[0m_unique1d\u001b[0m\u001b[0;34m(\u001b[0m\u001b[0mar\u001b[0m\u001b[0;34m,\u001b[0m \u001b[0mreturn_index\u001b[0m\u001b[0;34m,\u001b[0m \u001b[0mreturn_inverse\u001b[0m\u001b[0;34m,\u001b[0m \u001b[0mreturn_counts\u001b[0m\u001b[0;34m)\u001b[0m\u001b[0;34m\u001b[0m\u001b[0;34m\u001b[0m\u001b[0m\n",
            "\u001b[0;31mNotImplementedError\u001b[0m: in user code:\n\n    File \"/usr/local/lib/python3.7/dist-packages/keras/engine/training.py\", line 1051, in train_function  *\n        return step_function(self, iterator)\n    File \"/usr/local/lib/python3.7/dist-packages/sklearn/metrics/_regression.py\", line 788, in r2_score  *\n        y_type, y_true, y_pred, multioutput = _check_reg_targets(\n    File \"/usr/local/lib/python3.7/dist-packages/sklearn/metrics/_regression.py\", line 94, in _check_reg_targets  *\n        check_consistent_length(y_true, y_pred)\n    File \"/usr/local/lib/python3.7/dist-packages/sklearn/utils/validation.py\", line 330, in check_consistent_length  *\n        uniques = np.unique(lengths)\n    File \"<__array_function__ internals>\", line 6, in unique  **\n        \n    File \"/usr/local/lib/python3.7/dist-packages/numpy/lib/arraysetops.py\", line 270, in unique\n        ar = np.asanyarray(ar)\n\n    NotImplementedError: Cannot convert a symbolic tf.Tensor (strided_slice_1:0) to a numpy array. This error may indicate that you're trying to pass a Tensor to a NumPy call, which is not supported.\n"
          ]
        }
      ]
    },
    {
      "cell_type": "code",
      "source": [
        "y_train.shape[0]"
      ],
      "metadata": {
        "colab": {
          "base_uri": "https://localhost:8080/"
        },
        "id": "oIaLF4CRNsmy",
        "outputId": "b976d230-71be-4c7f-b0eb-2d929d4adb1d"
      },
      "execution_count": null,
      "outputs": [
        {
          "output_type": "execute_result",
          "data": {
            "text/plain": [
              "6119"
            ]
          },
          "metadata": {},
          "execution_count": 41
        }
      ]
    },
    {
      "cell_type": "code",
      "source": [
        "class UfcDataset(Dataset):\n",
        "    def __init__(self, df, cats, conts, targets):\n",
        "        self.X_cats = df[cats].astype(np.int64).values\n",
        "        self.X_conts = df[conts].astype(np.float32).values\n",
        "        self.y = targets.astype(np.float32).values.reshape(-1, 1)\n",
        "        \n",
        "        \n",
        "    def __len__(self):\n",
        "        return self.y.shape[0]\n",
        "    \n",
        "    def __getitem__(self, i):\n",
        "        return [self.X_cats[i], self.X_conts[i], self.y[i]]"
      ],
      "metadata": {
        "id": "xbrzYf_pQlKQ"
      },
      "execution_count": null,
      "outputs": []
    },
    {
      "cell_type": "code",
      "source": [
        "\n",
        "train_dataset = UfcDataset(X_train, conts, conts, y_train)\n",
        "test_dataset = UfcDataset(X_test, conts, conts, y_test)"
      ],
      "metadata": {
        "id": "VpLwPxMdQqL1",
        "colab": {
          "base_uri": "https://localhost:8080/",
          "height": 187
        },
        "outputId": "b206b9a6-89a2-4051-a9a4-e853df940d2b"
      },
      "execution_count": null,
      "outputs": [
        {
          "output_type": "error",
          "ename": "NameError",
          "evalue": "ignored",
          "traceback": [
            "\u001b[0;31m---------------------------------------------------------------------------\u001b[0m",
            "\u001b[0;31mNameError\u001b[0m                                 Traceback (most recent call last)",
            "\u001b[0;32m<ipython-input-28-c5dc62b316dc>\u001b[0m in \u001b[0;36m<module>\u001b[0;34m\u001b[0m\n\u001b[0;32m----> 1\u001b[0;31m \u001b[0mtrain_dataset\u001b[0m \u001b[0;34m=\u001b[0m \u001b[0mUfcDataset\u001b[0m\u001b[0;34m(\u001b[0m\u001b[0mX_train\u001b[0m\u001b[0;34m,\u001b[0m \u001b[0mconts\u001b[0m\u001b[0;34m,\u001b[0m \u001b[0mconts\u001b[0m\u001b[0;34m,\u001b[0m \u001b[0my_train\u001b[0m\u001b[0;34m)\u001b[0m\u001b[0;34m\u001b[0m\u001b[0;34m\u001b[0m\u001b[0m\n\u001b[0m\u001b[1;32m      2\u001b[0m \u001b[0mtest_dataset\u001b[0m \u001b[0;34m=\u001b[0m \u001b[0mUfcDataset\u001b[0m\u001b[0;34m(\u001b[0m\u001b[0mX_test\u001b[0m\u001b[0;34m,\u001b[0m \u001b[0mconts\u001b[0m\u001b[0;34m,\u001b[0m \u001b[0mconts\u001b[0m\u001b[0;34m,\u001b[0m \u001b[0my_test\u001b[0m\u001b[0;34m)\u001b[0m\u001b[0;34m\u001b[0m\u001b[0;34m\u001b[0m\u001b[0m\n",
            "\u001b[0;31mNameError\u001b[0m: name 'conts' is not defined"
          ]
        }
      ]
    },
    {
      "cell_type": "code",
      "source": [
        "# prediction\n",
        "\n",
        "y = np.array([1,1,1,1,1,1,1,1,1,1,1])\n",
        "y = pd.Series(y)\n",
        "\n",
        "test_dataset = UfcDataset(X, cats, conts, y)"
      ],
      "metadata": {
        "id": "6VWHjTxHcqH6"
      },
      "execution_count": null,
      "outputs": []
    },
    {
      "cell_type": "code",
      "source": [
        "# Device\n",
        "device = torch.device('cuda' if torch.cuda.is_available() else 'cpu')"
      ],
      "metadata": {
        "id": "Alz-n8nFQ5wg"
      },
      "execution_count": null,
      "outputs": []
    },
    {
      "cell_type": "code",
      "source": [
        "\n",
        "# Data loaders\n",
        "bz=32\n",
        "# train_dl = torch.utils.data.DataLoader(train_dataset, batch_size=bz, shuffle=True)\n",
        "test_dl = torch.utils.data.DataLoader(test_dataset, batch_size=bz, shuffle=False)"
      ],
      "metadata": {
        "id": "N4vYAA8GQ8uf"
      },
      "execution_count": null,
      "outputs": []
    },
    {
      "cell_type": "code",
      "source": [
        "class UfcNet(nn.Module):\n",
        "    def __init__(self, emb_dims, num_conts, fc_layer_sizes, emb_drop, ps):\n",
        "        super(UfcNet, self).__init__()\n",
        "        \n",
        "        # embedding layers for categorical features\n",
        "        self.emb_layers = nn.ModuleList([nn.Embedding(x, y) for x, y in emb_dims])\n",
        "        self.num_embs = sum([y for _, y in emb_dims])\n",
        "        self.num_conts = num_conts\n",
        "        \n",
        "        # fully connected layers\n",
        "        fc_layer_sizes = [self.num_embs + self.num_conts] + fc_layer_sizes\n",
        "        self.fc_layers = nn.ModuleList([nn.Linear(fc_layer_sizes[i],fc_layer_sizes[i+1])\n",
        "                                        for i in range(len(fc_layer_sizes)-1)])\n",
        "        \n",
        "        # out layer\n",
        "        self.out = nn.Linear(fc_layer_sizes[-1], 1)\n",
        "        \n",
        "        # batch norm layers\n",
        "        self.first_bn = nn.BatchNorm1d(self.num_conts)\n",
        "        self.bn_layers = nn.ModuleList([nn.BatchNorm1d(sz)\n",
        "                                        for sz in fc_layer_sizes[1:]])\n",
        "        # dropout layers\n",
        "        self.emb_drop = nn.Dropout(emb_drop)\n",
        "        self.dropout_layers = nn.ModuleList([nn.Dropout(p) for p in ps])\n",
        "        \n",
        "    def forward(self, x_cats, x_conts):\n",
        "        x = [e(x_cats[:, i]) for i, e in enumerate(self.emb_layers)]\n",
        "        x = torch.cat(x, 1)\n",
        "        x = self.emb_drop(x)\n",
        "        \n",
        "        x_c = self.first_bn(x_conts)\n",
        "        x = torch.cat([x, x_c], 1)\n",
        "        \n",
        "        for fc, bn, d in zip(self.fc_layers, self.bn_layers, self.dropout_layers):\n",
        "            x = F.relu(fc(x))\n",
        "            x = bn(x)\n",
        "            x = d(x)\n",
        "        \n",
        "        x = self.out(x)\n",
        "        return torch.sigmoid(x)"
      ],
      "metadata": {
        "id": "xzN19RRBRB9L"
      },
      "execution_count": null,
      "outputs": []
    },
    {
      "cell_type": "code",
      "source": [
        "emb_dims = [(len(data[cat].unique()), min(50, len(data[cat].unique())//2)) for cat in cats]\n",
        "emb_dims"
      ],
      "metadata": {
        "id": "87nXk0-MULgw",
        "colab": {
          "base_uri": "https://localhost:8080/"
        },
        "outputId": "9879622c-b710-43b1-ccc4-c7ee2cc5d116"
      },
      "execution_count": null,
      "outputs": [
        {
          "output_type": "execute_result",
          "data": {
            "text/plain": [
              "[(3, 1), (3, 1)]"
            ]
          },
          "metadata": {},
          "execution_count": 37
        }
      ]
    },
    {
      "cell_type": "code",
      "source": [
        "num_conts = len(conts)\n",
        "fc_layer_sizes = [256, 64, 16]\n",
        "emb_drop = 0.5\n",
        "ps = [0.5] * 3"
      ],
      "metadata": {
        "id": "vxQw40DWUNI2"
      },
      "execution_count": null,
      "outputs": []
    },
    {
      "cell_type": "code",
      "source": [
        "ufc_model = UfcNet(emb_dims, num_conts, fc_layer_sizes, emb_drop, ps).to(device)"
      ],
      "metadata": {
        "id": "sG4Xna5tUPB9"
      },
      "execution_count": null,
      "outputs": []
    },
    {
      "cell_type": "code",
      "source": [
        "\n",
        "criterion = nn.BCELoss()\n",
        "learning_rate = 1e-2\n",
        "optimizer = torch.optim.Adam(ufc_model.parameters(), lr=learning_rate, weight_decay=1e-4)  "
      ],
      "metadata": {
        "id": "rjqE4W8QUQ9m"
      },
      "execution_count": null,
      "outputs": []
    },
    {
      "cell_type": "code",
      "source": [
        "num_epochs = 4\n",
        "total_step = len(test_dl)\n",
        "for epoch in range(num_epochs):\n",
        "    for i, (x_cats, x_conts, y) in enumerate(test_dl):\n",
        "        x_cats, x_conts, y = x_cats.to(device), x_conts.to(device), y.to(device)\n",
        "        \n",
        "        # forward\n",
        "        outputs = ufc_model(x_cats, x_conts)\n",
        "        loss = criterion(outputs, y)\n",
        "        \n",
        "        # backward and optimize\n",
        "        optimizer.zero_grad()\n",
        "        loss.backward()\n",
        "        optimizer.step()\n",
        "        \n",
        "        if (i+1) % 100 == 0:\n",
        "            print ('Epoch [{}/{}], Step [{}/{}], Loss: {:.4f}' \n",
        "                   .format(epoch+1, num_epochs, i+1, total_step, loss.item()))"
      ],
      "metadata": {
        "id": "ei9ouZmnUScn"
      },
      "execution_count": null,
      "outputs": []
    },
    {
      "cell_type": "code",
      "source": [
        "with torch.no_grad():\n",
        "    correct = 0\n",
        "    total = 0\n",
        "    for x_cats, x_conts, y in test_dl:\n",
        "        x_cats, x_conts, y = x_cats.to(device), x_conts.to(device), y.to(device)\n",
        "        outputs = ufc_model(x_cats, x_conts)\n",
        "        preds = (outputs>0.5).type(torch.FloatTensor)\n",
        "        total += y.size(0)\n",
        "        correct += (preds == y).sum().item()\n",
        "\n",
        "print (\"Accuracy: {:.2f}%\".format(100*correct/total))"
      ],
      "metadata": {
        "id": "xKqvyUDIUU_W",
        "colab": {
          "base_uri": "https://localhost:8080/"
        },
        "outputId": "f4432739-bfc7-46c3-9ae6-601afdeb6dbb"
      },
      "execution_count": null,
      "outputs": [
        {
          "output_type": "stream",
          "name": "stdout",
          "text": [
            "Accuracy: 81.82%\n"
          ]
        }
      ]
    },
    {
      "cell_type": "code",
      "source": [
        "outputs = pd.Series(outputs) "
      ],
      "metadata": {
        "id": "lvoaX_NDH69B"
      },
      "execution_count": 44,
      "outputs": []
    },
    {
      "cell_type": "code",
      "source": [
        "pd.concat([df_test_pred['fighter1_name'], df_test_pred['fighter2_name'], outputs], axis=1)"
      ],
      "metadata": {
        "id": "pfHSi7fZiSBz",
        "colab": {
          "base_uri": "https://localhost:8080/",
          "height": 327
        },
        "outputId": "ea6dae43-9696-4a3c-f6bb-2da8446cb4d8"
      },
      "execution_count": 45,
      "outputs": [
        {
          "output_type": "execute_result",
          "data": {
            "text/plain": [
              "       fighter1_name      fighter2_name  0\n",
              "0       Alexa Grasso     Viviane Araujo  1\n",
              "1        Cub Swanson  Jonathan Martinez  0\n",
              "2      Askar Askarov     Brandon Royval  1\n",
              "3      Jordan Wright    Dusko Todorovic  0\n",
              "4     Misha Cirkunov   Alonzo Menifield  0\n",
              "5      Mana Martinez      Brandon Davis  0\n",
              "6   Raphael Assuncao       Victor Henry  1\n",
              "7       Nick Maximov      Jacob Malkoun  1\n",
              "8    Piera Rodriguez         Sam Hughes  1\n",
              "9      Tatsuro Taira         CJ Vergara  1\n",
              "10      Mike Jackson     Pete Rodriguez  1"
            ],
            "text/html": [
              "\n",
              "  <div id=\"df-2ea09c5a-ad8a-4350-8dd1-a2ebf82b04d1\">\n",
              "    <div class=\"colab-df-container\">\n",
              "      <div>\n",
              "<style scoped>\n",
              "    .dataframe tbody tr th:only-of-type {\n",
              "        vertical-align: middle;\n",
              "    }\n",
              "\n",
              "    .dataframe tbody tr th {\n",
              "        vertical-align: top;\n",
              "    }\n",
              "\n",
              "    .dataframe thead th {\n",
              "        text-align: right;\n",
              "    }\n",
              "</style>\n",
              "<table border=\"1\" class=\"dataframe\">\n",
              "  <thead>\n",
              "    <tr style=\"text-align: right;\">\n",
              "      <th></th>\n",
              "      <th>fighter1_name</th>\n",
              "      <th>fighter2_name</th>\n",
              "      <th>0</th>\n",
              "    </tr>\n",
              "  </thead>\n",
              "  <tbody>\n",
              "    <tr>\n",
              "      <th>0</th>\n",
              "      <td>Alexa Grasso</td>\n",
              "      <td>Viviane Araujo</td>\n",
              "      <td>1</td>\n",
              "    </tr>\n",
              "    <tr>\n",
              "      <th>1</th>\n",
              "      <td>Cub Swanson</td>\n",
              "      <td>Jonathan Martinez</td>\n",
              "      <td>0</td>\n",
              "    </tr>\n",
              "    <tr>\n",
              "      <th>2</th>\n",
              "      <td>Askar Askarov</td>\n",
              "      <td>Brandon Royval</td>\n",
              "      <td>1</td>\n",
              "    </tr>\n",
              "    <tr>\n",
              "      <th>3</th>\n",
              "      <td>Jordan Wright</td>\n",
              "      <td>Dusko Todorovic</td>\n",
              "      <td>0</td>\n",
              "    </tr>\n",
              "    <tr>\n",
              "      <th>4</th>\n",
              "      <td>Misha Cirkunov</td>\n",
              "      <td>Alonzo Menifield</td>\n",
              "      <td>0</td>\n",
              "    </tr>\n",
              "    <tr>\n",
              "      <th>5</th>\n",
              "      <td>Mana Martinez</td>\n",
              "      <td>Brandon Davis</td>\n",
              "      <td>0</td>\n",
              "    </tr>\n",
              "    <tr>\n",
              "      <th>6</th>\n",
              "      <td>Raphael Assuncao</td>\n",
              "      <td>Victor Henry</td>\n",
              "      <td>1</td>\n",
              "    </tr>\n",
              "    <tr>\n",
              "      <th>7</th>\n",
              "      <td>Nick Maximov</td>\n",
              "      <td>Jacob Malkoun</td>\n",
              "      <td>1</td>\n",
              "    </tr>\n",
              "    <tr>\n",
              "      <th>8</th>\n",
              "      <td>Piera Rodriguez</td>\n",
              "      <td>Sam Hughes</td>\n",
              "      <td>1</td>\n",
              "    </tr>\n",
              "    <tr>\n",
              "      <th>9</th>\n",
              "      <td>Tatsuro Taira</td>\n",
              "      <td>CJ Vergara</td>\n",
              "      <td>1</td>\n",
              "    </tr>\n",
              "    <tr>\n",
              "      <th>10</th>\n",
              "      <td>Mike Jackson</td>\n",
              "      <td>Pete Rodriguez</td>\n",
              "      <td>1</td>\n",
              "    </tr>\n",
              "  </tbody>\n",
              "</table>\n",
              "</div>\n",
              "      <button class=\"colab-df-convert\" onclick=\"convertToInteractive('df-2ea09c5a-ad8a-4350-8dd1-a2ebf82b04d1')\"\n",
              "              title=\"Convert this dataframe to an interactive table.\"\n",
              "              style=\"display:none;\">\n",
              "        \n",
              "  <svg xmlns=\"http://www.w3.org/2000/svg\" height=\"24px\"viewBox=\"0 0 24 24\"\n",
              "       width=\"24px\">\n",
              "    <path d=\"M0 0h24v24H0V0z\" fill=\"none\"/>\n",
              "    <path d=\"M18.56 5.44l.94 2.06.94-2.06 2.06-.94-2.06-.94-.94-2.06-.94 2.06-2.06.94zm-11 1L8.5 8.5l.94-2.06 2.06-.94-2.06-.94L8.5 2.5l-.94 2.06-2.06.94zm10 10l.94 2.06.94-2.06 2.06-.94-2.06-.94-.94-2.06-.94 2.06-2.06.94z\"/><path d=\"M17.41 7.96l-1.37-1.37c-.4-.4-.92-.59-1.43-.59-.52 0-1.04.2-1.43.59L10.3 9.45l-7.72 7.72c-.78.78-.78 2.05 0 2.83L4 21.41c.39.39.9.59 1.41.59.51 0 1.02-.2 1.41-.59l7.78-7.78 2.81-2.81c.8-.78.8-2.07 0-2.86zM5.41 20L4 18.59l7.72-7.72 1.47 1.35L5.41 20z\"/>\n",
              "  </svg>\n",
              "      </button>\n",
              "      \n",
              "  <style>\n",
              "    .colab-df-container {\n",
              "      display:flex;\n",
              "      flex-wrap:wrap;\n",
              "      gap: 12px;\n",
              "    }\n",
              "\n",
              "    .colab-df-convert {\n",
              "      background-color: #E8F0FE;\n",
              "      border: none;\n",
              "      border-radius: 50%;\n",
              "      cursor: pointer;\n",
              "      display: none;\n",
              "      fill: #1967D2;\n",
              "      height: 32px;\n",
              "      padding: 0 0 0 0;\n",
              "      width: 32px;\n",
              "    }\n",
              "\n",
              "    .colab-df-convert:hover {\n",
              "      background-color: #E2EBFA;\n",
              "      box-shadow: 0px 1px 2px rgba(60, 64, 67, 0.3), 0px 1px 3px 1px rgba(60, 64, 67, 0.15);\n",
              "      fill: #174EA6;\n",
              "    }\n",
              "\n",
              "    [theme=dark] .colab-df-convert {\n",
              "      background-color: #3B4455;\n",
              "      fill: #D2E3FC;\n",
              "    }\n",
              "\n",
              "    [theme=dark] .colab-df-convert:hover {\n",
              "      background-color: #434B5C;\n",
              "      box-shadow: 0px 1px 3px 1px rgba(0, 0, 0, 0.15);\n",
              "      filter: drop-shadow(0px 1px 2px rgba(0, 0, 0, 0.3));\n",
              "      fill: #FFFFFF;\n",
              "    }\n",
              "  </style>\n",
              "\n",
              "      <script>\n",
              "        const buttonEl =\n",
              "          document.querySelector('#df-2ea09c5a-ad8a-4350-8dd1-a2ebf82b04d1 button.colab-df-convert');\n",
              "        buttonEl.style.display =\n",
              "          google.colab.kernel.accessAllowed ? 'block' : 'none';\n",
              "\n",
              "        async function convertToInteractive(key) {\n",
              "          const element = document.querySelector('#df-2ea09c5a-ad8a-4350-8dd1-a2ebf82b04d1');\n",
              "          const dataTable =\n",
              "            await google.colab.kernel.invokeFunction('convertToInteractive',\n",
              "                                                     [key], {});\n",
              "          if (!dataTable) return;\n",
              "\n",
              "          const docLinkHtml = 'Like what you see? Visit the ' +\n",
              "            '<a target=\"_blank\" href=https://colab.research.google.com/notebooks/data_table.ipynb>data table notebook</a>'\n",
              "            + ' to learn more about interactive tables.';\n",
              "          element.innerHTML = '';\n",
              "          dataTable['output_type'] = 'display_data';\n",
              "          await google.colab.output.renderOutput(dataTable, element);\n",
              "          const docLink = document.createElement('div');\n",
              "          docLink.innerHTML = docLinkHtml;\n",
              "          element.appendChild(docLink);\n",
              "        }\n",
              "      </script>\n",
              "    </div>\n",
              "  </div>\n",
              "  "
            ],
            "application/vnd.google.colaboratory.module+javascript": "\n      import \"https://ssl.gstatic.com/colaboratory/data_table/a8bd4d5e58f96183/data_table.js\";\n\n      window.createDataTable({\n        data: [[{\n            'v': 0,\n            'f': \"0\",\n        },\n\"Alexa Grasso\",\n\"Viviane Araujo\",\n{\n            'v': 1,\n            'f': \"1\",\n        }],\n [{\n            'v': 1,\n            'f': \"1\",\n        },\n\"Cub Swanson\",\n\"Jonathan Martinez\",\n{\n            'v': 0,\n            'f': \"0\",\n        }],\n [{\n            'v': 2,\n            'f': \"2\",\n        },\n\"Askar Askarov\",\n\"Brandon Royval\",\n{\n            'v': 1,\n            'f': \"1\",\n        }],\n [{\n            'v': 3,\n            'f': \"3\",\n        },\n\"Jordan Wright\",\n\"Dusko Todorovic\",\n{\n            'v': 0,\n            'f': \"0\",\n        }],\n [{\n            'v': 4,\n            'f': \"4\",\n        },\n\"Misha Cirkunov\",\n\"Alonzo Menifield\",\n{\n            'v': 0,\n            'f': \"0\",\n        }],\n [{\n            'v': 5,\n            'f': \"5\",\n        },\n\"Mana Martinez\",\n\"Brandon Davis\",\n{\n            'v': 0,\n            'f': \"0\",\n        }],\n [{\n            'v': 6,\n            'f': \"6\",\n        },\n\"Raphael Assuncao\",\n\"Victor Henry\",\n{\n            'v': 1,\n            'f': \"1\",\n        }],\n [{\n            'v': 7,\n            'f': \"7\",\n        },\n\"Nick Maximov\",\n\"Jacob Malkoun\",\n{\n            'v': 1,\n            'f': \"1\",\n        }],\n [{\n            'v': 8,\n            'f': \"8\",\n        },\n\"Piera Rodriguez\",\n\"Sam Hughes\",\n{\n            'v': 1,\n            'f': \"1\",\n        }],\n [{\n            'v': 9,\n            'f': \"9\",\n        },\n\"Tatsuro Taira\",\n\"CJ Vergara\",\n{\n            'v': 1,\n            'f': \"1\",\n        }],\n [{\n            'v': 10,\n            'f': \"10\",\n        },\n\"Mike Jackson\",\n\"Pete Rodriguez\",\n{\n            'v': 1,\n            'f': \"1\",\n        }]],\n        columns: [[\"number\", \"index\"], [\"string\", \"fighter1_name\"], [\"string\", \"fighter2_name\"], [\"number\", \"0\"]],\n        columnOptions: [{\"width\": \"1px\", \"className\": \"index_column\"}],\n        rowsPerPage: 25,\n        helpUrl: \"https://colab.research.google.com/notebooks/data_table.ipynb\",\n        suppressOutputScrolling: true,\n        minimumWidth: undefined,\n      });\n    "
          },
          "metadata": {},
          "execution_count": 45
        }
      ]
    },
    {
      "cell_type": "code",
      "source": [
        "data1"
      ],
      "metadata": {
        "id": "TgiYjxaUh4lw"
      },
      "execution_count": null,
      "outputs": []
    },
    {
      "cell_type": "code",
      "source": [
        "X"
      ],
      "metadata": {
        "id": "RZxTKbqpmqlJ"
      },
      "execution_count": null,
      "outputs": []
    }
  ]
}